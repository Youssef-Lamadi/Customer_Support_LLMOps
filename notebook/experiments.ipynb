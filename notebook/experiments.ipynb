{
 "cells": [
  {
   "cell_type": "code",
   "execution_count": 33,
   "id": "0b7484bc",
   "metadata": {},
   "outputs": [
    {
     "data": {
      "text/plain": [
       "'c:\\\\Users\\\\em\\\\Desktop\\\\PFA\\\\Customer_Support_LLMOps'"
      ]
     },
     "execution_count": 33,
     "metadata": {},
     "output_type": "execute_result"
    }
   ],
   "source": [
    "%pwd"
   ]
  },
  {
   "cell_type": "code",
   "execution_count": 4,
   "id": "7f2c24a8",
   "metadata": {},
   "outputs": [
    {
     "data": {
      "text/plain": [
       "'c:\\\\Users\\\\em\\\\Desktop\\\\PFA\\\\Customer_Support_LLMOps'"
      ]
     },
     "execution_count": 4,
     "metadata": {},
     "output_type": "execute_result"
    }
   ],
   "source": [
    "import os \n",
    "os.chdir(\"../\")\n",
    "\n",
    "%pwd"
   ]
  },
  {
   "cell_type": "code",
   "execution_count": 34,
   "id": "49bd3aa8",
   "metadata": {},
   "outputs": [],
   "source": [
    "from langchain.document_loaders import PyPDFLoader, DirectoryLoader\n",
    "from langchain.text_splitter import RecursiveCharacterTextSplitter"
   ]
  },
  {
   "cell_type": "code",
   "execution_count": 35,
   "id": "6a91ab9f",
   "metadata": {},
   "outputs": [],
   "source": [
    "# Extract text from PDF files\n",
    "def load_pdf_files(data):\n",
    "    loader = DirectoryLoader(\n",
    "        data,                  # path to the folder containing PDF files\n",
    "        glob=\"*.pdf\",          # load only files ending with .pdf\n",
    "        loader_cls=PyPDFLoader # use PyPDFLoader for each file\n",
    "    )\n",
    "\n",
    "    documents = loader.load()\n",
    "    return documents"
   ]
  },
  {
   "cell_type": "code",
   "execution_count": 36,
   "id": "6f51154d",
   "metadata": {},
   "outputs": [
    {
     "data": {
      "text/plain": [
       "[Document(metadata={'producer': 'ReportLab PDF Library - www.reportlab.com', 'creator': '(unspecified)', 'creationdate': '2025-08-13T21:14:05+00:00', 'author': '(anonymous)', 'keywords': '', 'moddate': '2025-08-13T21:14:05+00:00', 'subject': '(unspecified)', 'title': '(anonymous)', 'trapped': '/False', 'source': 'data\\\\CODNetwork_Complete_Updated.pdf', 'total_pages': 4, 'page': 0, 'page_label': '1'}, page_content=\"CODNetwork\\nWe Enable Everyone to Start Grow and Scale Ecommerce Business in\\nthe Middle East, Africa and Beyond.\\nSourcing Fulfillment Call-Center Warehousing Shipping Remittance\\n Join us today!\\nYou can join us today by choosing the model that suits you. We offer both Seller and Affiliate\\nmodels.\\nCODNetwork Seller :\\nStart selling your own products and goods in multiple countries in MENA region by taking\\nadvantage of our services. Transform Your Cash on Delivery Business with COD Network Services.\\nFrom sourcing to delivery, we manage your business needs securely, efficiently, and globally.\\nOur Solutions\\nEnabling online sellers with efficient, quality-focused procurement to delivery solutions, freeing you\\nto innovate and market.\\nAccount Manager\\nYour Ultimate Partner in Business Growth. With an Account Manager at COD Network, reach your\\ngoals effortlessly. We enhance your sales and delivery rate, provide expert guidance on sourcing\\nproducts, keep you updated with instant news, and inspire you to push boundaries, paving the way\\nfor your business's consistent growth.\"),\n",
       " Document(metadata={'producer': 'ReportLab PDF Library - www.reportlab.com', 'creator': '(unspecified)', 'creationdate': '2025-08-13T21:14:05+00:00', 'author': '(anonymous)', 'keywords': '', 'moddate': '2025-08-13T21:14:05+00:00', 'subject': '(unspecified)', 'title': '(anonymous)', 'trapped': '/False', 'source': 'data\\\\CODNetwork_Complete_Updated.pdf', 'total_pages': 4, 'page': 1, 'page_label': '2'}, page_content=\"How it works?\\nHow it Works? An all-in-one digital platform that allows full visibility of the entire e-commerce selling\\ncycle from Sourcing, e-fulfillment, order confirmation, delivery, Payment processing, Collection and\\nmerchants digital wallets. 1. Connect your Ecommerce website into COD Network COD network\\nconnects you to various ecommerce platforms and marketplaces. Worry free integration, you can\\neither use our user-interface or integrate with APIs. 2. Let us source your inventory or collect it from\\nyour desired location We take care of quality control, freight options and custom clearance, hassle\\nfree. We can manufacture, source or ship your inventory from our network of suppliers around the\\nworld to one of our warehouses, door to door. 3. Start your online sales! When you receive an order\\nthrough one of the integrated sales channels, it is automatically imported into the COD network\\nplatform. Fast, free, error free. However, you can enter the order manually or via a CSV file. 4.\\nConfirm your order via our call center We can manage 100% of your order taking service needs,\\nstarting from the lead coming from your sales channel until the sale is done and confirmed. 5. Get\\nyour order picked, packed and ready to dispatch The minute your order is confirmed, it gets\\nforwarded to be picked, packed and dispatched to the correct courier. 6. Track your order delivery\\nGet everything you need to know to track your package. You can track by tracking number and\\nreference number as well as view shipping history. 7. Receive payment for your delivered orders\\nWe collect the payment from your customer, then remit you the payment. We can send you your\\nmoney anywhere you are in the world.\\nStep 1 Create account Initiate your account setup. Once your account undergoes our review\\nprocess, a dedicated account manager will be assigned.\\nStep 2 Product Sourcing Following your successful product research, you're now prepared to order\\nyour inventory and connect your store to the COD Network.\\nStep 3 Market & Earn Expand your marketing efforts and commence selling your products; you'll\\nreceive payments for your invoices on a weekly basis.\\nCODNetwork Affiliate:\"),\n",
       " Document(metadata={'producer': 'ReportLab PDF Library - www.reportlab.com', 'creator': '(unspecified)', 'creationdate': '2025-08-13T21:14:05+00:00', 'author': '(anonymous)', 'keywords': '', 'moddate': '2025-08-13T21:14:05+00:00', 'subject': '(unspecified)', 'title': '(anonymous)', 'trapped': '/False', 'source': 'data\\\\CODNetwork_Complete_Updated.pdf', 'total_pages': 4, 'page': 2, 'page_label': '3'}, page_content='Promote different offers and products listed on our platform and receive important commissions.\\nIncrease your profits with the first Cash On Delivery affiliate network in North Africa and the Middle\\nEast. Register, Promote Offers and Earn Attractive Commissions.\\n Why Should You Join Us Today?\\nSmall Capital: A project that generates profits with a small capital investment. Just Focus on\\nMarketing: Spread your ads across both free and paid platforms. High Net Profit Margin: Impressive\\nnet profits from thousands of available offers and products.\\nWhere to Promote?\\nOur service is currently available in the GCC countries, Morocco, and West Africa. We are\\nexpanding to Europe in the near future. Our expertise enables you to enter markets with a high\\npurchasing power, resulting in a high rate of order confirmations and deliveries. Saudi Arabia,\\nQatar, Kuwait, Oman, United Arab Emirates, Bahrain, Senegal, Morocco, Mali, Ivory Coast, India\\n Quick and easy steps to earn through our affiliate\\n programs\\n1. Create an Account: Create an account on the Affiliate platform by filling out the registration form.\\n2. Choose offers: Among the many offers in different industries, pick the ones that suit you. 3.\\nPromote Products: Use referral links or link your store to the platform to access millions of potential\\ncustomers. 4. Earn commission: Earn the commission on confirmed or delivered orders.'),\n",
       " Document(metadata={'producer': 'ReportLab PDF Library - www.reportlab.com', 'creator': '(unspecified)', 'creationdate': '2025-08-13T21:14:05+00:00', 'author': '(anonymous)', 'keywords': '', 'moddate': '2025-08-13T21:14:05+00:00', 'subject': '(unspecified)', 'title': '(anonymous)', 'trapped': '/False', 'source': 'data\\\\CODNetwork_Complete_Updated.pdf', 'total_pages': 4, 'page': 3, 'page_label': '4'}, page_content=\"We support various Store Platforms\\nLeadpages, Youcan, WooCommerce, Shopify\\nFor more information contact us:\\nsupport@cod.network\\nTutorials\\nHow to Connect Youcan Store to Affiliate Platform?\\nhttps://www.youtube.com/watch?v=nqVXcaKaFsY How to Setup Landing Pages?\\nhttps://www.youtube.com/watch?v=vQL2GmjM_xQ How to connect domain name?\\nhttps://www.youtube.com/watch?v=DnfHlxDLGBA How to Connect WooCommerce with Affiliate\\nPlatform? https://www.youtube.com/watch?v=lcEt8mFAq-M\\nAn all-in-one digital platform\\nCOD Network's Affiliate platform is a service that allows you to sell products without having capital\\nto buy the commodity wholesale. We provide all services from importing goods, call centers,\\nwarehousing, shipping and collecting funds and sending them to our client accounts. We help\\npeople achieve and earn highly profitable commissions through their marketing of the products we\\nmake available to them on the Affiliate website.\"),\n",
       " Document(metadata={'producer': 'ReportLab PDF Library - www.reportlab.com', 'creator': '(unspecified)', 'creationdate': '2025-08-13T21:03:42+00:00', 'author': '(anonymous)', 'keywords': '', 'moddate': '2025-08-13T21:03:42+00:00', 'subject': '(unspecified)', 'title': '(anonymous)', 'trapped': '/False', 'source': 'data\\\\CODNetwork_Info.pdf', 'total_pages': 2, 'page': 0, 'page_label': '1'}, page_content=\"CODNetwork We Enable Everyone to Start Grow and Scale Ecommerce Business in the Middle\\nEast, Africa and Beyond.\\nSourcing Fulfillment Call-Center Warehousing Shipping Remittance\\nJoin us today! You can join us today by choosing the model that suits you. We offer both Seller and\\nAffiliate models.\\nCODNetwork Seller : Start selling your own products and goods in multiple countries in MENA\\nregion by taking advantage of our services. Transform Your Cash on Delivery Business with COD\\nNetwork Services From sourcing to delivery, we manage your business needs securely, efficiently,\\nand globally. Our Solutions Enabling online sellers with efficient, quality-focused procurement to\\ndelivery solutions, freeing you to innovate and market.\\nAccount Manager Your Ultimate Partner in Business Growth With an Account Manager at COD\\nNetwork, reach your goals effortlessly. We enhance your sales and delivery rate, provide expert\\nguidance on sourcing products, keep you updated with instant news, and inspire you to push\\nboundaries, paving the way for your business's consistent growth.\\nHow it works? Step 1 Create account Initiate your account setup. Once your account undergoes our\\nreview process, a dedicated account manager will be assigned.\\nStep 2 Product Sourcing Following your successful product research, you're now prepared to order\\nyour inventory and connect your store to the COD Network.\\nStep 3 Market & Earn Expand your marketing efforts and commence selling your products; you'll\\nreceive payments for your invoices on a weekly basis. CODNetwork Affeliate: Promote different\\noffers and products listed on our platform and receive important commissions.\\nIncrease your profits with the first Cash On Delivery affiliate network in North Africa and the Middle\\nEast Register, Promote Offers and Earn Attractive Commissions\\nWhy Should You Join Us Today? Bulb icon Small Capital A project that generates profits with a\\nsmall capital investment.\\nAward icon Just Focus on Marketing Spread your ads across both free and paid platforms.\\nTeam icon High Net Profit Margin Impressive net profits from thousands of available offers and\\nproducts.\\nWhere to Promote? Our service is currently available in the GCC countries, Morocco, and West\\nAfrica. We are expanding to Europe in the near future. Our expertise enables you to enter markets\\nwith a high purchasing power, resulting in a high rate of order confirmations and deliveries.\\nSaudi Arabia Qatar Kuwait Oman United Arab Emirates Bahrain Senegal Morocco Mali Ivory Coast\\nIndia\\nQuick and easy steps to earn through our affiliate programs 1 Create an Account Create an account\\non the Affiliate platform by filling out the registration form.\\n2 Choose offers Among the many offers in different industries, pick the ones that suit you.\\n3 Promote Products Use referral links or link your store to the platform to access millions of\\npotential customers.\\n4 Earn commission Earn the commission on confirmed or delivered orders.\"),\n",
       " Document(metadata={'producer': 'ReportLab PDF Library - www.reportlab.com', 'creator': '(unspecified)', 'creationdate': '2025-08-13T21:03:42+00:00', 'author': '(anonymous)', 'keywords': '', 'moddate': '2025-08-13T21:03:42+00:00', 'subject': '(unspecified)', 'title': '(anonymous)', 'trapped': '/False', 'source': 'data\\\\CODNetwork_Info.pdf', 'total_pages': 2, 'page': 1, 'page_label': '2'}, page_content=\"We support various Store Platforms leadpages Youcan Woocommerce shopify\\nFor more informations contact us: support@cod.network\\nTutorials\\nHow to Connect Youcan Store to Affiliate Platform?\\nhttps://www.youtube.com/watch?v=nqVXcaKaFsY\\nHow to Setup Landing Pages? https://www.youtube.com/watch?v=vQL2GmjM_xQ\\nHow to connect domain name? https://www.youtube.com/watch?v=DnfHlxDLGBA\\nHow to Connect WooCommerce with Affiliate Platform?\\nhttps://www.youtube.com/watch?v=lcEt8mFAq-M\\nAn all-in-one digital platform COD Network's Affiliate platform is a service that allows you to sell\\nproducts without having capital to buy the commodity wholesale. We provide all services from\\nimporting goods, call centers, warehousing, shipping and collecting funds and sending them to our\\nclient accounts.\\nWe help people achieve and earn highly profitable commissions through their marketing of the\\nproducts we make available to them on the Affiliate website.\")]"
      ]
     },
     "execution_count": 36,
     "metadata": {},
     "output_type": "execute_result"
    }
   ],
   "source": [
    "extracted_data = load_pdf_files(\"data\")\n",
    "extracted_data"
   ]
  },
  {
   "cell_type": "code",
   "execution_count": 37,
   "id": "7439337a",
   "metadata": {},
   "outputs": [
    {
     "data": {
      "text/plain": [
       "6"
      ]
     },
     "execution_count": 37,
     "metadata": {},
     "output_type": "execute_result"
    }
   ],
   "source": [
    "len(extracted_data)"
   ]
  },
  {
   "cell_type": "code",
   "execution_count": 38,
   "id": "5386f2f3",
   "metadata": {},
   "outputs": [],
   "source": [
    "from typing import List\n",
    "from langchain.schema import Document\n",
    "\n",
    "def filter_to_minimal_docs(docs: List[Document]) -> List[Document]:\n",
    "    \"\"\"\n",
    "    Given a list of Document objects, return a new list of Document objects\n",
    "    containing only 'source' in metadata and the original page_content.\n",
    "    \"\"\"\n",
    "    minimal_docs: List[Document] = []\n",
    "    for doc in docs:\n",
    "        src = doc.metadata.get(\"source\")\n",
    "        minimal_docs.append(\n",
    "            Document(\n",
    "                page_content=doc.page_content,\n",
    "                metadata={\"source\": src}\n",
    "            )\n",
    "        )\n",
    "    return minimal_docs"
   ]
  },
  {
   "cell_type": "code",
   "execution_count": 39,
   "id": "120e22e8",
   "metadata": {},
   "outputs": [
    {
     "data": {
      "text/plain": [
       "[Document(metadata={'source': 'data\\\\CODNetwork_Complete_Updated.pdf'}, page_content=\"CODNetwork\\nWe Enable Everyone to Start Grow and Scale Ecommerce Business in\\nthe Middle East, Africa and Beyond.\\nSourcing Fulfillment Call-Center Warehousing Shipping Remittance\\n Join us today!\\nYou can join us today by choosing the model that suits you. We offer both Seller and Affiliate\\nmodels.\\nCODNetwork Seller :\\nStart selling your own products and goods in multiple countries in MENA region by taking\\nadvantage of our services. Transform Your Cash on Delivery Business with COD Network Services.\\nFrom sourcing to delivery, we manage your business needs securely, efficiently, and globally.\\nOur Solutions\\nEnabling online sellers with efficient, quality-focused procurement to delivery solutions, freeing you\\nto innovate and market.\\nAccount Manager\\nYour Ultimate Partner in Business Growth. With an Account Manager at COD Network, reach your\\ngoals effortlessly. We enhance your sales and delivery rate, provide expert guidance on sourcing\\nproducts, keep you updated with instant news, and inspire you to push boundaries, paving the way\\nfor your business's consistent growth.\"),\n",
       " Document(metadata={'source': 'data\\\\CODNetwork_Complete_Updated.pdf'}, page_content=\"How it works?\\nHow it Works? An all-in-one digital platform that allows full visibility of the entire e-commerce selling\\ncycle from Sourcing, e-fulfillment, order confirmation, delivery, Payment processing, Collection and\\nmerchants digital wallets. 1. Connect your Ecommerce website into COD Network COD network\\nconnects you to various ecommerce platforms and marketplaces. Worry free integration, you can\\neither use our user-interface or integrate with APIs. 2. Let us source your inventory or collect it from\\nyour desired location We take care of quality control, freight options and custom clearance, hassle\\nfree. We can manufacture, source or ship your inventory from our network of suppliers around the\\nworld to one of our warehouses, door to door. 3. Start your online sales! When you receive an order\\nthrough one of the integrated sales channels, it is automatically imported into the COD network\\nplatform. Fast, free, error free. However, you can enter the order manually or via a CSV file. 4.\\nConfirm your order via our call center We can manage 100% of your order taking service needs,\\nstarting from the lead coming from your sales channel until the sale is done and confirmed. 5. Get\\nyour order picked, packed and ready to dispatch The minute your order is confirmed, it gets\\nforwarded to be picked, packed and dispatched to the correct courier. 6. Track your order delivery\\nGet everything you need to know to track your package. You can track by tracking number and\\nreference number as well as view shipping history. 7. Receive payment for your delivered orders\\nWe collect the payment from your customer, then remit you the payment. We can send you your\\nmoney anywhere you are in the world.\\nStep 1 Create account Initiate your account setup. Once your account undergoes our review\\nprocess, a dedicated account manager will be assigned.\\nStep 2 Product Sourcing Following your successful product research, you're now prepared to order\\nyour inventory and connect your store to the COD Network.\\nStep 3 Market & Earn Expand your marketing efforts and commence selling your products; you'll\\nreceive payments for your invoices on a weekly basis.\\nCODNetwork Affiliate:\"),\n",
       " Document(metadata={'source': 'data\\\\CODNetwork_Complete_Updated.pdf'}, page_content='Promote different offers and products listed on our platform and receive important commissions.\\nIncrease your profits with the first Cash On Delivery affiliate network in North Africa and the Middle\\nEast. Register, Promote Offers and Earn Attractive Commissions.\\n Why Should You Join Us Today?\\nSmall Capital: A project that generates profits with a small capital investment. Just Focus on\\nMarketing: Spread your ads across both free and paid platforms. High Net Profit Margin: Impressive\\nnet profits from thousands of available offers and products.\\nWhere to Promote?\\nOur service is currently available in the GCC countries, Morocco, and West Africa. We are\\nexpanding to Europe in the near future. Our expertise enables you to enter markets with a high\\npurchasing power, resulting in a high rate of order confirmations and deliveries. Saudi Arabia,\\nQatar, Kuwait, Oman, United Arab Emirates, Bahrain, Senegal, Morocco, Mali, Ivory Coast, India\\n Quick and easy steps to earn through our affiliate\\n programs\\n1. Create an Account: Create an account on the Affiliate platform by filling out the registration form.\\n2. Choose offers: Among the many offers in different industries, pick the ones that suit you. 3.\\nPromote Products: Use referral links or link your store to the platform to access millions of potential\\ncustomers. 4. Earn commission: Earn the commission on confirmed or delivered orders.'),\n",
       " Document(metadata={'source': 'data\\\\CODNetwork_Complete_Updated.pdf'}, page_content=\"We support various Store Platforms\\nLeadpages, Youcan, WooCommerce, Shopify\\nFor more information contact us:\\nsupport@cod.network\\nTutorials\\nHow to Connect Youcan Store to Affiliate Platform?\\nhttps://www.youtube.com/watch?v=nqVXcaKaFsY How to Setup Landing Pages?\\nhttps://www.youtube.com/watch?v=vQL2GmjM_xQ How to connect domain name?\\nhttps://www.youtube.com/watch?v=DnfHlxDLGBA How to Connect WooCommerce with Affiliate\\nPlatform? https://www.youtube.com/watch?v=lcEt8mFAq-M\\nAn all-in-one digital platform\\nCOD Network's Affiliate platform is a service that allows you to sell products without having capital\\nto buy the commodity wholesale. We provide all services from importing goods, call centers,\\nwarehousing, shipping and collecting funds and sending them to our client accounts. We help\\npeople achieve and earn highly profitable commissions through their marketing of the products we\\nmake available to them on the Affiliate website.\"),\n",
       " Document(metadata={'source': 'data\\\\CODNetwork_Info.pdf'}, page_content=\"CODNetwork We Enable Everyone to Start Grow and Scale Ecommerce Business in the Middle\\nEast, Africa and Beyond.\\nSourcing Fulfillment Call-Center Warehousing Shipping Remittance\\nJoin us today! You can join us today by choosing the model that suits you. We offer both Seller and\\nAffiliate models.\\nCODNetwork Seller : Start selling your own products and goods in multiple countries in MENA\\nregion by taking advantage of our services. Transform Your Cash on Delivery Business with COD\\nNetwork Services From sourcing to delivery, we manage your business needs securely, efficiently,\\nand globally. Our Solutions Enabling online sellers with efficient, quality-focused procurement to\\ndelivery solutions, freeing you to innovate and market.\\nAccount Manager Your Ultimate Partner in Business Growth With an Account Manager at COD\\nNetwork, reach your goals effortlessly. We enhance your sales and delivery rate, provide expert\\nguidance on sourcing products, keep you updated with instant news, and inspire you to push\\nboundaries, paving the way for your business's consistent growth.\\nHow it works? Step 1 Create account Initiate your account setup. Once your account undergoes our\\nreview process, a dedicated account manager will be assigned.\\nStep 2 Product Sourcing Following your successful product research, you're now prepared to order\\nyour inventory and connect your store to the COD Network.\\nStep 3 Market & Earn Expand your marketing efforts and commence selling your products; you'll\\nreceive payments for your invoices on a weekly basis. CODNetwork Affeliate: Promote different\\noffers and products listed on our platform and receive important commissions.\\nIncrease your profits with the first Cash On Delivery affiliate network in North Africa and the Middle\\nEast Register, Promote Offers and Earn Attractive Commissions\\nWhy Should You Join Us Today? Bulb icon Small Capital A project that generates profits with a\\nsmall capital investment.\\nAward icon Just Focus on Marketing Spread your ads across both free and paid platforms.\\nTeam icon High Net Profit Margin Impressive net profits from thousands of available offers and\\nproducts.\\nWhere to Promote? Our service is currently available in the GCC countries, Morocco, and West\\nAfrica. We are expanding to Europe in the near future. Our expertise enables you to enter markets\\nwith a high purchasing power, resulting in a high rate of order confirmations and deliveries.\\nSaudi Arabia Qatar Kuwait Oman United Arab Emirates Bahrain Senegal Morocco Mali Ivory Coast\\nIndia\\nQuick and easy steps to earn through our affiliate programs 1 Create an Account Create an account\\non the Affiliate platform by filling out the registration form.\\n2 Choose offers Among the many offers in different industries, pick the ones that suit you.\\n3 Promote Products Use referral links or link your store to the platform to access millions of\\npotential customers.\\n4 Earn commission Earn the commission on confirmed or delivered orders.\"),\n",
       " Document(metadata={'source': 'data\\\\CODNetwork_Info.pdf'}, page_content=\"We support various Store Platforms leadpages Youcan Woocommerce shopify\\nFor more informations contact us: support@cod.network\\nTutorials\\nHow to Connect Youcan Store to Affiliate Platform?\\nhttps://www.youtube.com/watch?v=nqVXcaKaFsY\\nHow to Setup Landing Pages? https://www.youtube.com/watch?v=vQL2GmjM_xQ\\nHow to connect domain name? https://www.youtube.com/watch?v=DnfHlxDLGBA\\nHow to Connect WooCommerce with Affiliate Platform?\\nhttps://www.youtube.com/watch?v=lcEt8mFAq-M\\nAn all-in-one digital platform COD Network's Affiliate platform is a service that allows you to sell\\nproducts without having capital to buy the commodity wholesale. We provide all services from\\nimporting goods, call centers, warehousing, shipping and collecting funds and sending them to our\\nclient accounts.\\nWe help people achieve and earn highly profitable commissions through their marketing of the\\nproducts we make available to them on the Affiliate website.\")]"
      ]
     },
     "execution_count": 39,
     "metadata": {},
     "output_type": "execute_result"
    }
   ],
   "source": [
    "minimal_docs = filter_to_minimal_docs(extracted_data)\n",
    "minimal_docs"
   ]
  },
  {
   "cell_type": "markdown",
   "id": "767e19f0",
   "metadata": {},
   "source": [
    "### Split the documents into smaller chunks"
   ]
  },
  {
   "cell_type": "code",
   "execution_count": 40,
   "id": "82f6c767",
   "metadata": {},
   "outputs": [],
   "source": [
    "def text_split(minimal_docs):\n",
    "    text_splitter = RecursiveCharacterTextSplitter(\n",
    "        chunk_size=500,\n",
    "        chunk_overlap=20,\n",
    "    )\n",
    "    texts_chunk = text_splitter.split_documents(minimal_docs)\n",
    "    return texts_chunk"
   ]
  },
  {
   "cell_type": "code",
   "execution_count": 41,
   "id": "e3a83863",
   "metadata": {},
   "outputs": [
    {
     "name": "stdout",
     "output_type": "stream",
     "text": [
      "Number of chunks: 22\n"
     ]
    },
    {
     "data": {
      "text/plain": [
       "[Document(metadata={'source': 'data\\\\CODNetwork_Complete_Updated.pdf'}, page_content='CODNetwork\\nWe Enable Everyone to Start Grow and Scale Ecommerce Business in\\nthe Middle East, Africa and Beyond.\\nSourcing Fulfillment Call-Center Warehousing Shipping Remittance\\n Join us today!\\nYou can join us today by choosing the model that suits you. We offer both Seller and Affiliate\\nmodels.\\nCODNetwork Seller :\\nStart selling your own products and goods in multiple countries in MENA region by taking\\nadvantage of our services. Transform Your Cash on Delivery Business with COD Network Services.'),\n",
       " Document(metadata={'source': 'data\\\\CODNetwork_Complete_Updated.pdf'}, page_content='From sourcing to delivery, we manage your business needs securely, efficiently, and globally.\\nOur Solutions\\nEnabling online sellers with efficient, quality-focused procurement to delivery solutions, freeing you\\nto innovate and market.\\nAccount Manager\\nYour Ultimate Partner in Business Growth. With an Account Manager at COD Network, reach your\\ngoals effortlessly. We enhance your sales and delivery rate, provide expert guidance on sourcing'),\n",
       " Document(metadata={'source': 'data\\\\CODNetwork_Complete_Updated.pdf'}, page_content=\"products, keep you updated with instant news, and inspire you to push boundaries, paving the way\\nfor your business's consistent growth.\"),\n",
       " Document(metadata={'source': 'data\\\\CODNetwork_Complete_Updated.pdf'}, page_content='How it works?\\nHow it Works? An all-in-one digital platform that allows full visibility of the entire e-commerce selling\\ncycle from Sourcing, e-fulfillment, order confirmation, delivery, Payment processing, Collection and\\nmerchants digital wallets. 1. Connect your Ecommerce website into COD Network COD network\\nconnects you to various ecommerce platforms and marketplaces. Worry free integration, you can'),\n",
       " Document(metadata={'source': 'data\\\\CODNetwork_Complete_Updated.pdf'}, page_content='either use our user-interface or integrate with APIs. 2. Let us source your inventory or collect it from\\nyour desired location We take care of quality control, freight options and custom clearance, hassle\\nfree. We can manufacture, source or ship your inventory from our network of suppliers around the\\nworld to one of our warehouses, door to door. 3. Start your online sales! When you receive an order\\nthrough one of the integrated sales channels, it is automatically imported into the COD network'),\n",
       " Document(metadata={'source': 'data\\\\CODNetwork_Complete_Updated.pdf'}, page_content='platform. Fast, free, error free. However, you can enter the order manually or via a CSV file. 4.\\nConfirm your order via our call center We can manage 100% of your order taking service needs,\\nstarting from the lead coming from your sales channel until the sale is done and confirmed. 5. Get\\nyour order picked, packed and ready to dispatch The minute your order is confirmed, it gets\\nforwarded to be picked, packed and dispatched to the correct courier. 6. Track your order delivery'),\n",
       " Document(metadata={'source': 'data\\\\CODNetwork_Complete_Updated.pdf'}, page_content='Get everything you need to know to track your package. You can track by tracking number and\\nreference number as well as view shipping history. 7. Receive payment for your delivered orders\\nWe collect the payment from your customer, then remit you the payment. We can send you your\\nmoney anywhere you are in the world.\\nStep 1 Create account Initiate your account setup. Once your account undergoes our review\\nprocess, a dedicated account manager will be assigned.'),\n",
       " Document(metadata={'source': 'data\\\\CODNetwork_Complete_Updated.pdf'}, page_content=\"Step 2 Product Sourcing Following your successful product research, you're now prepared to order\\nyour inventory and connect your store to the COD Network.\\nStep 3 Market & Earn Expand your marketing efforts and commence selling your products; you'll\\nreceive payments for your invoices on a weekly basis.\\nCODNetwork Affiliate:\"),\n",
       " Document(metadata={'source': 'data\\\\CODNetwork_Complete_Updated.pdf'}, page_content='Promote different offers and products listed on our platform and receive important commissions.\\nIncrease your profits with the first Cash On Delivery affiliate network in North Africa and the Middle\\nEast. Register, Promote Offers and Earn Attractive Commissions.\\n Why Should You Join Us Today?\\nSmall Capital: A project that generates profits with a small capital investment. Just Focus on\\nMarketing: Spread your ads across both free and paid platforms. High Net Profit Margin: Impressive'),\n",
       " Document(metadata={'source': 'data\\\\CODNetwork_Complete_Updated.pdf'}, page_content='net profits from thousands of available offers and products.\\nWhere to Promote?\\nOur service is currently available in the GCC countries, Morocco, and West Africa. We are\\nexpanding to Europe in the near future. Our expertise enables you to enter markets with a high\\npurchasing power, resulting in a high rate of order confirmations and deliveries. Saudi Arabia,\\nQatar, Kuwait, Oman, United Arab Emirates, Bahrain, Senegal, Morocco, Mali, Ivory Coast, India'),\n",
       " Document(metadata={'source': 'data\\\\CODNetwork_Complete_Updated.pdf'}, page_content='Quick and easy steps to earn through our affiliate\\n programs\\n1. Create an Account: Create an account on the Affiliate platform by filling out the registration form.\\n2. Choose offers: Among the many offers in different industries, pick the ones that suit you. 3.\\nPromote Products: Use referral links or link your store to the platform to access millions of potential\\ncustomers. 4. Earn commission: Earn the commission on confirmed or delivered orders.'),\n",
       " Document(metadata={'source': 'data\\\\CODNetwork_Complete_Updated.pdf'}, page_content='We support various Store Platforms\\nLeadpages, Youcan, WooCommerce, Shopify\\nFor more information contact us:\\nsupport@cod.network\\nTutorials\\nHow to Connect Youcan Store to Affiliate Platform?\\nhttps://www.youtube.com/watch?v=nqVXcaKaFsY How to Setup Landing Pages?\\nhttps://www.youtube.com/watch?v=vQL2GmjM_xQ How to connect domain name?\\nhttps://www.youtube.com/watch?v=DnfHlxDLGBA How to Connect WooCommerce with Affiliate\\nPlatform? https://www.youtube.com/watch?v=lcEt8mFAq-M'),\n",
       " Document(metadata={'source': 'data\\\\CODNetwork_Complete_Updated.pdf'}, page_content=\"An all-in-one digital platform\\nCOD Network's Affiliate platform is a service that allows you to sell products without having capital\\nto buy the commodity wholesale. We provide all services from importing goods, call centers,\\nwarehousing, shipping and collecting funds and sending them to our client accounts. We help\\npeople achieve and earn highly profitable commissions through their marketing of the products we\\nmake available to them on the Affiliate website.\"),\n",
       " Document(metadata={'source': 'data\\\\CODNetwork_Info.pdf'}, page_content='CODNetwork We Enable Everyone to Start Grow and Scale Ecommerce Business in the Middle\\nEast, Africa and Beyond.\\nSourcing Fulfillment Call-Center Warehousing Shipping Remittance\\nJoin us today! You can join us today by choosing the model that suits you. We offer both Seller and\\nAffiliate models.\\nCODNetwork Seller : Start selling your own products and goods in multiple countries in MENA\\nregion by taking advantage of our services. Transform Your Cash on Delivery Business with COD'),\n",
       " Document(metadata={'source': 'data\\\\CODNetwork_Info.pdf'}, page_content='Network Services From sourcing to delivery, we manage your business needs securely, efficiently,\\nand globally. Our Solutions Enabling online sellers with efficient, quality-focused procurement to\\ndelivery solutions, freeing you to innovate and market.\\nAccount Manager Your Ultimate Partner in Business Growth With an Account Manager at COD\\nNetwork, reach your goals effortlessly. We enhance your sales and delivery rate, provide expert'),\n",
       " Document(metadata={'source': 'data\\\\CODNetwork_Info.pdf'}, page_content=\"guidance on sourcing products, keep you updated with instant news, and inspire you to push\\nboundaries, paving the way for your business's consistent growth.\\nHow it works? Step 1 Create account Initiate your account setup. Once your account undergoes our\\nreview process, a dedicated account manager will be assigned.\\nStep 2 Product Sourcing Following your successful product research, you're now prepared to order\\nyour inventory and connect your store to the COD Network.\"),\n",
       " Document(metadata={'source': 'data\\\\CODNetwork_Info.pdf'}, page_content=\"Step 3 Market & Earn Expand your marketing efforts and commence selling your products; you'll\\nreceive payments for your invoices on a weekly basis. CODNetwork Affeliate: Promote different\\noffers and products listed on our platform and receive important commissions.\\nIncrease your profits with the first Cash On Delivery affiliate network in North Africa and the Middle\\nEast Register, Promote Offers and Earn Attractive Commissions\"),\n",
       " Document(metadata={'source': 'data\\\\CODNetwork_Info.pdf'}, page_content='Why Should You Join Us Today? Bulb icon Small Capital A project that generates profits with a\\nsmall capital investment.\\nAward icon Just Focus on Marketing Spread your ads across both free and paid platforms.\\nTeam icon High Net Profit Margin Impressive net profits from thousands of available offers and\\nproducts.\\nWhere to Promote? Our service is currently available in the GCC countries, Morocco, and West'),\n",
       " Document(metadata={'source': 'data\\\\CODNetwork_Info.pdf'}, page_content='Africa. We are expanding to Europe in the near future. Our expertise enables you to enter markets\\nwith a high purchasing power, resulting in a high rate of order confirmations and deliveries.\\nSaudi Arabia Qatar Kuwait Oman United Arab Emirates Bahrain Senegal Morocco Mali Ivory Coast\\nIndia\\nQuick and easy steps to earn through our affiliate programs 1 Create an Account Create an account\\non the Affiliate platform by filling out the registration form.'),\n",
       " Document(metadata={'source': 'data\\\\CODNetwork_Info.pdf'}, page_content='2 Choose offers Among the many offers in different industries, pick the ones that suit you.\\n3 Promote Products Use referral links or link your store to the platform to access millions of\\npotential customers.\\n4 Earn commission Earn the commission on confirmed or delivered orders.'),\n",
       " Document(metadata={'source': 'data\\\\CODNetwork_Info.pdf'}, page_content='We support various Store Platforms leadpages Youcan Woocommerce shopify\\nFor more informations contact us: support@cod.network\\nTutorials\\nHow to Connect Youcan Store to Affiliate Platform?\\nhttps://www.youtube.com/watch?v=nqVXcaKaFsY\\nHow to Setup Landing Pages? https://www.youtube.com/watch?v=vQL2GmjM_xQ\\nHow to connect domain name? https://www.youtube.com/watch?v=DnfHlxDLGBA\\nHow to Connect WooCommerce with Affiliate Platform?\\nhttps://www.youtube.com/watch?v=lcEt8mFAq-M'),\n",
       " Document(metadata={'source': 'data\\\\CODNetwork_Info.pdf'}, page_content=\"An all-in-one digital platform COD Network's Affiliate platform is a service that allows you to sell\\nproducts without having capital to buy the commodity wholesale. We provide all services from\\nimporting goods, call centers, warehousing, shipping and collecting funds and sending them to our\\nclient accounts.\\nWe help people achieve and earn highly profitable commissions through their marketing of the\\nproducts we make available to them on the Affiliate website.\")]"
      ]
     },
     "execution_count": 41,
     "metadata": {},
     "output_type": "execute_result"
    }
   ],
   "source": [
    "texts_chunk = text_split(minimal_docs)\n",
    "print(f\"Number of chunks: {len(texts_chunk)}\")\n",
    "texts_chunk"
   ]
  },
  {
   "cell_type": "markdown",
   "id": "ba21092b",
   "metadata": {},
   "source": [
    "### embedding model"
   ]
  },
  {
   "cell_type": "code",
   "execution_count": 42,
   "id": "d844b5cd",
   "metadata": {},
   "outputs": [],
   "source": [
    "from langchain_huggingface import HuggingFaceEmbeddings\n",
    "\n",
    "def download_embeddings():\n",
    "    \"\"\"\n",
    "    Download and return the HuggingFace embeddings model.\n",
    "    \"\"\"\n",
    "    model_name = \"sentence-transformers/all-MiniLM-L6-v2\"\n",
    "    embeddings = HuggingFaceEmbeddings(\n",
    "        model_name=model_name\n",
    "    )\n",
    "    return embeddings\n",
    "\n",
    "embedding = download_embeddings()"
   ]
  },
  {
   "cell_type": "code",
   "execution_count": 43,
   "id": "8a1f1fa6",
   "metadata": {},
   "outputs": [
    {
     "data": {
      "text/plain": [
       "HuggingFaceEmbeddings(model_name='sentence-transformers/all-MiniLM-L6-v2', cache_folder=None, model_kwargs={}, encode_kwargs={}, query_encode_kwargs={}, multi_process=False, show_progress=False)"
      ]
     },
     "execution_count": 43,
     "metadata": {},
     "output_type": "execute_result"
    }
   ],
   "source": [
    "embedding"
   ]
  },
  {
   "cell_type": "code",
   "execution_count": 56,
   "id": "f38d61ad",
   "metadata": {},
   "outputs": [],
   "source": [
    "# load the .env file\n",
    "from dotenv import load_dotenv\n",
    "import os\n",
    "load_dotenv()\n",
    "\n",
    "# Access the API keys\n",
    "PINECONE_API_KEY = os.getenv(\"PINECONE_API_KEY\")\n",
    "OPENAI_API_KEY = os.getenv(\"OPENAI_API_KEY\")\n",
    "GOOGLE_API_KEY = os.getenv(\"GOOGLE_API_KEY\")\n",
    "\n",
    "\n",
    "os.environ[\"PINECONE_API_KEY\"] = PINECONE_API_KEY\n",
    "os.environ[\"OPENAI_API_KEY\"] = OPENAI_API_KEY\n",
    "os.environ[\"GOOGLE_API_KEY\"] = GOOGLE_API_KEY"
   ]
  },
  {
   "cell_type": "code",
   "execution_count": 45,
   "id": "138b4a91",
   "metadata": {},
   "outputs": [
    {
     "data": {
      "text/plain": [
       "<pinecone.pinecone.Pinecone at 0x29ca6c94aa0>"
      ]
     },
     "execution_count": 45,
     "metadata": {},
     "output_type": "execute_result"
    }
   ],
   "source": [
    "from pinecone import Pinecone \n",
    "pinecone_api_key = PINECONE_API_KEY\n",
    "\n",
    "pinecone_client = Pinecone(api_key=pinecone_api_key)\n",
    "pinecone_client"
   ]
  },
  {
   "cell_type": "code",
   "execution_count": 46,
   "id": "49ef1980",
   "metadata": {},
   "outputs": [],
   "source": [
    "from pinecone import ServerlessSpec \n",
    "\n",
    "index_name = \"customer-support-chatbot-with-llmops-index\"\n",
    "\n",
    "if not pinecone_client.has_index(index_name):\n",
    "    pinecone_client.create_index(\n",
    "        name = index_name,\n",
    "        dimension=384,                                          # Dimension of the embeddings\n",
    "        metric= \"cosine\",                                       # Cosine similarity\n",
    "        spec=ServerlessSpec(cloud=\"aws\", region=\"us-east-1\")\n",
    "    )\n",
    "\n",
    "\n",
    "index = pinecone_client.Index(index_name)"
   ]
  },
  {
   "cell_type": "code",
   "execution_count": 47,
   "id": "f5f19504",
   "metadata": {},
   "outputs": [],
   "source": [
    "# store our vectors\n",
    "from langchain_pinecone import PineconeVectorStore\n",
    "\n",
    "docsearch = PineconeVectorStore.from_documents(\n",
    "    documents=texts_chunk,\n",
    "    embedding=embedding,\n",
    "    index_name=index_name\n",
    ")\n",
    "\n"
   ]
  },
  {
   "cell_type": "code",
   "execution_count": 48,
   "id": "bf8d7904",
   "metadata": {},
   "outputs": [],
   "source": [
    "# Load Existing index \n",
    "\n",
    "# Embed each chunk and upsert the embeddings into your Pinecone index.\n",
    "docsearch = PineconeVectorStore.from_existing_index(\n",
    "    index_name=index_name,\n",
    "    embedding=embedding\n",
    ")\n"
   ]
  },
  {
   "cell_type": "code",
   "execution_count": 49,
   "id": "ccefce9c",
   "metadata": {},
   "outputs": [
    {
     "data": {
      "text/plain": [
       "[Document(id='ab52ce50-efa5-46fa-972d-33f790e68490', metadata={'source': 'data\\\\CODNetwork_Info.pdf'}, page_content=\"An all-in-one digital platform COD Network's Affiliate platform is a service that allows you to sell\\nproducts without having capital to buy the commodity wholesale. We provide all services from\\nimporting goods, call centers, warehousing, shipping and collecting funds and sending them to our\\nclient accounts.\\nWe help people achieve and earn highly profitable commissions through their marketing of the\\nproducts we make available to them on the Affiliate website.\"),\n",
       " Document(id='e5048b18-850c-4fbf-935f-436c65b58bc0', metadata={'source': 'data\\\\CODNetwork_Complete_Updated.pdf'}, page_content=\"An all-in-one digital platform\\nCOD Network's Affiliate platform is a service that allows you to sell products without having capital\\nto buy the commodity wholesale. We provide all services from importing goods, call centers,\\nwarehousing, shipping and collecting funds and sending them to our client accounts. We help\\npeople achieve and earn highly profitable commissions through their marketing of the products we\\nmake available to them on the Affiliate website.\"),\n",
       " Document(id='09f8c579-7e69-4d8c-b343-53d6dd2ca1e2', metadata={'source': 'c:\\\\Users\\\\em\\\\Desktop\\\\PFA\\\\Customer_Support_LLMOps\\\\data\\\\CODNetwork_Info.pdf'}, page_content=\"An all-in-one digital platform COD Network's Affiliate platform is a service that allows you to sell\\nproducts without having capital to buy the commodity wholesale. We provide all services from\\nimporting goods, call centers, warehousing, shipping and collecting funds and sending them to our\\nclient accounts.\\nWe help people achieve and earn highly profitable commissions through their marketing of the\\nproducts we make available to them on the Affiliate website.\")]"
      ]
     },
     "execution_count": 49,
     "metadata": {},
     "output_type": "execute_result"
    }
   ],
   "source": [
    "# retrieve some documents\n",
    "retriever = docsearch.as_retriever(search_type=\"similarity\", search_kwargs={\"k\":3})\n",
    "retrieved_docs = retriever.invoke(\"What is cod network?\")\n",
    "retrieved_docs"
   ]
  },
  {
   "cell_type": "markdown",
   "id": "4b8732b7",
   "metadata": {},
   "source": [
    "### Refine the response with the LLM model (GPT4)"
   ]
  },
  {
   "cell_type": "code",
   "execution_count": 50,
   "id": "aab5e500",
   "metadata": {},
   "outputs": [],
   "source": [
    "# import the GPT-4o model\n",
    "from langchain_openai import ChatOpenAI\n",
    "\n",
    "chatModel = ChatOpenAI(model=\"gpt-4o-mini\")"
   ]
  },
  {
   "cell_type": "code",
   "execution_count": 51,
   "id": "1302dd6a",
   "metadata": {},
   "outputs": [],
   "source": [
    "from langchain.chains import create_retrieval_chain\n",
    "from langchain.chains.combine_documents import create_stuff_documents_chain\n",
    "from langchain_core.prompts import ChatPromptTemplate"
   ]
  },
  {
   "cell_type": "code",
   "execution_count": 53,
   "id": "1a3fec5a",
   "metadata": {},
   "outputs": [],
   "source": [
    "system_prompt = (\n",
    "    \"You are CODNetwork’s official customer support assistant.\\n\"\n",
    "    \"Provide clear, concise, and polite answers to customer questions.\\n\"\n",
    "    \"Use ONLY the provided context from CODNetwork’s official documentation, FAQs, and product/service descriptions.\\n\"\n",
    "    \"If the answer is not in the context, politely say you don’t have that information and suggest contacting human support.\\n\"\n",
    "    \"Always maintain a professional and friendly tone consistent with CODNetwork’s brand.\\n\"\n",
    "    \"Prioritize accuracy over creativity.\\n\"\n",
    "    \"Never make up information, policies, or offers.\\n\"\n",
    "    \"Use simple language customers can understand.\\n\"\n",
    "    \"If a question is unclear, ask for clarification before answering.\\n\"\n",
    "    \"\\n\\n\"\n",
    "    \"{context}\"\n",
    ")\n",
    "\n",
    "\n",
    "prompt = ChatPromptTemplate.from_messages(\n",
    "    [\n",
    "        (\"system\", system_prompt),\n",
    "        (\"human\", \"{input}\"),\n",
    "    ]\n",
    ")"
   ]
  },
  {
   "cell_type": "code",
   "execution_count": 54,
   "id": "4b8d9f15",
   "metadata": {},
   "outputs": [],
   "source": [
    "question_answer_chain = create_stuff_documents_chain(chatModel, prompt)\n",
    "rag_chain = create_retrieval_chain(retriever, question_answer_chain)"
   ]
  },
  {
   "cell_type": "code",
   "execution_count": 55,
   "id": "2db517f6",
   "metadata": {},
   "outputs": [
    {
     "ename": "AuthenticationError",
     "evalue": "Error code: 401 - {'error': {'message': 'Incorrect API key provided: sk-or-v1*************************************************************2712. You can find your API key at https://platform.openai.com/account/api-keys.', 'type': 'invalid_request_error', 'param': None, 'code': 'invalid_api_key'}}",
     "output_type": "error",
     "traceback": [
      "\u001b[31m---------------------------------------------------------------------------\u001b[39m",
      "\u001b[31mAuthenticationError\u001b[39m                       Traceback (most recent call last)",
      "\u001b[36mCell\u001b[39m\u001b[36m \u001b[39m\u001b[32mIn[55]\u001b[39m\u001b[32m, line 1\u001b[39m\n\u001b[32m----> \u001b[39m\u001b[32m1\u001b[39m response = \u001b[43mrag_chain\u001b[49m\u001b[43m.\u001b[49m\u001b[43minvoke\u001b[49m\u001b[43m(\u001b[49m\u001b[43m{\u001b[49m\u001b[33;43m\"\u001b[39;49m\u001b[33;43minput\u001b[39;49m\u001b[33;43m\"\u001b[39;49m\u001b[43m:\u001b[49m\u001b[43m \u001b[49m\u001b[33;43m\"\u001b[39;49m\u001b[33;43mwhat is codNetwork\u001b[39;49m\u001b[33;43m\"\u001b[39;49m\u001b[43m}\u001b[49m\u001b[43m)\u001b[49m\n\u001b[32m      2\u001b[39m \u001b[38;5;28mprint\u001b[39m(response[\u001b[33m\"\u001b[39m\u001b[33manswer\u001b[39m\u001b[33m\"\u001b[39m])\n",
      "\u001b[36mFile \u001b[39m\u001b[32mc:\\Users\\em\\Desktop\\PFA\\Customer_Support_LLMOps\\llmops_venv\\Lib\\site-packages\\langchain_core\\runnables\\base.py:5441\u001b[39m, in \u001b[36mRunnableBindingBase.invoke\u001b[39m\u001b[34m(self, input, config, **kwargs)\u001b[39m\n\u001b[32m   5434\u001b[39m \u001b[38;5;129m@override\u001b[39m\n\u001b[32m   5435\u001b[39m \u001b[38;5;28;01mdef\u001b[39;00m\u001b[38;5;250m \u001b[39m\u001b[34minvoke\u001b[39m(\n\u001b[32m   5436\u001b[39m     \u001b[38;5;28mself\u001b[39m,\n\u001b[32m   (...)\u001b[39m\u001b[32m   5439\u001b[39m     **kwargs: Optional[Any],\n\u001b[32m   5440\u001b[39m ) -> Output:\n\u001b[32m-> \u001b[39m\u001b[32m5441\u001b[39m     \u001b[38;5;28;01mreturn\u001b[39;00m \u001b[38;5;28;43mself\u001b[39;49m\u001b[43m.\u001b[49m\u001b[43mbound\u001b[49m\u001b[43m.\u001b[49m\u001b[43minvoke\u001b[49m\u001b[43m(\u001b[49m\n\u001b[32m   5442\u001b[39m \u001b[43m        \u001b[49m\u001b[38;5;28;43minput\u001b[39;49m\u001b[43m,\u001b[49m\n\u001b[32m   5443\u001b[39m \u001b[43m        \u001b[49m\u001b[38;5;28;43mself\u001b[39;49m\u001b[43m.\u001b[49m\u001b[43m_merge_configs\u001b[49m\u001b[43m(\u001b[49m\u001b[43mconfig\u001b[49m\u001b[43m)\u001b[49m\u001b[43m,\u001b[49m\n\u001b[32m   5444\u001b[39m \u001b[43m        \u001b[49m\u001b[43m*\u001b[49m\u001b[43m*\u001b[49m\u001b[43m{\u001b[49m\u001b[43m*\u001b[49m\u001b[43m*\u001b[49m\u001b[38;5;28;43mself\u001b[39;49m\u001b[43m.\u001b[49m\u001b[43mkwargs\u001b[49m\u001b[43m,\u001b[49m\u001b[43m \u001b[49m\u001b[43m*\u001b[49m\u001b[43m*\u001b[49m\u001b[43mkwargs\u001b[49m\u001b[43m}\u001b[49m\u001b[43m,\u001b[49m\n\u001b[32m   5445\u001b[39m \u001b[43m    \u001b[49m\u001b[43m)\u001b[49m\n",
      "\u001b[36mFile \u001b[39m\u001b[32mc:\\Users\\em\\Desktop\\PFA\\Customer_Support_LLMOps\\llmops_venv\\Lib\\site-packages\\langchain_core\\runnables\\base.py:3049\u001b[39m, in \u001b[36mRunnableSequence.invoke\u001b[39m\u001b[34m(self, input, config, **kwargs)\u001b[39m\n\u001b[32m   3047\u001b[39m                 input_ = context.run(step.invoke, input_, config, **kwargs)\n\u001b[32m   3048\u001b[39m             \u001b[38;5;28;01melse\u001b[39;00m:\n\u001b[32m-> \u001b[39m\u001b[32m3049\u001b[39m                 input_ = \u001b[43mcontext\u001b[49m\u001b[43m.\u001b[49m\u001b[43mrun\u001b[49m\u001b[43m(\u001b[49m\u001b[43mstep\u001b[49m\u001b[43m.\u001b[49m\u001b[43minvoke\u001b[49m\u001b[43m,\u001b[49m\u001b[43m \u001b[49m\u001b[43minput_\u001b[49m\u001b[43m,\u001b[49m\u001b[43m \u001b[49m\u001b[43mconfig\u001b[49m\u001b[43m)\u001b[49m\n\u001b[32m   3050\u001b[39m \u001b[38;5;66;03m# finish the root run\u001b[39;00m\n\u001b[32m   3051\u001b[39m \u001b[38;5;28;01mexcept\u001b[39;00m \u001b[38;5;167;01mBaseException\u001b[39;00m \u001b[38;5;28;01mas\u001b[39;00m e:\n",
      "\u001b[36mFile \u001b[39m\u001b[32mc:\\Users\\em\\Desktop\\PFA\\Customer_Support_LLMOps\\llmops_venv\\Lib\\site-packages\\langchain_core\\runnables\\passthrough.py:513\u001b[39m, in \u001b[36mRunnableAssign.invoke\u001b[39m\u001b[34m(self, input, config, **kwargs)\u001b[39m\n\u001b[32m    506\u001b[39m \u001b[38;5;129m@override\u001b[39m\n\u001b[32m    507\u001b[39m \u001b[38;5;28;01mdef\u001b[39;00m\u001b[38;5;250m \u001b[39m\u001b[34minvoke\u001b[39m(\n\u001b[32m    508\u001b[39m     \u001b[38;5;28mself\u001b[39m,\n\u001b[32m   (...)\u001b[39m\u001b[32m    511\u001b[39m     **kwargs: Any,\n\u001b[32m    512\u001b[39m ) -> \u001b[38;5;28mdict\u001b[39m[\u001b[38;5;28mstr\u001b[39m, Any]:\n\u001b[32m--> \u001b[39m\u001b[32m513\u001b[39m     \u001b[38;5;28;01mreturn\u001b[39;00m \u001b[38;5;28;43mself\u001b[39;49m\u001b[43m.\u001b[49m\u001b[43m_call_with_config\u001b[49m\u001b[43m(\u001b[49m\u001b[38;5;28;43mself\u001b[39;49m\u001b[43m.\u001b[49m\u001b[43m_invoke\u001b[49m\u001b[43m,\u001b[49m\u001b[43m \u001b[49m\u001b[38;5;28;43minput\u001b[39;49m\u001b[43m,\u001b[49m\u001b[43m \u001b[49m\u001b[43mconfig\u001b[49m\u001b[43m,\u001b[49m\u001b[43m \u001b[49m\u001b[43m*\u001b[49m\u001b[43m*\u001b[49m\u001b[43mkwargs\u001b[49m\u001b[43m)\u001b[49m\n",
      "\u001b[36mFile \u001b[39m\u001b[32mc:\\Users\\em\\Desktop\\PFA\\Customer_Support_LLMOps\\llmops_venv\\Lib\\site-packages\\langchain_core\\runnables\\base.py:1938\u001b[39m, in \u001b[36mRunnable._call_with_config\u001b[39m\u001b[34m(self, func, input_, config, run_type, serialized, **kwargs)\u001b[39m\n\u001b[32m   1934\u001b[39m     child_config = patch_config(config, callbacks=run_manager.get_child())\n\u001b[32m   1935\u001b[39m     \u001b[38;5;28;01mwith\u001b[39;00m set_config_context(child_config) \u001b[38;5;28;01mas\u001b[39;00m context:\n\u001b[32m   1936\u001b[39m         output = cast(\n\u001b[32m   1937\u001b[39m             \u001b[33m\"\u001b[39m\u001b[33mOutput\u001b[39m\u001b[33m\"\u001b[39m,\n\u001b[32m-> \u001b[39m\u001b[32m1938\u001b[39m             \u001b[43mcontext\u001b[49m\u001b[43m.\u001b[49m\u001b[43mrun\u001b[49m\u001b[43m(\u001b[49m\n\u001b[32m   1939\u001b[39m \u001b[43m                \u001b[49m\u001b[43mcall_func_with_variable_args\u001b[49m\u001b[43m,\u001b[49m\u001b[43m  \u001b[49m\u001b[38;5;66;43;03m# type: ignore[arg-type]\u001b[39;49;00m\n\u001b[32m   1940\u001b[39m \u001b[43m                \u001b[49m\u001b[43mfunc\u001b[49m\u001b[43m,\u001b[49m\n\u001b[32m   1941\u001b[39m \u001b[43m                \u001b[49m\u001b[43minput_\u001b[49m\u001b[43m,\u001b[49m\n\u001b[32m   1942\u001b[39m \u001b[43m                \u001b[49m\u001b[43mconfig\u001b[49m\u001b[43m,\u001b[49m\n\u001b[32m   1943\u001b[39m \u001b[43m                \u001b[49m\u001b[43mrun_manager\u001b[49m\u001b[43m,\u001b[49m\n\u001b[32m   1944\u001b[39m \u001b[43m                \u001b[49m\u001b[43m*\u001b[49m\u001b[43m*\u001b[49m\u001b[43mkwargs\u001b[49m\u001b[43m,\u001b[49m\n\u001b[32m   1945\u001b[39m \u001b[43m            \u001b[49m\u001b[43m)\u001b[49m,\n\u001b[32m   1946\u001b[39m         )\n\u001b[32m   1947\u001b[39m \u001b[38;5;28;01mexcept\u001b[39;00m \u001b[38;5;167;01mBaseException\u001b[39;00m \u001b[38;5;28;01mas\u001b[39;00m e:\n\u001b[32m   1948\u001b[39m     run_manager.on_chain_error(e)\n",
      "\u001b[36mFile \u001b[39m\u001b[32mc:\\Users\\em\\Desktop\\PFA\\Customer_Support_LLMOps\\llmops_venv\\Lib\\site-packages\\langchain_core\\runnables\\config.py:429\u001b[39m, in \u001b[36mcall_func_with_variable_args\u001b[39m\u001b[34m(func, input, config, run_manager, **kwargs)\u001b[39m\n\u001b[32m    427\u001b[39m \u001b[38;5;28;01mif\u001b[39;00m run_manager \u001b[38;5;129;01mis\u001b[39;00m \u001b[38;5;129;01mnot\u001b[39;00m \u001b[38;5;28;01mNone\u001b[39;00m \u001b[38;5;129;01mand\u001b[39;00m accepts_run_manager(func):\n\u001b[32m    428\u001b[39m     kwargs[\u001b[33m\"\u001b[39m\u001b[33mrun_manager\u001b[39m\u001b[33m\"\u001b[39m] = run_manager\n\u001b[32m--> \u001b[39m\u001b[32m429\u001b[39m \u001b[38;5;28;01mreturn\u001b[39;00m \u001b[43mfunc\u001b[49m\u001b[43m(\u001b[49m\u001b[38;5;28;43minput\u001b[39;49m\u001b[43m,\u001b[49m\u001b[43m \u001b[49m\u001b[43m*\u001b[49m\u001b[43m*\u001b[49m\u001b[43mkwargs\u001b[49m\u001b[43m)\u001b[49m\n",
      "\u001b[36mFile \u001b[39m\u001b[32mc:\\Users\\em\\Desktop\\PFA\\Customer_Support_LLMOps\\llmops_venv\\Lib\\site-packages\\langchain_core\\runnables\\passthrough.py:499\u001b[39m, in \u001b[36mRunnableAssign._invoke\u001b[39m\u001b[34m(self, value, run_manager, config, **kwargs)\u001b[39m\n\u001b[32m    494\u001b[39m     msg = \u001b[33m\"\u001b[39m\u001b[33mThe input to RunnablePassthrough.assign() must be a dict.\u001b[39m\u001b[33m\"\u001b[39m\n\u001b[32m    495\u001b[39m     \u001b[38;5;28;01mraise\u001b[39;00m \u001b[38;5;167;01mValueError\u001b[39;00m(msg)  \u001b[38;5;66;03m# noqa: TRY004\u001b[39;00m\n\u001b[32m    497\u001b[39m \u001b[38;5;28;01mreturn\u001b[39;00m {\n\u001b[32m    498\u001b[39m     **value,\n\u001b[32m--> \u001b[39m\u001b[32m499\u001b[39m     **\u001b[38;5;28;43mself\u001b[39;49m\u001b[43m.\u001b[49m\u001b[43mmapper\u001b[49m\u001b[43m.\u001b[49m\u001b[43minvoke\u001b[49m\u001b[43m(\u001b[49m\n\u001b[32m    500\u001b[39m \u001b[43m        \u001b[49m\u001b[43mvalue\u001b[49m\u001b[43m,\u001b[49m\n\u001b[32m    501\u001b[39m \u001b[43m        \u001b[49m\u001b[43mpatch_config\u001b[49m\u001b[43m(\u001b[49m\u001b[43mconfig\u001b[49m\u001b[43m,\u001b[49m\u001b[43m \u001b[49m\u001b[43mcallbacks\u001b[49m\u001b[43m=\u001b[49m\u001b[43mrun_manager\u001b[49m\u001b[43m.\u001b[49m\u001b[43mget_child\u001b[49m\u001b[43m(\u001b[49m\u001b[43m)\u001b[49m\u001b[43m)\u001b[49m\u001b[43m,\u001b[49m\n\u001b[32m    502\u001b[39m \u001b[43m        \u001b[49m\u001b[43m*\u001b[49m\u001b[43m*\u001b[49m\u001b[43mkwargs\u001b[49m\u001b[43m,\u001b[49m\n\u001b[32m    503\u001b[39m \u001b[43m    \u001b[49m\u001b[43m)\u001b[49m,\n\u001b[32m    504\u001b[39m }\n",
      "\u001b[36mFile \u001b[39m\u001b[32mc:\\Users\\em\\Desktop\\PFA\\Customer_Support_LLMOps\\llmops_venv\\Lib\\site-packages\\langchain_core\\runnables\\base.py:3777\u001b[39m, in \u001b[36mRunnableParallel.invoke\u001b[39m\u001b[34m(self, input, config, **kwargs)\u001b[39m\n\u001b[32m   3772\u001b[39m     \u001b[38;5;28;01mwith\u001b[39;00m get_executor_for_config(config) \u001b[38;5;28;01mas\u001b[39;00m executor:\n\u001b[32m   3773\u001b[39m         futures = [\n\u001b[32m   3774\u001b[39m             executor.submit(_invoke_step, step, \u001b[38;5;28minput\u001b[39m, config, key)\n\u001b[32m   3775\u001b[39m             \u001b[38;5;28;01mfor\u001b[39;00m key, step \u001b[38;5;129;01min\u001b[39;00m steps.items()\n\u001b[32m   3776\u001b[39m         ]\n\u001b[32m-> \u001b[39m\u001b[32m3777\u001b[39m         output = {key: \u001b[43mfuture\u001b[49m\u001b[43m.\u001b[49m\u001b[43mresult\u001b[49m\u001b[43m(\u001b[49m\u001b[43m)\u001b[49m \u001b[38;5;28;01mfor\u001b[39;00m key, future \u001b[38;5;129;01min\u001b[39;00m \u001b[38;5;28mzip\u001b[39m(steps, futures)}\n\u001b[32m   3778\u001b[39m \u001b[38;5;66;03m# finish the root run\u001b[39;00m\n\u001b[32m   3779\u001b[39m \u001b[38;5;28;01mexcept\u001b[39;00m \u001b[38;5;167;01mBaseException\u001b[39;00m \u001b[38;5;28;01mas\u001b[39;00m e:\n",
      "\u001b[36mFile \u001b[39m\u001b[32m~\\AppData\\Local\\Programs\\Python\\Python312\\Lib\\concurrent\\futures\\_base.py:456\u001b[39m, in \u001b[36mFuture.result\u001b[39m\u001b[34m(self, timeout)\u001b[39m\n\u001b[32m    454\u001b[39m     \u001b[38;5;28;01mraise\u001b[39;00m CancelledError()\n\u001b[32m    455\u001b[39m \u001b[38;5;28;01melif\u001b[39;00m \u001b[38;5;28mself\u001b[39m._state == FINISHED:\n\u001b[32m--> \u001b[39m\u001b[32m456\u001b[39m     \u001b[38;5;28;01mreturn\u001b[39;00m \u001b[38;5;28;43mself\u001b[39;49m\u001b[43m.\u001b[49m\u001b[43m__get_result\u001b[49m\u001b[43m(\u001b[49m\u001b[43m)\u001b[49m\n\u001b[32m    457\u001b[39m \u001b[38;5;28;01melse\u001b[39;00m:\n\u001b[32m    458\u001b[39m     \u001b[38;5;28;01mraise\u001b[39;00m \u001b[38;5;167;01mTimeoutError\u001b[39;00m()\n",
      "\u001b[36mFile \u001b[39m\u001b[32m~\\AppData\\Local\\Programs\\Python\\Python312\\Lib\\concurrent\\futures\\_base.py:401\u001b[39m, in \u001b[36mFuture.__get_result\u001b[39m\u001b[34m(self)\u001b[39m\n\u001b[32m    399\u001b[39m \u001b[38;5;28;01mif\u001b[39;00m \u001b[38;5;28mself\u001b[39m._exception:\n\u001b[32m    400\u001b[39m     \u001b[38;5;28;01mtry\u001b[39;00m:\n\u001b[32m--> \u001b[39m\u001b[32m401\u001b[39m         \u001b[38;5;28;01mraise\u001b[39;00m \u001b[38;5;28mself\u001b[39m._exception\n\u001b[32m    402\u001b[39m     \u001b[38;5;28;01mfinally\u001b[39;00m:\n\u001b[32m    403\u001b[39m         \u001b[38;5;66;03m# Break a reference cycle with the exception in self._exception\u001b[39;00m\n\u001b[32m    404\u001b[39m         \u001b[38;5;28mself\u001b[39m = \u001b[38;5;28;01mNone\u001b[39;00m\n",
      "\u001b[36mFile \u001b[39m\u001b[32m~\\AppData\\Local\\Programs\\Python\\Python312\\Lib\\concurrent\\futures\\thread.py:58\u001b[39m, in \u001b[36m_WorkItem.run\u001b[39m\u001b[34m(self)\u001b[39m\n\u001b[32m     55\u001b[39m     \u001b[38;5;28;01mreturn\u001b[39;00m\n\u001b[32m     57\u001b[39m \u001b[38;5;28;01mtry\u001b[39;00m:\n\u001b[32m---> \u001b[39m\u001b[32m58\u001b[39m     result = \u001b[38;5;28;43mself\u001b[39;49m\u001b[43m.\u001b[49m\u001b[43mfn\u001b[49m\u001b[43m(\u001b[49m\u001b[43m*\u001b[49m\u001b[38;5;28;43mself\u001b[39;49m\u001b[43m.\u001b[49m\u001b[43margs\u001b[49m\u001b[43m,\u001b[49m\u001b[43m \u001b[49m\u001b[43m*\u001b[49m\u001b[43m*\u001b[49m\u001b[38;5;28;43mself\u001b[39;49m\u001b[43m.\u001b[49m\u001b[43mkwargs\u001b[49m\u001b[43m)\u001b[49m\n\u001b[32m     59\u001b[39m \u001b[38;5;28;01mexcept\u001b[39;00m \u001b[38;5;167;01mBaseException\u001b[39;00m \u001b[38;5;28;01mas\u001b[39;00m exc:\n\u001b[32m     60\u001b[39m     \u001b[38;5;28mself\u001b[39m.future.set_exception(exc)\n",
      "\u001b[36mFile \u001b[39m\u001b[32mc:\\Users\\em\\Desktop\\PFA\\Customer_Support_LLMOps\\llmops_venv\\Lib\\site-packages\\langchain_core\\runnables\\base.py:3761\u001b[39m, in \u001b[36mRunnableParallel.invoke.<locals>._invoke_step\u001b[39m\u001b[34m(step, input_, config, key)\u001b[39m\n\u001b[32m   3755\u001b[39m child_config = patch_config(\n\u001b[32m   3756\u001b[39m     config,\n\u001b[32m   3757\u001b[39m     \u001b[38;5;66;03m# mark each step as a child run\u001b[39;00m\n\u001b[32m   3758\u001b[39m     callbacks=run_manager.get_child(\u001b[33mf\u001b[39m\u001b[33m\"\u001b[39m\u001b[33mmap:key:\u001b[39m\u001b[38;5;132;01m{\u001b[39;00mkey\u001b[38;5;132;01m}\u001b[39;00m\u001b[33m\"\u001b[39m),\n\u001b[32m   3759\u001b[39m )\n\u001b[32m   3760\u001b[39m \u001b[38;5;28;01mwith\u001b[39;00m set_config_context(child_config) \u001b[38;5;28;01mas\u001b[39;00m context:\n\u001b[32m-> \u001b[39m\u001b[32m3761\u001b[39m     \u001b[38;5;28;01mreturn\u001b[39;00m \u001b[43mcontext\u001b[49m\u001b[43m.\u001b[49m\u001b[43mrun\u001b[49m\u001b[43m(\u001b[49m\n\u001b[32m   3762\u001b[39m \u001b[43m        \u001b[49m\u001b[43mstep\u001b[49m\u001b[43m.\u001b[49m\u001b[43minvoke\u001b[49m\u001b[43m,\u001b[49m\n\u001b[32m   3763\u001b[39m \u001b[43m        \u001b[49m\u001b[43minput_\u001b[49m\u001b[43m,\u001b[49m\n\u001b[32m   3764\u001b[39m \u001b[43m        \u001b[49m\u001b[43mchild_config\u001b[49m\u001b[43m,\u001b[49m\n\u001b[32m   3765\u001b[39m \u001b[43m    \u001b[49m\u001b[43m)\u001b[49m\n",
      "\u001b[36mFile \u001b[39m\u001b[32mc:\\Users\\em\\Desktop\\PFA\\Customer_Support_LLMOps\\llmops_venv\\Lib\\site-packages\\langchain_core\\runnables\\base.py:5441\u001b[39m, in \u001b[36mRunnableBindingBase.invoke\u001b[39m\u001b[34m(self, input, config, **kwargs)\u001b[39m\n\u001b[32m   5434\u001b[39m \u001b[38;5;129m@override\u001b[39m\n\u001b[32m   5435\u001b[39m \u001b[38;5;28;01mdef\u001b[39;00m\u001b[38;5;250m \u001b[39m\u001b[34minvoke\u001b[39m(\n\u001b[32m   5436\u001b[39m     \u001b[38;5;28mself\u001b[39m,\n\u001b[32m   (...)\u001b[39m\u001b[32m   5439\u001b[39m     **kwargs: Optional[Any],\n\u001b[32m   5440\u001b[39m ) -> Output:\n\u001b[32m-> \u001b[39m\u001b[32m5441\u001b[39m     \u001b[38;5;28;01mreturn\u001b[39;00m \u001b[38;5;28;43mself\u001b[39;49m\u001b[43m.\u001b[49m\u001b[43mbound\u001b[49m\u001b[43m.\u001b[49m\u001b[43minvoke\u001b[49m\u001b[43m(\u001b[49m\n\u001b[32m   5442\u001b[39m \u001b[43m        \u001b[49m\u001b[38;5;28;43minput\u001b[39;49m\u001b[43m,\u001b[49m\n\u001b[32m   5443\u001b[39m \u001b[43m        \u001b[49m\u001b[38;5;28;43mself\u001b[39;49m\u001b[43m.\u001b[49m\u001b[43m_merge_configs\u001b[49m\u001b[43m(\u001b[49m\u001b[43mconfig\u001b[49m\u001b[43m)\u001b[49m\u001b[43m,\u001b[49m\n\u001b[32m   5444\u001b[39m \u001b[43m        \u001b[49m\u001b[43m*\u001b[49m\u001b[43m*\u001b[49m\u001b[43m{\u001b[49m\u001b[43m*\u001b[49m\u001b[43m*\u001b[49m\u001b[38;5;28;43mself\u001b[39;49m\u001b[43m.\u001b[49m\u001b[43mkwargs\u001b[49m\u001b[43m,\u001b[49m\u001b[43m \u001b[49m\u001b[43m*\u001b[49m\u001b[43m*\u001b[49m\u001b[43mkwargs\u001b[49m\u001b[43m}\u001b[49m\u001b[43m,\u001b[49m\n\u001b[32m   5445\u001b[39m \u001b[43m    \u001b[49m\u001b[43m)\u001b[49m\n",
      "\u001b[36mFile \u001b[39m\u001b[32mc:\\Users\\em\\Desktop\\PFA\\Customer_Support_LLMOps\\llmops_venv\\Lib\\site-packages\\langchain_core\\runnables\\base.py:3049\u001b[39m, in \u001b[36mRunnableSequence.invoke\u001b[39m\u001b[34m(self, input, config, **kwargs)\u001b[39m\n\u001b[32m   3047\u001b[39m                 input_ = context.run(step.invoke, input_, config, **kwargs)\n\u001b[32m   3048\u001b[39m             \u001b[38;5;28;01melse\u001b[39;00m:\n\u001b[32m-> \u001b[39m\u001b[32m3049\u001b[39m                 input_ = \u001b[43mcontext\u001b[49m\u001b[43m.\u001b[49m\u001b[43mrun\u001b[49m\u001b[43m(\u001b[49m\u001b[43mstep\u001b[49m\u001b[43m.\u001b[49m\u001b[43minvoke\u001b[49m\u001b[43m,\u001b[49m\u001b[43m \u001b[49m\u001b[43minput_\u001b[49m\u001b[43m,\u001b[49m\u001b[43m \u001b[49m\u001b[43mconfig\u001b[49m\u001b[43m)\u001b[49m\n\u001b[32m   3050\u001b[39m \u001b[38;5;66;03m# finish the root run\u001b[39;00m\n\u001b[32m   3051\u001b[39m \u001b[38;5;28;01mexcept\u001b[39;00m \u001b[38;5;167;01mBaseException\u001b[39;00m \u001b[38;5;28;01mas\u001b[39;00m e:\n",
      "\u001b[36mFile \u001b[39m\u001b[32mc:\\Users\\em\\Desktop\\PFA\\Customer_Support_LLMOps\\llmops_venv\\Lib\\site-packages\\langchain_core\\language_models\\chat_models.py:383\u001b[39m, in \u001b[36mBaseChatModel.invoke\u001b[39m\u001b[34m(self, input, config, stop, **kwargs)\u001b[39m\n\u001b[32m    371\u001b[39m \u001b[38;5;129m@override\u001b[39m\n\u001b[32m    372\u001b[39m \u001b[38;5;28;01mdef\u001b[39;00m\u001b[38;5;250m \u001b[39m\u001b[34minvoke\u001b[39m(\n\u001b[32m    373\u001b[39m     \u001b[38;5;28mself\u001b[39m,\n\u001b[32m   (...)\u001b[39m\u001b[32m    378\u001b[39m     **kwargs: Any,\n\u001b[32m    379\u001b[39m ) -> BaseMessage:\n\u001b[32m    380\u001b[39m     config = ensure_config(config)\n\u001b[32m    381\u001b[39m     \u001b[38;5;28;01mreturn\u001b[39;00m cast(\n\u001b[32m    382\u001b[39m         \u001b[33m\"\u001b[39m\u001b[33mChatGeneration\u001b[39m\u001b[33m\"\u001b[39m,\n\u001b[32m--> \u001b[39m\u001b[32m383\u001b[39m         \u001b[38;5;28;43mself\u001b[39;49m\u001b[43m.\u001b[49m\u001b[43mgenerate_prompt\u001b[49m\u001b[43m(\u001b[49m\n\u001b[32m    384\u001b[39m \u001b[43m            \u001b[49m\u001b[43m[\u001b[49m\u001b[38;5;28;43mself\u001b[39;49m\u001b[43m.\u001b[49m\u001b[43m_convert_input\u001b[49m\u001b[43m(\u001b[49m\u001b[38;5;28;43minput\u001b[39;49m\u001b[43m)\u001b[49m\u001b[43m]\u001b[49m\u001b[43m,\u001b[49m\n\u001b[32m    385\u001b[39m \u001b[43m            \u001b[49m\u001b[43mstop\u001b[49m\u001b[43m=\u001b[49m\u001b[43mstop\u001b[49m\u001b[43m,\u001b[49m\n\u001b[32m    386\u001b[39m \u001b[43m            \u001b[49m\u001b[43mcallbacks\u001b[49m\u001b[43m=\u001b[49m\u001b[43mconfig\u001b[49m\u001b[43m.\u001b[49m\u001b[43mget\u001b[49m\u001b[43m(\u001b[49m\u001b[33;43m\"\u001b[39;49m\u001b[33;43mcallbacks\u001b[39;49m\u001b[33;43m\"\u001b[39;49m\u001b[43m)\u001b[49m\u001b[43m,\u001b[49m\n\u001b[32m    387\u001b[39m \u001b[43m            \u001b[49m\u001b[43mtags\u001b[49m\u001b[43m=\u001b[49m\u001b[43mconfig\u001b[49m\u001b[43m.\u001b[49m\u001b[43mget\u001b[49m\u001b[43m(\u001b[49m\u001b[33;43m\"\u001b[39;49m\u001b[33;43mtags\u001b[39;49m\u001b[33;43m\"\u001b[39;49m\u001b[43m)\u001b[49m\u001b[43m,\u001b[49m\n\u001b[32m    388\u001b[39m \u001b[43m            \u001b[49m\u001b[43mmetadata\u001b[49m\u001b[43m=\u001b[49m\u001b[43mconfig\u001b[49m\u001b[43m.\u001b[49m\u001b[43mget\u001b[49m\u001b[43m(\u001b[49m\u001b[33;43m\"\u001b[39;49m\u001b[33;43mmetadata\u001b[39;49m\u001b[33;43m\"\u001b[39;49m\u001b[43m)\u001b[49m\u001b[43m,\u001b[49m\n\u001b[32m    389\u001b[39m \u001b[43m            \u001b[49m\u001b[43mrun_name\u001b[49m\u001b[43m=\u001b[49m\u001b[43mconfig\u001b[49m\u001b[43m.\u001b[49m\u001b[43mget\u001b[49m\u001b[43m(\u001b[49m\u001b[33;43m\"\u001b[39;49m\u001b[33;43mrun_name\u001b[39;49m\u001b[33;43m\"\u001b[39;49m\u001b[43m)\u001b[49m\u001b[43m,\u001b[49m\n\u001b[32m    390\u001b[39m \u001b[43m            \u001b[49m\u001b[43mrun_id\u001b[49m\u001b[43m=\u001b[49m\u001b[43mconfig\u001b[49m\u001b[43m.\u001b[49m\u001b[43mpop\u001b[49m\u001b[43m(\u001b[49m\u001b[33;43m\"\u001b[39;49m\u001b[33;43mrun_id\u001b[39;49m\u001b[33;43m\"\u001b[39;49m\u001b[43m,\u001b[49m\u001b[43m \u001b[49m\u001b[38;5;28;43;01mNone\u001b[39;49;00m\u001b[43m)\u001b[49m\u001b[43m,\u001b[49m\n\u001b[32m    391\u001b[39m \u001b[43m            \u001b[49m\u001b[43m*\u001b[49m\u001b[43m*\u001b[49m\u001b[43mkwargs\u001b[49m\u001b[43m,\u001b[49m\n\u001b[32m    392\u001b[39m \u001b[43m        \u001b[49m\u001b[43m)\u001b[49m.generations[\u001b[32m0\u001b[39m][\u001b[32m0\u001b[39m],\n\u001b[32m    393\u001b[39m     ).message\n",
      "\u001b[36mFile \u001b[39m\u001b[32mc:\\Users\\em\\Desktop\\PFA\\Customer_Support_LLMOps\\llmops_venv\\Lib\\site-packages\\langchain_core\\language_models\\chat_models.py:1006\u001b[39m, in \u001b[36mBaseChatModel.generate_prompt\u001b[39m\u001b[34m(self, prompts, stop, callbacks, **kwargs)\u001b[39m\n\u001b[32m    997\u001b[39m \u001b[38;5;129m@override\u001b[39m\n\u001b[32m    998\u001b[39m \u001b[38;5;28;01mdef\u001b[39;00m\u001b[38;5;250m \u001b[39m\u001b[34mgenerate_prompt\u001b[39m(\n\u001b[32m    999\u001b[39m     \u001b[38;5;28mself\u001b[39m,\n\u001b[32m   (...)\u001b[39m\u001b[32m   1003\u001b[39m     **kwargs: Any,\n\u001b[32m   1004\u001b[39m ) -> LLMResult:\n\u001b[32m   1005\u001b[39m     prompt_messages = [p.to_messages() \u001b[38;5;28;01mfor\u001b[39;00m p \u001b[38;5;129;01min\u001b[39;00m prompts]\n\u001b[32m-> \u001b[39m\u001b[32m1006\u001b[39m     \u001b[38;5;28;01mreturn\u001b[39;00m \u001b[38;5;28;43mself\u001b[39;49m\u001b[43m.\u001b[49m\u001b[43mgenerate\u001b[49m\u001b[43m(\u001b[49m\u001b[43mprompt_messages\u001b[49m\u001b[43m,\u001b[49m\u001b[43m \u001b[49m\u001b[43mstop\u001b[49m\u001b[43m=\u001b[49m\u001b[43mstop\u001b[49m\u001b[43m,\u001b[49m\u001b[43m \u001b[49m\u001b[43mcallbacks\u001b[49m\u001b[43m=\u001b[49m\u001b[43mcallbacks\u001b[49m\u001b[43m,\u001b[49m\u001b[43m \u001b[49m\u001b[43m*\u001b[49m\u001b[43m*\u001b[49m\u001b[43mkwargs\u001b[49m\u001b[43m)\u001b[49m\n",
      "\u001b[36mFile \u001b[39m\u001b[32mc:\\Users\\em\\Desktop\\PFA\\Customer_Support_LLMOps\\llmops_venv\\Lib\\site-packages\\langchain_core\\language_models\\chat_models.py:825\u001b[39m, in \u001b[36mBaseChatModel.generate\u001b[39m\u001b[34m(self, messages, stop, callbacks, tags, metadata, run_name, run_id, **kwargs)\u001b[39m\n\u001b[32m    822\u001b[39m \u001b[38;5;28;01mfor\u001b[39;00m i, m \u001b[38;5;129;01min\u001b[39;00m \u001b[38;5;28menumerate\u001b[39m(input_messages):\n\u001b[32m    823\u001b[39m     \u001b[38;5;28;01mtry\u001b[39;00m:\n\u001b[32m    824\u001b[39m         results.append(\n\u001b[32m--> \u001b[39m\u001b[32m825\u001b[39m             \u001b[38;5;28;43mself\u001b[39;49m\u001b[43m.\u001b[49m\u001b[43m_generate_with_cache\u001b[49m\u001b[43m(\u001b[49m\n\u001b[32m    826\u001b[39m \u001b[43m                \u001b[49m\u001b[43mm\u001b[49m\u001b[43m,\u001b[49m\n\u001b[32m    827\u001b[39m \u001b[43m                \u001b[49m\u001b[43mstop\u001b[49m\u001b[43m=\u001b[49m\u001b[43mstop\u001b[49m\u001b[43m,\u001b[49m\n\u001b[32m    828\u001b[39m \u001b[43m                \u001b[49m\u001b[43mrun_manager\u001b[49m\u001b[43m=\u001b[49m\u001b[43mrun_managers\u001b[49m\u001b[43m[\u001b[49m\u001b[43mi\u001b[49m\u001b[43m]\u001b[49m\u001b[43m \u001b[49m\u001b[38;5;28;43;01mif\u001b[39;49;00m\u001b[43m \u001b[49m\u001b[43mrun_managers\u001b[49m\u001b[43m \u001b[49m\u001b[38;5;28;43;01melse\u001b[39;49;00m\u001b[43m \u001b[49m\u001b[38;5;28;43;01mNone\u001b[39;49;00m\u001b[43m,\u001b[49m\n\u001b[32m    829\u001b[39m \u001b[43m                \u001b[49m\u001b[43m*\u001b[49m\u001b[43m*\u001b[49m\u001b[43mkwargs\u001b[49m\u001b[43m,\u001b[49m\n\u001b[32m    830\u001b[39m \u001b[43m            \u001b[49m\u001b[43m)\u001b[49m\n\u001b[32m    831\u001b[39m         )\n\u001b[32m    832\u001b[39m     \u001b[38;5;28;01mexcept\u001b[39;00m \u001b[38;5;167;01mBaseException\u001b[39;00m \u001b[38;5;28;01mas\u001b[39;00m e:\n\u001b[32m    833\u001b[39m         \u001b[38;5;28;01mif\u001b[39;00m run_managers:\n",
      "\u001b[36mFile \u001b[39m\u001b[32mc:\\Users\\em\\Desktop\\PFA\\Customer_Support_LLMOps\\llmops_venv\\Lib\\site-packages\\langchain_core\\language_models\\chat_models.py:1072\u001b[39m, in \u001b[36mBaseChatModel._generate_with_cache\u001b[39m\u001b[34m(self, messages, stop, run_manager, **kwargs)\u001b[39m\n\u001b[32m   1070\u001b[39m     result = generate_from_stream(\u001b[38;5;28miter\u001b[39m(chunks))\n\u001b[32m   1071\u001b[39m \u001b[38;5;28;01melif\u001b[39;00m inspect.signature(\u001b[38;5;28mself\u001b[39m._generate).parameters.get(\u001b[33m\"\u001b[39m\u001b[33mrun_manager\u001b[39m\u001b[33m\"\u001b[39m):\n\u001b[32m-> \u001b[39m\u001b[32m1072\u001b[39m     result = \u001b[38;5;28;43mself\u001b[39;49m\u001b[43m.\u001b[49m\u001b[43m_generate\u001b[49m\u001b[43m(\u001b[49m\n\u001b[32m   1073\u001b[39m \u001b[43m        \u001b[49m\u001b[43mmessages\u001b[49m\u001b[43m,\u001b[49m\u001b[43m \u001b[49m\u001b[43mstop\u001b[49m\u001b[43m=\u001b[49m\u001b[43mstop\u001b[49m\u001b[43m,\u001b[49m\u001b[43m \u001b[49m\u001b[43mrun_manager\u001b[49m\u001b[43m=\u001b[49m\u001b[43mrun_manager\u001b[49m\u001b[43m,\u001b[49m\u001b[43m \u001b[49m\u001b[43m*\u001b[49m\u001b[43m*\u001b[49m\u001b[43mkwargs\u001b[49m\n\u001b[32m   1074\u001b[39m \u001b[43m    \u001b[49m\u001b[43m)\u001b[49m\n\u001b[32m   1075\u001b[39m \u001b[38;5;28;01melse\u001b[39;00m:\n\u001b[32m   1076\u001b[39m     result = \u001b[38;5;28mself\u001b[39m._generate(messages, stop=stop, **kwargs)\n",
      "\u001b[36mFile \u001b[39m\u001b[32mc:\\Users\\em\\Desktop\\PFA\\Customer_Support_LLMOps\\llmops_venv\\Lib\\site-packages\\langchain_openai\\chat_models\\base.py:1071\u001b[39m, in \u001b[36mBaseChatOpenAI._generate\u001b[39m\u001b[34m(self, messages, stop, run_manager, **kwargs)\u001b[39m\n\u001b[32m   1069\u001b[39m     generation_info = {\u001b[33m\"\u001b[39m\u001b[33mheaders\u001b[39m\u001b[33m\"\u001b[39m: \u001b[38;5;28mdict\u001b[39m(raw_response.headers)}\n\u001b[32m   1070\u001b[39m \u001b[38;5;28;01melse\u001b[39;00m:\n\u001b[32m-> \u001b[39m\u001b[32m1071\u001b[39m     response = \u001b[38;5;28;43mself\u001b[39;49m\u001b[43m.\u001b[49m\u001b[43mclient\u001b[49m\u001b[43m.\u001b[49m\u001b[43mcreate\u001b[49m\u001b[43m(\u001b[49m\u001b[43m*\u001b[49m\u001b[43m*\u001b[49m\u001b[43mpayload\u001b[49m\u001b[43m)\u001b[49m\n\u001b[32m   1072\u001b[39m \u001b[38;5;28;01mreturn\u001b[39;00m \u001b[38;5;28mself\u001b[39m._create_chat_result(response, generation_info)\n",
      "\u001b[36mFile \u001b[39m\u001b[32mc:\\Users\\em\\Desktop\\PFA\\Customer_Support_LLMOps\\llmops_venv\\Lib\\site-packages\\openai\\_utils\\_utils.py:287\u001b[39m, in \u001b[36mrequired_args.<locals>.inner.<locals>.wrapper\u001b[39m\u001b[34m(*args, **kwargs)\u001b[39m\n\u001b[32m    285\u001b[39m             msg = \u001b[33mf\u001b[39m\u001b[33m\"\u001b[39m\u001b[33mMissing required argument: \u001b[39m\u001b[38;5;132;01m{\u001b[39;00mquote(missing[\u001b[32m0\u001b[39m])\u001b[38;5;132;01m}\u001b[39;00m\u001b[33m\"\u001b[39m\n\u001b[32m    286\u001b[39m     \u001b[38;5;28;01mraise\u001b[39;00m \u001b[38;5;167;01mTypeError\u001b[39;00m(msg)\n\u001b[32m--> \u001b[39m\u001b[32m287\u001b[39m \u001b[38;5;28;01mreturn\u001b[39;00m \u001b[43mfunc\u001b[49m\u001b[43m(\u001b[49m\u001b[43m*\u001b[49m\u001b[43margs\u001b[49m\u001b[43m,\u001b[49m\u001b[43m \u001b[49m\u001b[43m*\u001b[49m\u001b[43m*\u001b[49m\u001b[43mkwargs\u001b[49m\u001b[43m)\u001b[49m\n",
      "\u001b[36mFile \u001b[39m\u001b[32mc:\\Users\\em\\Desktop\\PFA\\Customer_Support_LLMOps\\llmops_venv\\Lib\\site-packages\\openai\\resources\\chat\\completions\\completions.py:1150\u001b[39m, in \u001b[36mCompletions.create\u001b[39m\u001b[34m(self, messages, model, audio, frequency_penalty, function_call, functions, logit_bias, logprobs, max_completion_tokens, max_tokens, metadata, modalities, n, parallel_tool_calls, prediction, presence_penalty, prompt_cache_key, reasoning_effort, response_format, safety_identifier, seed, service_tier, stop, store, stream, stream_options, temperature, tool_choice, tools, top_logprobs, top_p, user, verbosity, web_search_options, extra_headers, extra_query, extra_body, timeout)\u001b[39m\n\u001b[32m   1104\u001b[39m \u001b[38;5;129m@required_args\u001b[39m([\u001b[33m\"\u001b[39m\u001b[33mmessages\u001b[39m\u001b[33m\"\u001b[39m, \u001b[33m\"\u001b[39m\u001b[33mmodel\u001b[39m\u001b[33m\"\u001b[39m], [\u001b[33m\"\u001b[39m\u001b[33mmessages\u001b[39m\u001b[33m\"\u001b[39m, \u001b[33m\"\u001b[39m\u001b[33mmodel\u001b[39m\u001b[33m\"\u001b[39m, \u001b[33m\"\u001b[39m\u001b[33mstream\u001b[39m\u001b[33m\"\u001b[39m])\n\u001b[32m   1105\u001b[39m \u001b[38;5;28;01mdef\u001b[39;00m\u001b[38;5;250m \u001b[39m\u001b[34mcreate\u001b[39m(\n\u001b[32m   1106\u001b[39m     \u001b[38;5;28mself\u001b[39m,\n\u001b[32m   (...)\u001b[39m\u001b[32m   1147\u001b[39m     timeout: \u001b[38;5;28mfloat\u001b[39m | httpx.Timeout | \u001b[38;5;28;01mNone\u001b[39;00m | NotGiven = NOT_GIVEN,\n\u001b[32m   1148\u001b[39m ) -> ChatCompletion | Stream[ChatCompletionChunk]:\n\u001b[32m   1149\u001b[39m     validate_response_format(response_format)\n\u001b[32m-> \u001b[39m\u001b[32m1150\u001b[39m     \u001b[38;5;28;01mreturn\u001b[39;00m \u001b[38;5;28;43mself\u001b[39;49m\u001b[43m.\u001b[49m\u001b[43m_post\u001b[49m\u001b[43m(\u001b[49m\n\u001b[32m   1151\u001b[39m \u001b[43m        \u001b[49m\u001b[33;43m\"\u001b[39;49m\u001b[33;43m/chat/completions\u001b[39;49m\u001b[33;43m\"\u001b[39;49m\u001b[43m,\u001b[49m\n\u001b[32m   1152\u001b[39m \u001b[43m        \u001b[49m\u001b[43mbody\u001b[49m\u001b[43m=\u001b[49m\u001b[43mmaybe_transform\u001b[49m\u001b[43m(\u001b[49m\n\u001b[32m   1153\u001b[39m \u001b[43m            \u001b[49m\u001b[43m{\u001b[49m\n\u001b[32m   1154\u001b[39m \u001b[43m                \u001b[49m\u001b[33;43m\"\u001b[39;49m\u001b[33;43mmessages\u001b[39;49m\u001b[33;43m\"\u001b[39;49m\u001b[43m:\u001b[49m\u001b[43m \u001b[49m\u001b[43mmessages\u001b[49m\u001b[43m,\u001b[49m\n\u001b[32m   1155\u001b[39m \u001b[43m                \u001b[49m\u001b[33;43m\"\u001b[39;49m\u001b[33;43mmodel\u001b[39;49m\u001b[33;43m\"\u001b[39;49m\u001b[43m:\u001b[49m\u001b[43m \u001b[49m\u001b[43mmodel\u001b[49m\u001b[43m,\u001b[49m\n\u001b[32m   1156\u001b[39m \u001b[43m                \u001b[49m\u001b[33;43m\"\u001b[39;49m\u001b[33;43maudio\u001b[39;49m\u001b[33;43m\"\u001b[39;49m\u001b[43m:\u001b[49m\u001b[43m \u001b[49m\u001b[43maudio\u001b[49m\u001b[43m,\u001b[49m\n\u001b[32m   1157\u001b[39m \u001b[43m                \u001b[49m\u001b[33;43m\"\u001b[39;49m\u001b[33;43mfrequency_penalty\u001b[39;49m\u001b[33;43m\"\u001b[39;49m\u001b[43m:\u001b[49m\u001b[43m \u001b[49m\u001b[43mfrequency_penalty\u001b[49m\u001b[43m,\u001b[49m\n\u001b[32m   1158\u001b[39m \u001b[43m                \u001b[49m\u001b[33;43m\"\u001b[39;49m\u001b[33;43mfunction_call\u001b[39;49m\u001b[33;43m\"\u001b[39;49m\u001b[43m:\u001b[49m\u001b[43m \u001b[49m\u001b[43mfunction_call\u001b[49m\u001b[43m,\u001b[49m\n\u001b[32m   1159\u001b[39m \u001b[43m                \u001b[49m\u001b[33;43m\"\u001b[39;49m\u001b[33;43mfunctions\u001b[39;49m\u001b[33;43m\"\u001b[39;49m\u001b[43m:\u001b[49m\u001b[43m \u001b[49m\u001b[43mfunctions\u001b[49m\u001b[43m,\u001b[49m\n\u001b[32m   1160\u001b[39m \u001b[43m                \u001b[49m\u001b[33;43m\"\u001b[39;49m\u001b[33;43mlogit_bias\u001b[39;49m\u001b[33;43m\"\u001b[39;49m\u001b[43m:\u001b[49m\u001b[43m \u001b[49m\u001b[43mlogit_bias\u001b[49m\u001b[43m,\u001b[49m\n\u001b[32m   1161\u001b[39m \u001b[43m                \u001b[49m\u001b[33;43m\"\u001b[39;49m\u001b[33;43mlogprobs\u001b[39;49m\u001b[33;43m\"\u001b[39;49m\u001b[43m:\u001b[49m\u001b[43m \u001b[49m\u001b[43mlogprobs\u001b[49m\u001b[43m,\u001b[49m\n\u001b[32m   1162\u001b[39m \u001b[43m                \u001b[49m\u001b[33;43m\"\u001b[39;49m\u001b[33;43mmax_completion_tokens\u001b[39;49m\u001b[33;43m\"\u001b[39;49m\u001b[43m:\u001b[49m\u001b[43m \u001b[49m\u001b[43mmax_completion_tokens\u001b[49m\u001b[43m,\u001b[49m\n\u001b[32m   1163\u001b[39m \u001b[43m                \u001b[49m\u001b[33;43m\"\u001b[39;49m\u001b[33;43mmax_tokens\u001b[39;49m\u001b[33;43m\"\u001b[39;49m\u001b[43m:\u001b[49m\u001b[43m \u001b[49m\u001b[43mmax_tokens\u001b[49m\u001b[43m,\u001b[49m\n\u001b[32m   1164\u001b[39m \u001b[43m                \u001b[49m\u001b[33;43m\"\u001b[39;49m\u001b[33;43mmetadata\u001b[39;49m\u001b[33;43m\"\u001b[39;49m\u001b[43m:\u001b[49m\u001b[43m \u001b[49m\u001b[43mmetadata\u001b[49m\u001b[43m,\u001b[49m\n\u001b[32m   1165\u001b[39m \u001b[43m                \u001b[49m\u001b[33;43m\"\u001b[39;49m\u001b[33;43mmodalities\u001b[39;49m\u001b[33;43m\"\u001b[39;49m\u001b[43m:\u001b[49m\u001b[43m \u001b[49m\u001b[43mmodalities\u001b[49m\u001b[43m,\u001b[49m\n\u001b[32m   1166\u001b[39m \u001b[43m                \u001b[49m\u001b[33;43m\"\u001b[39;49m\u001b[33;43mn\u001b[39;49m\u001b[33;43m\"\u001b[39;49m\u001b[43m:\u001b[49m\u001b[43m \u001b[49m\u001b[43mn\u001b[49m\u001b[43m,\u001b[49m\n\u001b[32m   1167\u001b[39m \u001b[43m                \u001b[49m\u001b[33;43m\"\u001b[39;49m\u001b[33;43mparallel_tool_calls\u001b[39;49m\u001b[33;43m\"\u001b[39;49m\u001b[43m:\u001b[49m\u001b[43m \u001b[49m\u001b[43mparallel_tool_calls\u001b[49m\u001b[43m,\u001b[49m\n\u001b[32m   1168\u001b[39m \u001b[43m                \u001b[49m\u001b[33;43m\"\u001b[39;49m\u001b[33;43mprediction\u001b[39;49m\u001b[33;43m\"\u001b[39;49m\u001b[43m:\u001b[49m\u001b[43m \u001b[49m\u001b[43mprediction\u001b[49m\u001b[43m,\u001b[49m\n\u001b[32m   1169\u001b[39m \u001b[43m                \u001b[49m\u001b[33;43m\"\u001b[39;49m\u001b[33;43mpresence_penalty\u001b[39;49m\u001b[33;43m\"\u001b[39;49m\u001b[43m:\u001b[49m\u001b[43m \u001b[49m\u001b[43mpresence_penalty\u001b[49m\u001b[43m,\u001b[49m\n\u001b[32m   1170\u001b[39m \u001b[43m                \u001b[49m\u001b[33;43m\"\u001b[39;49m\u001b[33;43mprompt_cache_key\u001b[39;49m\u001b[33;43m\"\u001b[39;49m\u001b[43m:\u001b[49m\u001b[43m \u001b[49m\u001b[43mprompt_cache_key\u001b[49m\u001b[43m,\u001b[49m\n\u001b[32m   1171\u001b[39m \u001b[43m                \u001b[49m\u001b[33;43m\"\u001b[39;49m\u001b[33;43mreasoning_effort\u001b[39;49m\u001b[33;43m\"\u001b[39;49m\u001b[43m:\u001b[49m\u001b[43m \u001b[49m\u001b[43mreasoning_effort\u001b[49m\u001b[43m,\u001b[49m\n\u001b[32m   1172\u001b[39m \u001b[43m                \u001b[49m\u001b[33;43m\"\u001b[39;49m\u001b[33;43mresponse_format\u001b[39;49m\u001b[33;43m\"\u001b[39;49m\u001b[43m:\u001b[49m\u001b[43m \u001b[49m\u001b[43mresponse_format\u001b[49m\u001b[43m,\u001b[49m\n\u001b[32m   1173\u001b[39m \u001b[43m                \u001b[49m\u001b[33;43m\"\u001b[39;49m\u001b[33;43msafety_identifier\u001b[39;49m\u001b[33;43m\"\u001b[39;49m\u001b[43m:\u001b[49m\u001b[43m \u001b[49m\u001b[43msafety_identifier\u001b[49m\u001b[43m,\u001b[49m\n\u001b[32m   1174\u001b[39m \u001b[43m                \u001b[49m\u001b[33;43m\"\u001b[39;49m\u001b[33;43mseed\u001b[39;49m\u001b[33;43m\"\u001b[39;49m\u001b[43m:\u001b[49m\u001b[43m \u001b[49m\u001b[43mseed\u001b[49m\u001b[43m,\u001b[49m\n\u001b[32m   1175\u001b[39m \u001b[43m                \u001b[49m\u001b[33;43m\"\u001b[39;49m\u001b[33;43mservice_tier\u001b[39;49m\u001b[33;43m\"\u001b[39;49m\u001b[43m:\u001b[49m\u001b[43m \u001b[49m\u001b[43mservice_tier\u001b[49m\u001b[43m,\u001b[49m\n\u001b[32m   1176\u001b[39m \u001b[43m                \u001b[49m\u001b[33;43m\"\u001b[39;49m\u001b[33;43mstop\u001b[39;49m\u001b[33;43m\"\u001b[39;49m\u001b[43m:\u001b[49m\u001b[43m \u001b[49m\u001b[43mstop\u001b[49m\u001b[43m,\u001b[49m\n\u001b[32m   1177\u001b[39m \u001b[43m                \u001b[49m\u001b[33;43m\"\u001b[39;49m\u001b[33;43mstore\u001b[39;49m\u001b[33;43m\"\u001b[39;49m\u001b[43m:\u001b[49m\u001b[43m \u001b[49m\u001b[43mstore\u001b[49m\u001b[43m,\u001b[49m\n\u001b[32m   1178\u001b[39m \u001b[43m                \u001b[49m\u001b[33;43m\"\u001b[39;49m\u001b[33;43mstream\u001b[39;49m\u001b[33;43m\"\u001b[39;49m\u001b[43m:\u001b[49m\u001b[43m \u001b[49m\u001b[43mstream\u001b[49m\u001b[43m,\u001b[49m\n\u001b[32m   1179\u001b[39m \u001b[43m                \u001b[49m\u001b[33;43m\"\u001b[39;49m\u001b[33;43mstream_options\u001b[39;49m\u001b[33;43m\"\u001b[39;49m\u001b[43m:\u001b[49m\u001b[43m \u001b[49m\u001b[43mstream_options\u001b[49m\u001b[43m,\u001b[49m\n\u001b[32m   1180\u001b[39m \u001b[43m                \u001b[49m\u001b[33;43m\"\u001b[39;49m\u001b[33;43mtemperature\u001b[39;49m\u001b[33;43m\"\u001b[39;49m\u001b[43m:\u001b[49m\u001b[43m \u001b[49m\u001b[43mtemperature\u001b[49m\u001b[43m,\u001b[49m\n\u001b[32m   1181\u001b[39m \u001b[43m                \u001b[49m\u001b[33;43m\"\u001b[39;49m\u001b[33;43mtool_choice\u001b[39;49m\u001b[33;43m\"\u001b[39;49m\u001b[43m:\u001b[49m\u001b[43m \u001b[49m\u001b[43mtool_choice\u001b[49m\u001b[43m,\u001b[49m\n\u001b[32m   1182\u001b[39m \u001b[43m                \u001b[49m\u001b[33;43m\"\u001b[39;49m\u001b[33;43mtools\u001b[39;49m\u001b[33;43m\"\u001b[39;49m\u001b[43m:\u001b[49m\u001b[43m \u001b[49m\u001b[43mtools\u001b[49m\u001b[43m,\u001b[49m\n\u001b[32m   1183\u001b[39m \u001b[43m                \u001b[49m\u001b[33;43m\"\u001b[39;49m\u001b[33;43mtop_logprobs\u001b[39;49m\u001b[33;43m\"\u001b[39;49m\u001b[43m:\u001b[49m\u001b[43m \u001b[49m\u001b[43mtop_logprobs\u001b[49m\u001b[43m,\u001b[49m\n\u001b[32m   1184\u001b[39m \u001b[43m                \u001b[49m\u001b[33;43m\"\u001b[39;49m\u001b[33;43mtop_p\u001b[39;49m\u001b[33;43m\"\u001b[39;49m\u001b[43m:\u001b[49m\u001b[43m \u001b[49m\u001b[43mtop_p\u001b[49m\u001b[43m,\u001b[49m\n\u001b[32m   1185\u001b[39m \u001b[43m                \u001b[49m\u001b[33;43m\"\u001b[39;49m\u001b[33;43muser\u001b[39;49m\u001b[33;43m\"\u001b[39;49m\u001b[43m:\u001b[49m\u001b[43m \u001b[49m\u001b[43muser\u001b[49m\u001b[43m,\u001b[49m\n\u001b[32m   1186\u001b[39m \u001b[43m                \u001b[49m\u001b[33;43m\"\u001b[39;49m\u001b[33;43mverbosity\u001b[39;49m\u001b[33;43m\"\u001b[39;49m\u001b[43m:\u001b[49m\u001b[43m \u001b[49m\u001b[43mverbosity\u001b[49m\u001b[43m,\u001b[49m\n\u001b[32m   1187\u001b[39m \u001b[43m                \u001b[49m\u001b[33;43m\"\u001b[39;49m\u001b[33;43mweb_search_options\u001b[39;49m\u001b[33;43m\"\u001b[39;49m\u001b[43m:\u001b[49m\u001b[43m \u001b[49m\u001b[43mweb_search_options\u001b[49m\u001b[43m,\u001b[49m\n\u001b[32m   1188\u001b[39m \u001b[43m            \u001b[49m\u001b[43m}\u001b[49m\u001b[43m,\u001b[49m\n\u001b[32m   1189\u001b[39m \u001b[43m            \u001b[49m\u001b[43mcompletion_create_params\u001b[49m\u001b[43m.\u001b[49m\u001b[43mCompletionCreateParamsStreaming\u001b[49m\n\u001b[32m   1190\u001b[39m \u001b[43m            \u001b[49m\u001b[38;5;28;43;01mif\u001b[39;49;00m\u001b[43m \u001b[49m\u001b[43mstream\u001b[49m\n\u001b[32m   1191\u001b[39m \u001b[43m            \u001b[49m\u001b[38;5;28;43;01melse\u001b[39;49;00m\u001b[43m \u001b[49m\u001b[43mcompletion_create_params\u001b[49m\u001b[43m.\u001b[49m\u001b[43mCompletionCreateParamsNonStreaming\u001b[49m\u001b[43m,\u001b[49m\n\u001b[32m   1192\u001b[39m \u001b[43m        \u001b[49m\u001b[43m)\u001b[49m\u001b[43m,\u001b[49m\n\u001b[32m   1193\u001b[39m \u001b[43m        \u001b[49m\u001b[43moptions\u001b[49m\u001b[43m=\u001b[49m\u001b[43mmake_request_options\u001b[49m\u001b[43m(\u001b[49m\n\u001b[32m   1194\u001b[39m \u001b[43m            \u001b[49m\u001b[43mextra_headers\u001b[49m\u001b[43m=\u001b[49m\u001b[43mextra_headers\u001b[49m\u001b[43m,\u001b[49m\u001b[43m \u001b[49m\u001b[43mextra_query\u001b[49m\u001b[43m=\u001b[49m\u001b[43mextra_query\u001b[49m\u001b[43m,\u001b[49m\u001b[43m \u001b[49m\u001b[43mextra_body\u001b[49m\u001b[43m=\u001b[49m\u001b[43mextra_body\u001b[49m\u001b[43m,\u001b[49m\u001b[43m \u001b[49m\u001b[43mtimeout\u001b[49m\u001b[43m=\u001b[49m\u001b[43mtimeout\u001b[49m\n\u001b[32m   1195\u001b[39m \u001b[43m        \u001b[49m\u001b[43m)\u001b[49m\u001b[43m,\u001b[49m\n\u001b[32m   1196\u001b[39m \u001b[43m        \u001b[49m\u001b[43mcast_to\u001b[49m\u001b[43m=\u001b[49m\u001b[43mChatCompletion\u001b[49m\u001b[43m,\u001b[49m\n\u001b[32m   1197\u001b[39m \u001b[43m        \u001b[49m\u001b[43mstream\u001b[49m\u001b[43m=\u001b[49m\u001b[43mstream\u001b[49m\u001b[43m \u001b[49m\u001b[38;5;129;43;01mor\u001b[39;49;00m\u001b[43m \u001b[49m\u001b[38;5;28;43;01mFalse\u001b[39;49;00m\u001b[43m,\u001b[49m\n\u001b[32m   1198\u001b[39m \u001b[43m        \u001b[49m\u001b[43mstream_cls\u001b[49m\u001b[43m=\u001b[49m\u001b[43mStream\u001b[49m\u001b[43m[\u001b[49m\u001b[43mChatCompletionChunk\u001b[49m\u001b[43m]\u001b[49m\u001b[43m,\u001b[49m\n\u001b[32m   1199\u001b[39m \u001b[43m    \u001b[49m\u001b[43m)\u001b[49m\n",
      "\u001b[36mFile \u001b[39m\u001b[32mc:\\Users\\em\\Desktop\\PFA\\Customer_Support_LLMOps\\llmops_venv\\Lib\\site-packages\\openai\\_base_client.py:1259\u001b[39m, in \u001b[36mSyncAPIClient.post\u001b[39m\u001b[34m(self, path, cast_to, body, options, files, stream, stream_cls)\u001b[39m\n\u001b[32m   1245\u001b[39m \u001b[38;5;28;01mdef\u001b[39;00m\u001b[38;5;250m \u001b[39m\u001b[34mpost\u001b[39m(\n\u001b[32m   1246\u001b[39m     \u001b[38;5;28mself\u001b[39m,\n\u001b[32m   1247\u001b[39m     path: \u001b[38;5;28mstr\u001b[39m,\n\u001b[32m   (...)\u001b[39m\u001b[32m   1254\u001b[39m     stream_cls: \u001b[38;5;28mtype\u001b[39m[_StreamT] | \u001b[38;5;28;01mNone\u001b[39;00m = \u001b[38;5;28;01mNone\u001b[39;00m,\n\u001b[32m   1255\u001b[39m ) -> ResponseT | _StreamT:\n\u001b[32m   1256\u001b[39m     opts = FinalRequestOptions.construct(\n\u001b[32m   1257\u001b[39m         method=\u001b[33m\"\u001b[39m\u001b[33mpost\u001b[39m\u001b[33m\"\u001b[39m, url=path, json_data=body, files=to_httpx_files(files), **options\n\u001b[32m   1258\u001b[39m     )\n\u001b[32m-> \u001b[39m\u001b[32m1259\u001b[39m     \u001b[38;5;28;01mreturn\u001b[39;00m cast(ResponseT, \u001b[38;5;28;43mself\u001b[39;49m\u001b[43m.\u001b[49m\u001b[43mrequest\u001b[49m\u001b[43m(\u001b[49m\u001b[43mcast_to\u001b[49m\u001b[43m,\u001b[49m\u001b[43m \u001b[49m\u001b[43mopts\u001b[49m\u001b[43m,\u001b[49m\u001b[43m \u001b[49m\u001b[43mstream\u001b[49m\u001b[43m=\u001b[49m\u001b[43mstream\u001b[49m\u001b[43m,\u001b[49m\u001b[43m \u001b[49m\u001b[43mstream_cls\u001b[49m\u001b[43m=\u001b[49m\u001b[43mstream_cls\u001b[49m\u001b[43m)\u001b[49m)\n",
      "\u001b[36mFile \u001b[39m\u001b[32mc:\\Users\\em\\Desktop\\PFA\\Customer_Support_LLMOps\\llmops_venv\\Lib\\site-packages\\openai\\_base_client.py:1047\u001b[39m, in \u001b[36mSyncAPIClient.request\u001b[39m\u001b[34m(self, cast_to, options, stream, stream_cls)\u001b[39m\n\u001b[32m   1044\u001b[39m             err.response.read()\n\u001b[32m   1046\u001b[39m         log.debug(\u001b[33m\"\u001b[39m\u001b[33mRe-raising status error\u001b[39m\u001b[33m\"\u001b[39m)\n\u001b[32m-> \u001b[39m\u001b[32m1047\u001b[39m         \u001b[38;5;28;01mraise\u001b[39;00m \u001b[38;5;28mself\u001b[39m._make_status_error_from_response(err.response) \u001b[38;5;28;01mfrom\u001b[39;00m\u001b[38;5;250m \u001b[39m\u001b[38;5;28;01mNone\u001b[39;00m\n\u001b[32m   1049\u001b[39m     \u001b[38;5;28;01mbreak\u001b[39;00m\n\u001b[32m   1051\u001b[39m \u001b[38;5;28;01massert\u001b[39;00m response \u001b[38;5;129;01mis\u001b[39;00m \u001b[38;5;129;01mnot\u001b[39;00m \u001b[38;5;28;01mNone\u001b[39;00m, \u001b[33m\"\u001b[39m\u001b[33mcould not resolve response (should never happen)\u001b[39m\u001b[33m\"\u001b[39m\n",
      "\u001b[31mAuthenticationError\u001b[39m: Error code: 401 - {'error': {'message': 'Incorrect API key provided: sk-or-v1*************************************************************2712. You can find your API key at https://platform.openai.com/account/api-keys.', 'type': 'invalid_request_error', 'param': None, 'code': 'invalid_api_key'}}"
     ]
    }
   ],
   "source": [
    "response = rag_chain.invoke({\"input\": \"what is codNetwork\"})\n",
    "print(response[\"answer\"])"
   ]
  },
  {
   "cell_type": "markdown",
   "id": "a91c2a86",
   "metadata": {},
   "source": [
    "### Refine the response with the LLM model (Google Gimini)"
   ]
  },
  {
   "cell_type": "code",
   "execution_count": 28,
   "id": "6d0583c4",
   "metadata": {},
   "outputs": [],
   "source": [
    "from langchain_google_genai import ChatGoogleGenerativeAI\n",
    "\n",
    "chatModel = ChatGoogleGenerativeAI(\n",
    "    model=\"gemini-2.5-flash\",  # or another available variant\n",
    "    temperature=0.4,\n",
    "    max_tokens=500\n",
    ")  # :contentReference[oaicite:1]{index=1}"
   ]
  },
  {
   "cell_type": "code",
   "execution_count": 29,
   "id": "007a0503",
   "metadata": {},
   "outputs": [],
   "source": [
    "from langchain_core.prompts import ChatPromptTemplate\n",
    "from langchain.chains import create_retrieval_chain\n",
    "from langchain.chains.combine_documents import create_stuff_documents_chain"
   ]
  },
  {
   "cell_type": "code",
   "execution_count": 30,
   "id": "2000d48e",
   "metadata": {},
   "outputs": [],
   "source": [
    "# Prompt setup\n",
    "system_prompt = (\n",
    "    \"You are CODNetwork’s official customer support assistant.\\n\"\n",
    "    \"Provide clear, concise, and polite answers to customer questions.\\n\"\n",
    "    \"Use ONLY the provided context from CODNetwork’s official documentation, FAQs, and product/service descriptions.\\n\"\n",
    "    \"If the answer is not in the context, politely say you don’t have that information and suggest contacting human support.\\n\"\n",
    "    \"Always maintain a professional and friendly tone consistent with CODNetwork’s brand.\\n\"\n",
    "    \"Prioritize accuracy over creativity.\\n\"\n",
    "    \"Never make up information, policies, or offers.\\n\"\n",
    "    \"Use simple language customers can understand.\\n\"\n",
    "    \"If a question is unclear, ask for clarification before answering.\\n\"\n",
    "    \"\\n\\n\"\n",
    "    \"{context}\"\n",
    ")\n",
    "\n",
    "\n",
    "prompt = ChatPromptTemplate.from_messages(\n",
    "    [\n",
    "        (\"system\", system_prompt),\n",
    "        (\"human\", \"{input}\"),\n",
    "    ]\n",
    ")"
   ]
  },
  {
   "cell_type": "code",
   "execution_count": 31,
   "id": "5c85a0d6",
   "metadata": {},
   "outputs": [],
   "source": [
    "question_answer_chain = create_stuff_documents_chain(chatModel, prompt)\n",
    "rag_chain = create_retrieval_chain(retriever, question_answer_chain)"
   ]
  },
  {
   "cell_type": "code",
   "execution_count": 34,
   "id": "9b599360",
   "metadata": {},
   "outputs": [
    {
     "name": "stdout",
     "output_type": "stream",
     "text": [
      "CODNetwork enables e-commerce businesses to start, grow, and scale in the Middle East, Africa, and beyond. For sellers, you can sell your products in multiple countries within the MENA region.\n"
     ]
    }
   ],
   "source": [
    "response = rag_chain.invoke({\"input\": \"where codNetwork is working in which countries?\"})\n",
    "print(response[\"answer\"])"
   ]
  },
  {
   "cell_type": "code",
   "execution_count": null,
   "id": "f7069511",
   "metadata": {},
   "outputs": [],
   "source": []
  },
  {
   "cell_type": "markdown",
   "id": "5d658a7c",
   "metadata": {},
   "source": [
    "# Test Code "
   ]
  }
 ],
 "metadata": {
  "kernelspec": {
   "display_name": "llmops_venv",
   "language": "python",
   "name": "python3"
  },
  "language_info": {
   "codemirror_mode": {
    "name": "ipython",
    "version": 3
   },
   "file_extension": ".py",
   "mimetype": "text/x-python",
   "name": "python",
   "nbconvert_exporter": "python",
   "pygments_lexer": "ipython3",
   "version": "3.12.7"
  }
 },
 "nbformat": 4,
 "nbformat_minor": 5
}
