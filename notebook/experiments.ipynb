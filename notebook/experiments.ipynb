{
 "cells": [
  {
   "cell_type": "code",
   "execution_count": 1,
   "id": "0b7484bc",
   "metadata": {},
   "outputs": [
    {
     "data": {
      "text/plain": [
       "'c:\\\\Users\\\\em\\\\Desktop\\\\PFA\\\\Customer_Support_LLMOps\\\\notebook'"
      ]
     },
     "execution_count": 1,
     "metadata": {},
     "output_type": "execute_result"
    }
   ],
   "source": [
    "%pwd"
   ]
  },
  {
   "cell_type": "code",
   "execution_count": 2,
   "id": "7f2c24a8",
   "metadata": {},
   "outputs": [
    {
     "data": {
      "text/plain": [
       "'c:\\\\Users\\\\em\\\\Desktop\\\\PFA\\\\Customer_Support_LLMOps'"
      ]
     },
     "execution_count": 2,
     "metadata": {},
     "output_type": "execute_result"
    }
   ],
   "source": [
    "import os \n",
    "os.chdir(\"../\")\n",
    "\n",
    "%pwd"
   ]
  },
  {
   "cell_type": "code",
   "execution_count": 3,
   "id": "49bd3aa8",
   "metadata": {},
   "outputs": [],
   "source": [
    "from langchain.document_loaders import PyPDFLoader, DirectoryLoader\n",
    "from langchain.text_splitter import RecursiveCharacterTextSplitter"
   ]
  },
  {
   "cell_type": "code",
   "execution_count": 4,
   "id": "6a91ab9f",
   "metadata": {},
   "outputs": [],
   "source": [
    "# Extract text from PDF files\n",
    "def load_pdf_files(data):\n",
    "    loader = DirectoryLoader(\n",
    "        data,                  # path to the folder containing PDF files\n",
    "        glob=\"*.pdf\",          # load only files ending with .pdf\n",
    "        loader_cls=PyPDFLoader # use PyPDFLoader for each file\n",
    "    )\n",
    "\n",
    "    documents = loader.load()\n",
    "    return documents"
   ]
  },
  {
   "cell_type": "code",
   "execution_count": 5,
   "id": "6f51154d",
   "metadata": {},
   "outputs": [
    {
     "data": {
      "text/plain": [
       "[Document(metadata={'producer': 'ReportLab PDF Library - www.reportlab.com', 'creator': '(unspecified)', 'creationdate': '2025-08-13T21:14:05+00:00', 'author': '(anonymous)', 'keywords': '', 'moddate': '2025-08-13T21:14:05+00:00', 'subject': '(unspecified)', 'title': '(anonymous)', 'trapped': '/False', 'source': 'data\\\\CODNetwork_Complete_Updated.pdf', 'total_pages': 4, 'page': 0, 'page_label': '1'}, page_content=\"CODNetwork\\nWe Enable Everyone to Start Grow and Scale Ecommerce Business in\\nthe Middle East, Africa and Beyond.\\nSourcing Fulfillment Call-Center Warehousing Shipping Remittance\\n Join us today!\\nYou can join us today by choosing the model that suits you. We offer both Seller and Affiliate\\nmodels.\\nCODNetwork Seller :\\nStart selling your own products and goods in multiple countries in MENA region by taking\\nadvantage of our services. Transform Your Cash on Delivery Business with COD Network Services.\\nFrom sourcing to delivery, we manage your business needs securely, efficiently, and globally.\\nOur Solutions\\nEnabling online sellers with efficient, quality-focused procurement to delivery solutions, freeing you\\nto innovate and market.\\nAccount Manager\\nYour Ultimate Partner in Business Growth. With an Account Manager at COD Network, reach your\\ngoals effortlessly. We enhance your sales and delivery rate, provide expert guidance on sourcing\\nproducts, keep you updated with instant news, and inspire you to push boundaries, paving the way\\nfor your business's consistent growth.\"),\n",
       " Document(metadata={'producer': 'ReportLab PDF Library - www.reportlab.com', 'creator': '(unspecified)', 'creationdate': '2025-08-13T21:14:05+00:00', 'author': '(anonymous)', 'keywords': '', 'moddate': '2025-08-13T21:14:05+00:00', 'subject': '(unspecified)', 'title': '(anonymous)', 'trapped': '/False', 'source': 'data\\\\CODNetwork_Complete_Updated.pdf', 'total_pages': 4, 'page': 1, 'page_label': '2'}, page_content=\"How it works?\\nHow it Works? An all-in-one digital platform that allows full visibility of the entire e-commerce selling\\ncycle from Sourcing, e-fulfillment, order confirmation, delivery, Payment processing, Collection and\\nmerchants digital wallets. 1. Connect your Ecommerce website into COD Network COD network\\nconnects you to various ecommerce platforms and marketplaces. Worry free integration, you can\\neither use our user-interface or integrate with APIs. 2. Let us source your inventory or collect it from\\nyour desired location We take care of quality control, freight options and custom clearance, hassle\\nfree. We can manufacture, source or ship your inventory from our network of suppliers around the\\nworld to one of our warehouses, door to door. 3. Start your online sales! When you receive an order\\nthrough one of the integrated sales channels, it is automatically imported into the COD network\\nplatform. Fast, free, error free. However, you can enter the order manually or via a CSV file. 4.\\nConfirm your order via our call center We can manage 100% of your order taking service needs,\\nstarting from the lead coming from your sales channel until the sale is done and confirmed. 5. Get\\nyour order picked, packed and ready to dispatch The minute your order is confirmed, it gets\\nforwarded to be picked, packed and dispatched to the correct courier. 6. Track your order delivery\\nGet everything you need to know to track your package. You can track by tracking number and\\nreference number as well as view shipping history. 7. Receive payment for your delivered orders\\nWe collect the payment from your customer, then remit you the payment. We can send you your\\nmoney anywhere you are in the world.\\nStep 1 Create account Initiate your account setup. Once your account undergoes our review\\nprocess, a dedicated account manager will be assigned.\\nStep 2 Product Sourcing Following your successful product research, you're now prepared to order\\nyour inventory and connect your store to the COD Network.\\nStep 3 Market & Earn Expand your marketing efforts and commence selling your products; you'll\\nreceive payments for your invoices on a weekly basis.\\nCODNetwork Affiliate:\"),\n",
       " Document(metadata={'producer': 'ReportLab PDF Library - www.reportlab.com', 'creator': '(unspecified)', 'creationdate': '2025-08-13T21:14:05+00:00', 'author': '(anonymous)', 'keywords': '', 'moddate': '2025-08-13T21:14:05+00:00', 'subject': '(unspecified)', 'title': '(anonymous)', 'trapped': '/False', 'source': 'data\\\\CODNetwork_Complete_Updated.pdf', 'total_pages': 4, 'page': 2, 'page_label': '3'}, page_content='Promote different offers and products listed on our platform and receive important commissions.\\nIncrease your profits with the first Cash On Delivery affiliate network in North Africa and the Middle\\nEast. Register, Promote Offers and Earn Attractive Commissions.\\n Why Should You Join Us Today?\\nSmall Capital: A project that generates profits with a small capital investment. Just Focus on\\nMarketing: Spread your ads across both free and paid platforms. High Net Profit Margin: Impressive\\nnet profits from thousands of available offers and products.\\nWhere to Promote?\\nOur service is currently available in the GCC countries, Morocco, and West Africa. We are\\nexpanding to Europe in the near future. Our expertise enables you to enter markets with a high\\npurchasing power, resulting in a high rate of order confirmations and deliveries. Saudi Arabia,\\nQatar, Kuwait, Oman, United Arab Emirates, Bahrain, Senegal, Morocco, Mali, Ivory Coast, India\\n Quick and easy steps to earn through our affiliate\\n programs\\n1. Create an Account: Create an account on the Affiliate platform by filling out the registration form.\\n2. Choose offers: Among the many offers in different industries, pick the ones that suit you. 3.\\nPromote Products: Use referral links or link your store to the platform to access millions of potential\\ncustomers. 4. Earn commission: Earn the commission on confirmed or delivered orders.'),\n",
       " Document(metadata={'producer': 'ReportLab PDF Library - www.reportlab.com', 'creator': '(unspecified)', 'creationdate': '2025-08-13T21:14:05+00:00', 'author': '(anonymous)', 'keywords': '', 'moddate': '2025-08-13T21:14:05+00:00', 'subject': '(unspecified)', 'title': '(anonymous)', 'trapped': '/False', 'source': 'data\\\\CODNetwork_Complete_Updated.pdf', 'total_pages': 4, 'page': 3, 'page_label': '4'}, page_content=\"We support various Store Platforms\\nLeadpages, Youcan, WooCommerce, Shopify\\nFor more information contact us:\\nsupport@cod.network\\nTutorials\\nHow to Connect Youcan Store to Affiliate Platform?\\nhttps://www.youtube.com/watch?v=nqVXcaKaFsY How to Setup Landing Pages?\\nhttps://www.youtube.com/watch?v=vQL2GmjM_xQ How to connect domain name?\\nhttps://www.youtube.com/watch?v=DnfHlxDLGBA How to Connect WooCommerce with Affiliate\\nPlatform? https://www.youtube.com/watch?v=lcEt8mFAq-M\\nAn all-in-one digital platform\\nCOD Network's Affiliate platform is a service that allows you to sell products without having capital\\nto buy the commodity wholesale. We provide all services from importing goods, call centers,\\nwarehousing, shipping and collecting funds and sending them to our client accounts. We help\\npeople achieve and earn highly profitable commissions through their marketing of the products we\\nmake available to them on the Affiliate website.\"),\n",
       " Document(metadata={'producer': 'ReportLab PDF Library - www.reportlab.com', 'creator': '(unspecified)', 'creationdate': '2025-08-13T21:03:42+00:00', 'author': '(anonymous)', 'keywords': '', 'moddate': '2025-08-13T21:03:42+00:00', 'subject': '(unspecified)', 'title': '(anonymous)', 'trapped': '/False', 'source': 'data\\\\CODNetwork_Info.pdf', 'total_pages': 2, 'page': 0, 'page_label': '1'}, page_content=\"CODNetwork We Enable Everyone to Start Grow and Scale Ecommerce Business in the Middle\\nEast, Africa and Beyond.\\nSourcing Fulfillment Call-Center Warehousing Shipping Remittance\\nJoin us today! You can join us today by choosing the model that suits you. We offer both Seller and\\nAffiliate models.\\nCODNetwork Seller : Start selling your own products and goods in multiple countries in MENA\\nregion by taking advantage of our services. Transform Your Cash on Delivery Business with COD\\nNetwork Services From sourcing to delivery, we manage your business needs securely, efficiently,\\nand globally. Our Solutions Enabling online sellers with efficient, quality-focused procurement to\\ndelivery solutions, freeing you to innovate and market.\\nAccount Manager Your Ultimate Partner in Business Growth With an Account Manager at COD\\nNetwork, reach your goals effortlessly. We enhance your sales and delivery rate, provide expert\\nguidance on sourcing products, keep you updated with instant news, and inspire you to push\\nboundaries, paving the way for your business's consistent growth.\\nHow it works? Step 1 Create account Initiate your account setup. Once your account undergoes our\\nreview process, a dedicated account manager will be assigned.\\nStep 2 Product Sourcing Following your successful product research, you're now prepared to order\\nyour inventory and connect your store to the COD Network.\\nStep 3 Market & Earn Expand your marketing efforts and commence selling your products; you'll\\nreceive payments for your invoices on a weekly basis. CODNetwork Affeliate: Promote different\\noffers and products listed on our platform and receive important commissions.\\nIncrease your profits with the first Cash On Delivery affiliate network in North Africa and the Middle\\nEast Register, Promote Offers and Earn Attractive Commissions\\nWhy Should You Join Us Today? Bulb icon Small Capital A project that generates profits with a\\nsmall capital investment.\\nAward icon Just Focus on Marketing Spread your ads across both free and paid platforms.\\nTeam icon High Net Profit Margin Impressive net profits from thousands of available offers and\\nproducts.\\nWhere to Promote? Our service is currently available in the GCC countries, Morocco, and West\\nAfrica. We are expanding to Europe in the near future. Our expertise enables you to enter markets\\nwith a high purchasing power, resulting in a high rate of order confirmations and deliveries.\\nSaudi Arabia Qatar Kuwait Oman United Arab Emirates Bahrain Senegal Morocco Mali Ivory Coast\\nIndia\\nQuick and easy steps to earn through our affiliate programs 1 Create an Account Create an account\\non the Affiliate platform by filling out the registration form.\\n2 Choose offers Among the many offers in different industries, pick the ones that suit you.\\n3 Promote Products Use referral links or link your store to the platform to access millions of\\npotential customers.\\n4 Earn commission Earn the commission on confirmed or delivered orders.\"),\n",
       " Document(metadata={'producer': 'ReportLab PDF Library - www.reportlab.com', 'creator': '(unspecified)', 'creationdate': '2025-08-13T21:03:42+00:00', 'author': '(anonymous)', 'keywords': '', 'moddate': '2025-08-13T21:03:42+00:00', 'subject': '(unspecified)', 'title': '(anonymous)', 'trapped': '/False', 'source': 'data\\\\CODNetwork_Info.pdf', 'total_pages': 2, 'page': 1, 'page_label': '2'}, page_content=\"We support various Store Platforms leadpages Youcan Woocommerce shopify\\nFor more informations contact us: support@cod.network\\nTutorials\\nHow to Connect Youcan Store to Affiliate Platform?\\nhttps://www.youtube.com/watch?v=nqVXcaKaFsY\\nHow to Setup Landing Pages? https://www.youtube.com/watch?v=vQL2GmjM_xQ\\nHow to connect domain name? https://www.youtube.com/watch?v=DnfHlxDLGBA\\nHow to Connect WooCommerce with Affiliate Platform?\\nhttps://www.youtube.com/watch?v=lcEt8mFAq-M\\nAn all-in-one digital platform COD Network's Affiliate platform is a service that allows you to sell\\nproducts without having capital to buy the commodity wholesale. We provide all services from\\nimporting goods, call centers, warehousing, shipping and collecting funds and sending them to our\\nclient accounts.\\nWe help people achieve and earn highly profitable commissions through their marketing of the\\nproducts we make available to them on the Affiliate website.\")]"
      ]
     },
     "execution_count": 5,
     "metadata": {},
     "output_type": "execute_result"
    }
   ],
   "source": [
    "extracted_data = load_pdf_files(\"data\")\n",
    "extracted_data"
   ]
  },
  {
   "cell_type": "code",
   "execution_count": 6,
   "id": "7439337a",
   "metadata": {},
   "outputs": [
    {
     "data": {
      "text/plain": [
       "6"
      ]
     },
     "execution_count": 6,
     "metadata": {},
     "output_type": "execute_result"
    }
   ],
   "source": [
    "len(extracted_data)"
   ]
  },
  {
   "cell_type": "code",
   "execution_count": 7,
   "id": "5386f2f3",
   "metadata": {},
   "outputs": [],
   "source": [
    "from typing import List\n",
    "from langchain.schema import Document\n",
    "\n",
    "def filter_to_minimal_docs(docs: List[Document]) -> List[Document]:\n",
    "    \"\"\"\n",
    "    Given a list of Document objects, return a new list of Document objects\n",
    "    containing only 'source' in metadata and the original page_content.\n",
    "    \"\"\"\n",
    "    minimal_docs: List[Document] = []\n",
    "    for doc in docs:\n",
    "        src = doc.metadata.get(\"source\")\n",
    "        minimal_docs.append(\n",
    "            Document(\n",
    "                page_content=doc.page_content,\n",
    "                metadata={\"source\": src}\n",
    "            )\n",
    "        )\n",
    "    return minimal_docs"
   ]
  },
  {
   "cell_type": "code",
   "execution_count": 8,
   "id": "120e22e8",
   "metadata": {},
   "outputs": [
    {
     "data": {
      "text/plain": [
       "[Document(metadata={'source': 'data\\\\CODNetwork_Complete_Updated.pdf'}, page_content=\"CODNetwork\\nWe Enable Everyone to Start Grow and Scale Ecommerce Business in\\nthe Middle East, Africa and Beyond.\\nSourcing Fulfillment Call-Center Warehousing Shipping Remittance\\n Join us today!\\nYou can join us today by choosing the model that suits you. We offer both Seller and Affiliate\\nmodels.\\nCODNetwork Seller :\\nStart selling your own products and goods in multiple countries in MENA region by taking\\nadvantage of our services. Transform Your Cash on Delivery Business with COD Network Services.\\nFrom sourcing to delivery, we manage your business needs securely, efficiently, and globally.\\nOur Solutions\\nEnabling online sellers with efficient, quality-focused procurement to delivery solutions, freeing you\\nto innovate and market.\\nAccount Manager\\nYour Ultimate Partner in Business Growth. With an Account Manager at COD Network, reach your\\ngoals effortlessly. We enhance your sales and delivery rate, provide expert guidance on sourcing\\nproducts, keep you updated with instant news, and inspire you to push boundaries, paving the way\\nfor your business's consistent growth.\"),\n",
       " Document(metadata={'source': 'data\\\\CODNetwork_Complete_Updated.pdf'}, page_content=\"How it works?\\nHow it Works? An all-in-one digital platform that allows full visibility of the entire e-commerce selling\\ncycle from Sourcing, e-fulfillment, order confirmation, delivery, Payment processing, Collection and\\nmerchants digital wallets. 1. Connect your Ecommerce website into COD Network COD network\\nconnects you to various ecommerce platforms and marketplaces. Worry free integration, you can\\neither use our user-interface or integrate with APIs. 2. Let us source your inventory or collect it from\\nyour desired location We take care of quality control, freight options and custom clearance, hassle\\nfree. We can manufacture, source or ship your inventory from our network of suppliers around the\\nworld to one of our warehouses, door to door. 3. Start your online sales! When you receive an order\\nthrough one of the integrated sales channels, it is automatically imported into the COD network\\nplatform. Fast, free, error free. However, you can enter the order manually or via a CSV file. 4.\\nConfirm your order via our call center We can manage 100% of your order taking service needs,\\nstarting from the lead coming from your sales channel until the sale is done and confirmed. 5. Get\\nyour order picked, packed and ready to dispatch The minute your order is confirmed, it gets\\nforwarded to be picked, packed and dispatched to the correct courier. 6. Track your order delivery\\nGet everything you need to know to track your package. You can track by tracking number and\\nreference number as well as view shipping history. 7. Receive payment for your delivered orders\\nWe collect the payment from your customer, then remit you the payment. We can send you your\\nmoney anywhere you are in the world.\\nStep 1 Create account Initiate your account setup. Once your account undergoes our review\\nprocess, a dedicated account manager will be assigned.\\nStep 2 Product Sourcing Following your successful product research, you're now prepared to order\\nyour inventory and connect your store to the COD Network.\\nStep 3 Market & Earn Expand your marketing efforts and commence selling your products; you'll\\nreceive payments for your invoices on a weekly basis.\\nCODNetwork Affiliate:\"),\n",
       " Document(metadata={'source': 'data\\\\CODNetwork_Complete_Updated.pdf'}, page_content='Promote different offers and products listed on our platform and receive important commissions.\\nIncrease your profits with the first Cash On Delivery affiliate network in North Africa and the Middle\\nEast. Register, Promote Offers and Earn Attractive Commissions.\\n Why Should You Join Us Today?\\nSmall Capital: A project that generates profits with a small capital investment. Just Focus on\\nMarketing: Spread your ads across both free and paid platforms. High Net Profit Margin: Impressive\\nnet profits from thousands of available offers and products.\\nWhere to Promote?\\nOur service is currently available in the GCC countries, Morocco, and West Africa. We are\\nexpanding to Europe in the near future. Our expertise enables you to enter markets with a high\\npurchasing power, resulting in a high rate of order confirmations and deliveries. Saudi Arabia,\\nQatar, Kuwait, Oman, United Arab Emirates, Bahrain, Senegal, Morocco, Mali, Ivory Coast, India\\n Quick and easy steps to earn through our affiliate\\n programs\\n1. Create an Account: Create an account on the Affiliate platform by filling out the registration form.\\n2. Choose offers: Among the many offers in different industries, pick the ones that suit you. 3.\\nPromote Products: Use referral links or link your store to the platform to access millions of potential\\ncustomers. 4. Earn commission: Earn the commission on confirmed or delivered orders.'),\n",
       " Document(metadata={'source': 'data\\\\CODNetwork_Complete_Updated.pdf'}, page_content=\"We support various Store Platforms\\nLeadpages, Youcan, WooCommerce, Shopify\\nFor more information contact us:\\nsupport@cod.network\\nTutorials\\nHow to Connect Youcan Store to Affiliate Platform?\\nhttps://www.youtube.com/watch?v=nqVXcaKaFsY How to Setup Landing Pages?\\nhttps://www.youtube.com/watch?v=vQL2GmjM_xQ How to connect domain name?\\nhttps://www.youtube.com/watch?v=DnfHlxDLGBA How to Connect WooCommerce with Affiliate\\nPlatform? https://www.youtube.com/watch?v=lcEt8mFAq-M\\nAn all-in-one digital platform\\nCOD Network's Affiliate platform is a service that allows you to sell products without having capital\\nto buy the commodity wholesale. We provide all services from importing goods, call centers,\\nwarehousing, shipping and collecting funds and sending them to our client accounts. We help\\npeople achieve and earn highly profitable commissions through their marketing of the products we\\nmake available to them on the Affiliate website.\"),\n",
       " Document(metadata={'source': 'data\\\\CODNetwork_Info.pdf'}, page_content=\"CODNetwork We Enable Everyone to Start Grow and Scale Ecommerce Business in the Middle\\nEast, Africa and Beyond.\\nSourcing Fulfillment Call-Center Warehousing Shipping Remittance\\nJoin us today! You can join us today by choosing the model that suits you. We offer both Seller and\\nAffiliate models.\\nCODNetwork Seller : Start selling your own products and goods in multiple countries in MENA\\nregion by taking advantage of our services. Transform Your Cash on Delivery Business with COD\\nNetwork Services From sourcing to delivery, we manage your business needs securely, efficiently,\\nand globally. Our Solutions Enabling online sellers with efficient, quality-focused procurement to\\ndelivery solutions, freeing you to innovate and market.\\nAccount Manager Your Ultimate Partner in Business Growth With an Account Manager at COD\\nNetwork, reach your goals effortlessly. We enhance your sales and delivery rate, provide expert\\nguidance on sourcing products, keep you updated with instant news, and inspire you to push\\nboundaries, paving the way for your business's consistent growth.\\nHow it works? Step 1 Create account Initiate your account setup. Once your account undergoes our\\nreview process, a dedicated account manager will be assigned.\\nStep 2 Product Sourcing Following your successful product research, you're now prepared to order\\nyour inventory and connect your store to the COD Network.\\nStep 3 Market & Earn Expand your marketing efforts and commence selling your products; you'll\\nreceive payments for your invoices on a weekly basis. CODNetwork Affeliate: Promote different\\noffers and products listed on our platform and receive important commissions.\\nIncrease your profits with the first Cash On Delivery affiliate network in North Africa and the Middle\\nEast Register, Promote Offers and Earn Attractive Commissions\\nWhy Should You Join Us Today? Bulb icon Small Capital A project that generates profits with a\\nsmall capital investment.\\nAward icon Just Focus on Marketing Spread your ads across both free and paid platforms.\\nTeam icon High Net Profit Margin Impressive net profits from thousands of available offers and\\nproducts.\\nWhere to Promote? Our service is currently available in the GCC countries, Morocco, and West\\nAfrica. We are expanding to Europe in the near future. Our expertise enables you to enter markets\\nwith a high purchasing power, resulting in a high rate of order confirmations and deliveries.\\nSaudi Arabia Qatar Kuwait Oman United Arab Emirates Bahrain Senegal Morocco Mali Ivory Coast\\nIndia\\nQuick and easy steps to earn through our affiliate programs 1 Create an Account Create an account\\non the Affiliate platform by filling out the registration form.\\n2 Choose offers Among the many offers in different industries, pick the ones that suit you.\\n3 Promote Products Use referral links or link your store to the platform to access millions of\\npotential customers.\\n4 Earn commission Earn the commission on confirmed or delivered orders.\"),\n",
       " Document(metadata={'source': 'data\\\\CODNetwork_Info.pdf'}, page_content=\"We support various Store Platforms leadpages Youcan Woocommerce shopify\\nFor more informations contact us: support@cod.network\\nTutorials\\nHow to Connect Youcan Store to Affiliate Platform?\\nhttps://www.youtube.com/watch?v=nqVXcaKaFsY\\nHow to Setup Landing Pages? https://www.youtube.com/watch?v=vQL2GmjM_xQ\\nHow to connect domain name? https://www.youtube.com/watch?v=DnfHlxDLGBA\\nHow to Connect WooCommerce with Affiliate Platform?\\nhttps://www.youtube.com/watch?v=lcEt8mFAq-M\\nAn all-in-one digital platform COD Network's Affiliate platform is a service that allows you to sell\\nproducts without having capital to buy the commodity wholesale. We provide all services from\\nimporting goods, call centers, warehousing, shipping and collecting funds and sending them to our\\nclient accounts.\\nWe help people achieve and earn highly profitable commissions through their marketing of the\\nproducts we make available to them on the Affiliate website.\")]"
      ]
     },
     "execution_count": 8,
     "metadata": {},
     "output_type": "execute_result"
    }
   ],
   "source": [
    "minimal_docs = filter_to_minimal_docs(extracted_data)\n",
    "minimal_docs"
   ]
  },
  {
   "cell_type": "markdown",
   "id": "767e19f0",
   "metadata": {},
   "source": [
    "### Split the documents into smaller chunks"
   ]
  },
  {
   "cell_type": "code",
   "execution_count": 9,
   "id": "82f6c767",
   "metadata": {},
   "outputs": [],
   "source": [
    "def text_split(minimal_docs):\n",
    "    text_splitter = RecursiveCharacterTextSplitter(\n",
    "        chunk_size=500,\n",
    "        chunk_overlap=20,\n",
    "    )\n",
    "    texts_chunk = text_splitter.split_documents(minimal_docs)\n",
    "    return texts_chunk"
   ]
  },
  {
   "cell_type": "code",
   "execution_count": 10,
   "id": "e3a83863",
   "metadata": {},
   "outputs": [
    {
     "name": "stdout",
     "output_type": "stream",
     "text": [
      "Number of chunks: 22\n"
     ]
    },
    {
     "data": {
      "text/plain": [
       "[Document(metadata={'source': 'data\\\\CODNetwork_Complete_Updated.pdf'}, page_content='CODNetwork\\nWe Enable Everyone to Start Grow and Scale Ecommerce Business in\\nthe Middle East, Africa and Beyond.\\nSourcing Fulfillment Call-Center Warehousing Shipping Remittance\\n Join us today!\\nYou can join us today by choosing the model that suits you. We offer both Seller and Affiliate\\nmodels.\\nCODNetwork Seller :\\nStart selling your own products and goods in multiple countries in MENA region by taking\\nadvantage of our services. Transform Your Cash on Delivery Business with COD Network Services.'),\n",
       " Document(metadata={'source': 'data\\\\CODNetwork_Complete_Updated.pdf'}, page_content='From sourcing to delivery, we manage your business needs securely, efficiently, and globally.\\nOur Solutions\\nEnabling online sellers with efficient, quality-focused procurement to delivery solutions, freeing you\\nto innovate and market.\\nAccount Manager\\nYour Ultimate Partner in Business Growth. With an Account Manager at COD Network, reach your\\ngoals effortlessly. We enhance your sales and delivery rate, provide expert guidance on sourcing'),\n",
       " Document(metadata={'source': 'data\\\\CODNetwork_Complete_Updated.pdf'}, page_content=\"products, keep you updated with instant news, and inspire you to push boundaries, paving the way\\nfor your business's consistent growth.\"),\n",
       " Document(metadata={'source': 'data\\\\CODNetwork_Complete_Updated.pdf'}, page_content='How it works?\\nHow it Works? An all-in-one digital platform that allows full visibility of the entire e-commerce selling\\ncycle from Sourcing, e-fulfillment, order confirmation, delivery, Payment processing, Collection and\\nmerchants digital wallets. 1. Connect your Ecommerce website into COD Network COD network\\nconnects you to various ecommerce platforms and marketplaces. Worry free integration, you can'),\n",
       " Document(metadata={'source': 'data\\\\CODNetwork_Complete_Updated.pdf'}, page_content='either use our user-interface or integrate with APIs. 2. Let us source your inventory or collect it from\\nyour desired location We take care of quality control, freight options and custom clearance, hassle\\nfree. We can manufacture, source or ship your inventory from our network of suppliers around the\\nworld to one of our warehouses, door to door. 3. Start your online sales! When you receive an order\\nthrough one of the integrated sales channels, it is automatically imported into the COD network'),\n",
       " Document(metadata={'source': 'data\\\\CODNetwork_Complete_Updated.pdf'}, page_content='platform. Fast, free, error free. However, you can enter the order manually or via a CSV file. 4.\\nConfirm your order via our call center We can manage 100% of your order taking service needs,\\nstarting from the lead coming from your sales channel until the sale is done and confirmed. 5. Get\\nyour order picked, packed and ready to dispatch The minute your order is confirmed, it gets\\nforwarded to be picked, packed and dispatched to the correct courier. 6. Track your order delivery'),\n",
       " Document(metadata={'source': 'data\\\\CODNetwork_Complete_Updated.pdf'}, page_content='Get everything you need to know to track your package. You can track by tracking number and\\nreference number as well as view shipping history. 7. Receive payment for your delivered orders\\nWe collect the payment from your customer, then remit you the payment. We can send you your\\nmoney anywhere you are in the world.\\nStep 1 Create account Initiate your account setup. Once your account undergoes our review\\nprocess, a dedicated account manager will be assigned.'),\n",
       " Document(metadata={'source': 'data\\\\CODNetwork_Complete_Updated.pdf'}, page_content=\"Step 2 Product Sourcing Following your successful product research, you're now prepared to order\\nyour inventory and connect your store to the COD Network.\\nStep 3 Market & Earn Expand your marketing efforts and commence selling your products; you'll\\nreceive payments for your invoices on a weekly basis.\\nCODNetwork Affiliate:\"),\n",
       " Document(metadata={'source': 'data\\\\CODNetwork_Complete_Updated.pdf'}, page_content='Promote different offers and products listed on our platform and receive important commissions.\\nIncrease your profits with the first Cash On Delivery affiliate network in North Africa and the Middle\\nEast. Register, Promote Offers and Earn Attractive Commissions.\\n Why Should You Join Us Today?\\nSmall Capital: A project that generates profits with a small capital investment. Just Focus on\\nMarketing: Spread your ads across both free and paid platforms. High Net Profit Margin: Impressive'),\n",
       " Document(metadata={'source': 'data\\\\CODNetwork_Complete_Updated.pdf'}, page_content='net profits from thousands of available offers and products.\\nWhere to Promote?\\nOur service is currently available in the GCC countries, Morocco, and West Africa. We are\\nexpanding to Europe in the near future. Our expertise enables you to enter markets with a high\\npurchasing power, resulting in a high rate of order confirmations and deliveries. Saudi Arabia,\\nQatar, Kuwait, Oman, United Arab Emirates, Bahrain, Senegal, Morocco, Mali, Ivory Coast, India'),\n",
       " Document(metadata={'source': 'data\\\\CODNetwork_Complete_Updated.pdf'}, page_content='Quick and easy steps to earn through our affiliate\\n programs\\n1. Create an Account: Create an account on the Affiliate platform by filling out the registration form.\\n2. Choose offers: Among the many offers in different industries, pick the ones that suit you. 3.\\nPromote Products: Use referral links or link your store to the platform to access millions of potential\\ncustomers. 4. Earn commission: Earn the commission on confirmed or delivered orders.'),\n",
       " Document(metadata={'source': 'data\\\\CODNetwork_Complete_Updated.pdf'}, page_content='We support various Store Platforms\\nLeadpages, Youcan, WooCommerce, Shopify\\nFor more information contact us:\\nsupport@cod.network\\nTutorials\\nHow to Connect Youcan Store to Affiliate Platform?\\nhttps://www.youtube.com/watch?v=nqVXcaKaFsY How to Setup Landing Pages?\\nhttps://www.youtube.com/watch?v=vQL2GmjM_xQ How to connect domain name?\\nhttps://www.youtube.com/watch?v=DnfHlxDLGBA How to Connect WooCommerce with Affiliate\\nPlatform? https://www.youtube.com/watch?v=lcEt8mFAq-M'),\n",
       " Document(metadata={'source': 'data\\\\CODNetwork_Complete_Updated.pdf'}, page_content=\"An all-in-one digital platform\\nCOD Network's Affiliate platform is a service that allows you to sell products without having capital\\nto buy the commodity wholesale. We provide all services from importing goods, call centers,\\nwarehousing, shipping and collecting funds and sending them to our client accounts. We help\\npeople achieve and earn highly profitable commissions through their marketing of the products we\\nmake available to them on the Affiliate website.\"),\n",
       " Document(metadata={'source': 'data\\\\CODNetwork_Info.pdf'}, page_content='CODNetwork We Enable Everyone to Start Grow and Scale Ecommerce Business in the Middle\\nEast, Africa and Beyond.\\nSourcing Fulfillment Call-Center Warehousing Shipping Remittance\\nJoin us today! You can join us today by choosing the model that suits you. We offer both Seller and\\nAffiliate models.\\nCODNetwork Seller : Start selling your own products and goods in multiple countries in MENA\\nregion by taking advantage of our services. Transform Your Cash on Delivery Business with COD'),\n",
       " Document(metadata={'source': 'data\\\\CODNetwork_Info.pdf'}, page_content='Network Services From sourcing to delivery, we manage your business needs securely, efficiently,\\nand globally. Our Solutions Enabling online sellers with efficient, quality-focused procurement to\\ndelivery solutions, freeing you to innovate and market.\\nAccount Manager Your Ultimate Partner in Business Growth With an Account Manager at COD\\nNetwork, reach your goals effortlessly. We enhance your sales and delivery rate, provide expert'),\n",
       " Document(metadata={'source': 'data\\\\CODNetwork_Info.pdf'}, page_content=\"guidance on sourcing products, keep you updated with instant news, and inspire you to push\\nboundaries, paving the way for your business's consistent growth.\\nHow it works? Step 1 Create account Initiate your account setup. Once your account undergoes our\\nreview process, a dedicated account manager will be assigned.\\nStep 2 Product Sourcing Following your successful product research, you're now prepared to order\\nyour inventory and connect your store to the COD Network.\"),\n",
       " Document(metadata={'source': 'data\\\\CODNetwork_Info.pdf'}, page_content=\"Step 3 Market & Earn Expand your marketing efforts and commence selling your products; you'll\\nreceive payments for your invoices on a weekly basis. CODNetwork Affeliate: Promote different\\noffers and products listed on our platform and receive important commissions.\\nIncrease your profits with the first Cash On Delivery affiliate network in North Africa and the Middle\\nEast Register, Promote Offers and Earn Attractive Commissions\"),\n",
       " Document(metadata={'source': 'data\\\\CODNetwork_Info.pdf'}, page_content='Why Should You Join Us Today? Bulb icon Small Capital A project that generates profits with a\\nsmall capital investment.\\nAward icon Just Focus on Marketing Spread your ads across both free and paid platforms.\\nTeam icon High Net Profit Margin Impressive net profits from thousands of available offers and\\nproducts.\\nWhere to Promote? Our service is currently available in the GCC countries, Morocco, and West'),\n",
       " Document(metadata={'source': 'data\\\\CODNetwork_Info.pdf'}, page_content='Africa. We are expanding to Europe in the near future. Our expertise enables you to enter markets\\nwith a high purchasing power, resulting in a high rate of order confirmations and deliveries.\\nSaudi Arabia Qatar Kuwait Oman United Arab Emirates Bahrain Senegal Morocco Mali Ivory Coast\\nIndia\\nQuick and easy steps to earn through our affiliate programs 1 Create an Account Create an account\\non the Affiliate platform by filling out the registration form.'),\n",
       " Document(metadata={'source': 'data\\\\CODNetwork_Info.pdf'}, page_content='2 Choose offers Among the many offers in different industries, pick the ones that suit you.\\n3 Promote Products Use referral links or link your store to the platform to access millions of\\npotential customers.\\n4 Earn commission Earn the commission on confirmed or delivered orders.'),\n",
       " Document(metadata={'source': 'data\\\\CODNetwork_Info.pdf'}, page_content='We support various Store Platforms leadpages Youcan Woocommerce shopify\\nFor more informations contact us: support@cod.network\\nTutorials\\nHow to Connect Youcan Store to Affiliate Platform?\\nhttps://www.youtube.com/watch?v=nqVXcaKaFsY\\nHow to Setup Landing Pages? https://www.youtube.com/watch?v=vQL2GmjM_xQ\\nHow to connect domain name? https://www.youtube.com/watch?v=DnfHlxDLGBA\\nHow to Connect WooCommerce with Affiliate Platform?\\nhttps://www.youtube.com/watch?v=lcEt8mFAq-M'),\n",
       " Document(metadata={'source': 'data\\\\CODNetwork_Info.pdf'}, page_content=\"An all-in-one digital platform COD Network's Affiliate platform is a service that allows you to sell\\nproducts without having capital to buy the commodity wholesale. We provide all services from\\nimporting goods, call centers, warehousing, shipping and collecting funds and sending them to our\\nclient accounts.\\nWe help people achieve and earn highly profitable commissions through their marketing of the\\nproducts we make available to them on the Affiliate website.\")]"
      ]
     },
     "execution_count": 10,
     "metadata": {},
     "output_type": "execute_result"
    }
   ],
   "source": [
    "texts_chunk = text_split(minimal_docs)\n",
    "print(f\"Number of chunks: {len(texts_chunk)}\")\n",
    "texts_chunk"
   ]
  },
  {
   "cell_type": "markdown",
   "id": "ba21092b",
   "metadata": {},
   "source": [
    "### embedding model"
   ]
  },
  {
   "cell_type": "code",
   "execution_count": 11,
   "id": "d844b5cd",
   "metadata": {},
   "outputs": [
    {
     "name": "stderr",
     "output_type": "stream",
     "text": [
      "c:\\Users\\em\\Desktop\\PFA\\Customer_Support_LLMOps\\llmops_venv\\Lib\\site-packages\\tqdm\\auto.py:21: TqdmWarning: IProgress not found. Please update jupyter and ipywidgets. See https://ipywidgets.readthedocs.io/en/stable/user_install.html\n",
      "  from .autonotebook import tqdm as notebook_tqdm\n"
     ]
    }
   ],
   "source": [
    "from langchain_huggingface import HuggingFaceEmbeddings\n",
    "\n",
    "def download_embeddings():\n",
    "    \"\"\"\n",
    "    Download and return the HuggingFace embeddings model.\n",
    "    \"\"\"\n",
    "    model_name = \"sentence-transformers/all-MiniLM-L6-v2\"\n",
    "    embeddings = HuggingFaceEmbeddings(\n",
    "        model_name=model_name\n",
    "    )\n",
    "    return embeddings\n",
    "\n",
    "embedding = download_embeddings()"
   ]
  },
  {
   "cell_type": "code",
   "execution_count": 12,
   "id": "8a1f1fa6",
   "metadata": {},
   "outputs": [
    {
     "data": {
      "text/plain": [
       "HuggingFaceEmbeddings(model_name='sentence-transformers/all-MiniLM-L6-v2', cache_folder=None, model_kwargs={}, encode_kwargs={}, query_encode_kwargs={}, multi_process=False, show_progress=False)"
      ]
     },
     "execution_count": 12,
     "metadata": {},
     "output_type": "execute_result"
    }
   ],
   "source": [
    "embedding"
   ]
  },
  {
   "cell_type": "code",
   "execution_count": 52,
   "id": "f38d61ad",
   "metadata": {},
   "outputs": [],
   "source": [
    "# load the .env file\n",
    "from dotenv import load_dotenv\n",
    "import os\n",
    "load_dotenv()\n",
    "\n",
    "# Access the API keys\n",
    "PINECONE_API_KEY = os.getenv(\"PINECONE_API_KEY\")\n",
    "OPENAI_API_KEY = os.getenv(\"OPENAI_API_KEY\")\n",
    "\n",
    "os.environ[\"PINECONE_API_KEY\"] = PINECONE_API_KEY\n",
    "os.environ[\"OPENAI_API_KEY\"] = OPENAI_API_KEY"
   ]
  },
  {
   "cell_type": "code",
   "execution_count": 53,
   "id": "138b4a91",
   "metadata": {},
   "outputs": [
    {
     "data": {
      "text/plain": [
       "<pinecone.pinecone.Pinecone at 0x22ae31e7710>"
      ]
     },
     "execution_count": 53,
     "metadata": {},
     "output_type": "execute_result"
    }
   ],
   "source": [
    "from pinecone import Pinecone \n",
    "pinecone_api_key = PINECONE_API_KEY\n",
    "\n",
    "pinecone_client = Pinecone(api_key=pinecone_api_key)\n",
    "pinecone_client"
   ]
  },
  {
   "cell_type": "code",
   "execution_count": 54,
   "id": "49ef1980",
   "metadata": {},
   "outputs": [],
   "source": [
    "from pinecone import ServerlessSpec \n",
    "\n",
    "index_name = \"customer-support-chatbot-with-llmops-index\"\n",
    "\n",
    "if not pinecone_client.has_index(index_name):\n",
    "    pinecone_client.create_index(\n",
    "        name = index_name,\n",
    "        dimension=384,                                          # Dimension of the embeddings\n",
    "        metric= \"cosine\",                                       # Cosine similarity\n",
    "        spec=ServerlessSpec(cloud=\"aws\", region=\"us-east-1\")\n",
    "    )\n",
    "\n",
    "\n",
    "index = pinecone_client.Index(index_name)"
   ]
  },
  {
   "cell_type": "code",
   "execution_count": 55,
   "id": "f5f19504",
   "metadata": {},
   "outputs": [],
   "source": [
    "# store our vectors\n",
    "from langchain_pinecone import PineconeVectorStore\n",
    "\n",
    "docsearch = PineconeVectorStore.from_documents(\n",
    "    documents=texts_chunk,\n",
    "    embedding=embedding,\n",
    "    index_name=index_name\n",
    ")\n",
    "\n"
   ]
  },
  {
   "cell_type": "code",
   "execution_count": 56,
   "id": "bf8d7904",
   "metadata": {},
   "outputs": [],
   "source": [
    "# Load Existing index \n",
    "\n",
    "# Embed each chunk and upsert the embeddings into your Pinecone index.\n",
    "docsearch = PineconeVectorStore.from_existing_index(\n",
    "    index_name=index_name,\n",
    "    embedding=embedding\n",
    ")\n"
   ]
  },
  {
   "cell_type": "code",
   "execution_count": 75,
   "id": "ccefce9c",
   "metadata": {},
   "outputs": [
    {
     "data": {
      "text/plain": [
       "[Document(id='dc10bf66-139a-48f0-8572-2eb42ec1de4c', metadata={'source': 'data\\\\CODNetwork_Info.pdf'}, page_content=\"An all-in-one digital platform COD Network's Affiliate platform is a service that allows you to sell\\nproducts without having capital to buy the commodity wholesale. We provide all services from\\nimporting goods, call centers, warehousing, shipping and collecting funds and sending them to our\\nclient accounts.\\nWe help people achieve and earn highly profitable commissions through their marketing of the\\nproducts we make available to them on the Affiliate website.\"),\n",
       " Document(id='3c2d9d29-e6de-4490-8034-a7d94eade12d', metadata={'source': 'data\\\\CODNetwork_Complete_Updated.pdf'}, page_content=\"An all-in-one digital platform\\nCOD Network's Affiliate platform is a service that allows you to sell products without having capital\\nto buy the commodity wholesale. We provide all services from importing goods, call centers,\\nwarehousing, shipping and collecting funds and sending them to our client accounts. We help\\npeople achieve and earn highly profitable commissions through their marketing of the products we\\nmake available to them on the Affiliate website.\"),\n",
       " Document(id='f20c8ff6-0710-4959-a6dc-2a196c9ee35f', metadata={'source': 'data\\\\CODNetwork_Info.pdf'}, page_content=\"An all-in-one digital platform COD Network's Affiliate platform is a service that allows you to sell\\nproducts without having capital to buy the commodity wholesale. We provide all services from\\nimporting goods, call centers, warehousing, shipping and collecting funds and sending them to our\\nclient accounts.\\nWe help people achieve and earn highly profitable commissions through their marketing of the\\nproducts we make available to them on the Affiliate website.\")]"
      ]
     },
     "execution_count": 75,
     "metadata": {},
     "output_type": "execute_result"
    }
   ],
   "source": [
    "# retrieve some documents\n",
    "retriever = docsearch.as_retriever(search_type=\"similarity\", search_kwargs={\"k\":3})\n",
    "retrieved_docs = retriever.invoke(\"What is cod network?\")\n",
    "retrieved_docs"
   ]
  },
  {
   "cell_type": "markdown",
   "id": "4b8732b7",
   "metadata": {},
   "source": [
    "### Refine the response with the LLM model (GPT4)"
   ]
  },
  {
   "cell_type": "code",
   "execution_count": 70,
   "id": "aab5e500",
   "metadata": {},
   "outputs": [],
   "source": [
    "# import the GPT-4o model\n",
    "from langchain_openai import OpenAI\n",
    "chatModel = OpenAI(temperature=0.4, max_tokens=500)"
   ]
  },
  {
   "cell_type": "code",
   "execution_count": 71,
   "id": "1302dd6a",
   "metadata": {},
   "outputs": [],
   "source": [
    "from langchain.chains import create_retrieval_chain\n",
    "from langchain.chains.combine_documents import create_stuff_documents_chain\n",
    "from langchain_core.prompts import ChatPromptTemplate"
   ]
  },
  {
   "cell_type": "code",
   "execution_count": 72,
   "id": "1a3fec5a",
   "metadata": {},
   "outputs": [],
   "source": [
    "system_prompt = (\n",
    "    \"You are CODNetwork’s official customer support assistant.\\n\"\n",
    "    \"Provide clear, concise, and polite answers to customer questions.\\n\"\n",
    "    \"Use ONLY the provided context from CODNetwork’s official documentation, FAQs, and product/service descriptions.\\n\"\n",
    "    \"If the answer is not in the context, politely say you don’t have that information and suggest contacting human support.\\n\"\n",
    "    \"Always maintain a professional and friendly tone consistent with CODNetwork’s brand.\\n\"\n",
    "    \"Prioritize accuracy over creativity.\\n\"\n",
    "    \"Never make up information, policies, or offers.\\n\"\n",
    "    \"Use simple language customers can understand.\\n\"\n",
    "    \"If a question is unclear, ask for clarification before answering.\\n\"\n",
    "    \"\\n\\n\"\n",
    "    \"{context}\"\n",
    ")\n",
    "\n",
    "\n",
    "prompt = ChatPromptTemplate.from_messages(\n",
    "    [\n",
    "        (\"system\", system_prompt),\n",
    "        (\"human\", \"{input}\"),\n",
    "    ]\n",
    ")"
   ]
  },
  {
   "cell_type": "code",
   "execution_count": 73,
   "id": "4b8d9f15",
   "metadata": {},
   "outputs": [],
   "source": [
    "question_answer_chain = create_stuff_documents_chain(chatModel, prompt)\n",
    "rag_chain = create_retrieval_chain(retriever, question_answer_chain)"
   ]
  },
  {
   "cell_type": "code",
   "execution_count": 74,
   "id": "2db517f6",
   "metadata": {},
   "outputs": [
    {
     "ename": "RateLimitError",
     "evalue": "Error code: 429 - {'error': {'message': 'You exceeded your current quota, please check your plan and billing details. For more information on this error, read the docs: https://platform.openai.com/docs/guides/error-codes/api-errors.', 'type': 'insufficient_quota', 'param': None, 'code': 'insufficient_quota'}}",
     "output_type": "error",
     "traceback": [
      "\u001b[31m---------------------------------------------------------------------------\u001b[39m",
      "\u001b[31mRateLimitError\u001b[39m                            Traceback (most recent call last)",
      "\u001b[36mCell\u001b[39m\u001b[36m \u001b[39m\u001b[32mIn[74]\u001b[39m\u001b[32m, line 1\u001b[39m\n\u001b[32m----> \u001b[39m\u001b[32m1\u001b[39m response = \u001b[43mrag_chain\u001b[49m\u001b[43m.\u001b[49m\u001b[43minvoke\u001b[49m\u001b[43m(\u001b[49m\u001b[43m{\u001b[49m\u001b[33;43m\"\u001b[39;49m\u001b[33;43minput\u001b[39;49m\u001b[33;43m\"\u001b[39;49m\u001b[43m:\u001b[49m\u001b[43m \u001b[49m\u001b[33;43m\"\u001b[39;49m\u001b[33;43mwhat is codNetwork\u001b[39;49m\u001b[33;43m\"\u001b[39;49m\u001b[43m}\u001b[49m\u001b[43m)\u001b[49m\n\u001b[32m      2\u001b[39m \u001b[38;5;28mprint\u001b[39m(response[\u001b[33m\"\u001b[39m\u001b[33manswer\u001b[39m\u001b[33m\"\u001b[39m])\n",
      "\u001b[36mFile \u001b[39m\u001b[32mc:\\Users\\em\\Desktop\\PFA\\Customer_Support_LLMOps\\llmops_venv\\Lib\\site-packages\\langchain_core\\runnables\\base.py:5441\u001b[39m, in \u001b[36mRunnableBindingBase.invoke\u001b[39m\u001b[34m(self, input, config, **kwargs)\u001b[39m\n\u001b[32m   5434\u001b[39m \u001b[38;5;129m@override\u001b[39m\n\u001b[32m   5435\u001b[39m \u001b[38;5;28;01mdef\u001b[39;00m\u001b[38;5;250m \u001b[39m\u001b[34minvoke\u001b[39m(\n\u001b[32m   5436\u001b[39m     \u001b[38;5;28mself\u001b[39m,\n\u001b[32m   (...)\u001b[39m\u001b[32m   5439\u001b[39m     **kwargs: Optional[Any],\n\u001b[32m   5440\u001b[39m ) -> Output:\n\u001b[32m-> \u001b[39m\u001b[32m5441\u001b[39m     \u001b[38;5;28;01mreturn\u001b[39;00m \u001b[38;5;28;43mself\u001b[39;49m\u001b[43m.\u001b[49m\u001b[43mbound\u001b[49m\u001b[43m.\u001b[49m\u001b[43minvoke\u001b[49m\u001b[43m(\u001b[49m\n\u001b[32m   5442\u001b[39m \u001b[43m        \u001b[49m\u001b[38;5;28;43minput\u001b[39;49m\u001b[43m,\u001b[49m\n\u001b[32m   5443\u001b[39m \u001b[43m        \u001b[49m\u001b[38;5;28;43mself\u001b[39;49m\u001b[43m.\u001b[49m\u001b[43m_merge_configs\u001b[49m\u001b[43m(\u001b[49m\u001b[43mconfig\u001b[49m\u001b[43m)\u001b[49m\u001b[43m,\u001b[49m\n\u001b[32m   5444\u001b[39m \u001b[43m        \u001b[49m\u001b[43m*\u001b[49m\u001b[43m*\u001b[49m\u001b[43m{\u001b[49m\u001b[43m*\u001b[49m\u001b[43m*\u001b[49m\u001b[38;5;28;43mself\u001b[39;49m\u001b[43m.\u001b[49m\u001b[43mkwargs\u001b[49m\u001b[43m,\u001b[49m\u001b[43m \u001b[49m\u001b[43m*\u001b[49m\u001b[43m*\u001b[49m\u001b[43mkwargs\u001b[49m\u001b[43m}\u001b[49m\u001b[43m,\u001b[49m\n\u001b[32m   5445\u001b[39m \u001b[43m    \u001b[49m\u001b[43m)\u001b[49m\n",
      "\u001b[36mFile \u001b[39m\u001b[32mc:\\Users\\em\\Desktop\\PFA\\Customer_Support_LLMOps\\llmops_venv\\Lib\\site-packages\\langchain_core\\runnables\\base.py:3049\u001b[39m, in \u001b[36mRunnableSequence.invoke\u001b[39m\u001b[34m(self, input, config, **kwargs)\u001b[39m\n\u001b[32m   3047\u001b[39m                 input_ = context.run(step.invoke, input_, config, **kwargs)\n\u001b[32m   3048\u001b[39m             \u001b[38;5;28;01melse\u001b[39;00m:\n\u001b[32m-> \u001b[39m\u001b[32m3049\u001b[39m                 input_ = \u001b[43mcontext\u001b[49m\u001b[43m.\u001b[49m\u001b[43mrun\u001b[49m\u001b[43m(\u001b[49m\u001b[43mstep\u001b[49m\u001b[43m.\u001b[49m\u001b[43minvoke\u001b[49m\u001b[43m,\u001b[49m\u001b[43m \u001b[49m\u001b[43minput_\u001b[49m\u001b[43m,\u001b[49m\u001b[43m \u001b[49m\u001b[43mconfig\u001b[49m\u001b[43m)\u001b[49m\n\u001b[32m   3050\u001b[39m \u001b[38;5;66;03m# finish the root run\u001b[39;00m\n\u001b[32m   3051\u001b[39m \u001b[38;5;28;01mexcept\u001b[39;00m \u001b[38;5;167;01mBaseException\u001b[39;00m \u001b[38;5;28;01mas\u001b[39;00m e:\n",
      "\u001b[36mFile \u001b[39m\u001b[32mc:\\Users\\em\\Desktop\\PFA\\Customer_Support_LLMOps\\llmops_venv\\Lib\\site-packages\\langchain_core\\runnables\\passthrough.py:513\u001b[39m, in \u001b[36mRunnableAssign.invoke\u001b[39m\u001b[34m(self, input, config, **kwargs)\u001b[39m\n\u001b[32m    506\u001b[39m \u001b[38;5;129m@override\u001b[39m\n\u001b[32m    507\u001b[39m \u001b[38;5;28;01mdef\u001b[39;00m\u001b[38;5;250m \u001b[39m\u001b[34minvoke\u001b[39m(\n\u001b[32m    508\u001b[39m     \u001b[38;5;28mself\u001b[39m,\n\u001b[32m   (...)\u001b[39m\u001b[32m    511\u001b[39m     **kwargs: Any,\n\u001b[32m    512\u001b[39m ) -> \u001b[38;5;28mdict\u001b[39m[\u001b[38;5;28mstr\u001b[39m, Any]:\n\u001b[32m--> \u001b[39m\u001b[32m513\u001b[39m     \u001b[38;5;28;01mreturn\u001b[39;00m \u001b[38;5;28;43mself\u001b[39;49m\u001b[43m.\u001b[49m\u001b[43m_call_with_config\u001b[49m\u001b[43m(\u001b[49m\u001b[38;5;28;43mself\u001b[39;49m\u001b[43m.\u001b[49m\u001b[43m_invoke\u001b[49m\u001b[43m,\u001b[49m\u001b[43m \u001b[49m\u001b[38;5;28;43minput\u001b[39;49m\u001b[43m,\u001b[49m\u001b[43m \u001b[49m\u001b[43mconfig\u001b[49m\u001b[43m,\u001b[49m\u001b[43m \u001b[49m\u001b[43m*\u001b[49m\u001b[43m*\u001b[49m\u001b[43mkwargs\u001b[49m\u001b[43m)\u001b[49m\n",
      "\u001b[36mFile \u001b[39m\u001b[32mc:\\Users\\em\\Desktop\\PFA\\Customer_Support_LLMOps\\llmops_venv\\Lib\\site-packages\\langchain_core\\runnables\\base.py:1938\u001b[39m, in \u001b[36mRunnable._call_with_config\u001b[39m\u001b[34m(self, func, input_, config, run_type, serialized, **kwargs)\u001b[39m\n\u001b[32m   1934\u001b[39m     child_config = patch_config(config, callbacks=run_manager.get_child())\n\u001b[32m   1935\u001b[39m     \u001b[38;5;28;01mwith\u001b[39;00m set_config_context(child_config) \u001b[38;5;28;01mas\u001b[39;00m context:\n\u001b[32m   1936\u001b[39m         output = cast(\n\u001b[32m   1937\u001b[39m             \u001b[33m\"\u001b[39m\u001b[33mOutput\u001b[39m\u001b[33m\"\u001b[39m,\n\u001b[32m-> \u001b[39m\u001b[32m1938\u001b[39m             \u001b[43mcontext\u001b[49m\u001b[43m.\u001b[49m\u001b[43mrun\u001b[49m\u001b[43m(\u001b[49m\n\u001b[32m   1939\u001b[39m \u001b[43m                \u001b[49m\u001b[43mcall_func_with_variable_args\u001b[49m\u001b[43m,\u001b[49m\u001b[43m  \u001b[49m\u001b[38;5;66;43;03m# type: ignore[arg-type]\u001b[39;49;00m\n\u001b[32m   1940\u001b[39m \u001b[43m                \u001b[49m\u001b[43mfunc\u001b[49m\u001b[43m,\u001b[49m\n\u001b[32m   1941\u001b[39m \u001b[43m                \u001b[49m\u001b[43minput_\u001b[49m\u001b[43m,\u001b[49m\n\u001b[32m   1942\u001b[39m \u001b[43m                \u001b[49m\u001b[43mconfig\u001b[49m\u001b[43m,\u001b[49m\n\u001b[32m   1943\u001b[39m \u001b[43m                \u001b[49m\u001b[43mrun_manager\u001b[49m\u001b[43m,\u001b[49m\n\u001b[32m   1944\u001b[39m \u001b[43m                \u001b[49m\u001b[43m*\u001b[49m\u001b[43m*\u001b[49m\u001b[43mkwargs\u001b[49m\u001b[43m,\u001b[49m\n\u001b[32m   1945\u001b[39m \u001b[43m            \u001b[49m\u001b[43m)\u001b[49m,\n\u001b[32m   1946\u001b[39m         )\n\u001b[32m   1947\u001b[39m \u001b[38;5;28;01mexcept\u001b[39;00m \u001b[38;5;167;01mBaseException\u001b[39;00m \u001b[38;5;28;01mas\u001b[39;00m e:\n\u001b[32m   1948\u001b[39m     run_manager.on_chain_error(e)\n",
      "\u001b[36mFile \u001b[39m\u001b[32mc:\\Users\\em\\Desktop\\PFA\\Customer_Support_LLMOps\\llmops_venv\\Lib\\site-packages\\langchain_core\\runnables\\config.py:429\u001b[39m, in \u001b[36mcall_func_with_variable_args\u001b[39m\u001b[34m(func, input, config, run_manager, **kwargs)\u001b[39m\n\u001b[32m    427\u001b[39m \u001b[38;5;28;01mif\u001b[39;00m run_manager \u001b[38;5;129;01mis\u001b[39;00m \u001b[38;5;129;01mnot\u001b[39;00m \u001b[38;5;28;01mNone\u001b[39;00m \u001b[38;5;129;01mand\u001b[39;00m accepts_run_manager(func):\n\u001b[32m    428\u001b[39m     kwargs[\u001b[33m\"\u001b[39m\u001b[33mrun_manager\u001b[39m\u001b[33m\"\u001b[39m] = run_manager\n\u001b[32m--> \u001b[39m\u001b[32m429\u001b[39m \u001b[38;5;28;01mreturn\u001b[39;00m \u001b[43mfunc\u001b[49m\u001b[43m(\u001b[49m\u001b[38;5;28;43minput\u001b[39;49m\u001b[43m,\u001b[49m\u001b[43m \u001b[49m\u001b[43m*\u001b[49m\u001b[43m*\u001b[49m\u001b[43mkwargs\u001b[49m\u001b[43m)\u001b[49m\n",
      "\u001b[36mFile \u001b[39m\u001b[32mc:\\Users\\em\\Desktop\\PFA\\Customer_Support_LLMOps\\llmops_venv\\Lib\\site-packages\\langchain_core\\runnables\\passthrough.py:499\u001b[39m, in \u001b[36mRunnableAssign._invoke\u001b[39m\u001b[34m(self, value, run_manager, config, **kwargs)\u001b[39m\n\u001b[32m    494\u001b[39m     msg = \u001b[33m\"\u001b[39m\u001b[33mThe input to RunnablePassthrough.assign() must be a dict.\u001b[39m\u001b[33m\"\u001b[39m\n\u001b[32m    495\u001b[39m     \u001b[38;5;28;01mraise\u001b[39;00m \u001b[38;5;167;01mValueError\u001b[39;00m(msg)  \u001b[38;5;66;03m# noqa: TRY004\u001b[39;00m\n\u001b[32m    497\u001b[39m \u001b[38;5;28;01mreturn\u001b[39;00m {\n\u001b[32m    498\u001b[39m     **value,\n\u001b[32m--> \u001b[39m\u001b[32m499\u001b[39m     **\u001b[38;5;28;43mself\u001b[39;49m\u001b[43m.\u001b[49m\u001b[43mmapper\u001b[49m\u001b[43m.\u001b[49m\u001b[43minvoke\u001b[49m\u001b[43m(\u001b[49m\n\u001b[32m    500\u001b[39m \u001b[43m        \u001b[49m\u001b[43mvalue\u001b[49m\u001b[43m,\u001b[49m\n\u001b[32m    501\u001b[39m \u001b[43m        \u001b[49m\u001b[43mpatch_config\u001b[49m\u001b[43m(\u001b[49m\u001b[43mconfig\u001b[49m\u001b[43m,\u001b[49m\u001b[43m \u001b[49m\u001b[43mcallbacks\u001b[49m\u001b[43m=\u001b[49m\u001b[43mrun_manager\u001b[49m\u001b[43m.\u001b[49m\u001b[43mget_child\u001b[49m\u001b[43m(\u001b[49m\u001b[43m)\u001b[49m\u001b[43m)\u001b[49m\u001b[43m,\u001b[49m\n\u001b[32m    502\u001b[39m \u001b[43m        \u001b[49m\u001b[43m*\u001b[49m\u001b[43m*\u001b[49m\u001b[43mkwargs\u001b[49m\u001b[43m,\u001b[49m\n\u001b[32m    503\u001b[39m \u001b[43m    \u001b[49m\u001b[43m)\u001b[49m,\n\u001b[32m    504\u001b[39m }\n",
      "\u001b[36mFile \u001b[39m\u001b[32mc:\\Users\\em\\Desktop\\PFA\\Customer_Support_LLMOps\\llmops_venv\\Lib\\site-packages\\langchain_core\\runnables\\base.py:3777\u001b[39m, in \u001b[36mRunnableParallel.invoke\u001b[39m\u001b[34m(self, input, config, **kwargs)\u001b[39m\n\u001b[32m   3772\u001b[39m     \u001b[38;5;28;01mwith\u001b[39;00m get_executor_for_config(config) \u001b[38;5;28;01mas\u001b[39;00m executor:\n\u001b[32m   3773\u001b[39m         futures = [\n\u001b[32m   3774\u001b[39m             executor.submit(_invoke_step, step, \u001b[38;5;28minput\u001b[39m, config, key)\n\u001b[32m   3775\u001b[39m             \u001b[38;5;28;01mfor\u001b[39;00m key, step \u001b[38;5;129;01min\u001b[39;00m steps.items()\n\u001b[32m   3776\u001b[39m         ]\n\u001b[32m-> \u001b[39m\u001b[32m3777\u001b[39m         output = {key: \u001b[43mfuture\u001b[49m\u001b[43m.\u001b[49m\u001b[43mresult\u001b[49m\u001b[43m(\u001b[49m\u001b[43m)\u001b[49m \u001b[38;5;28;01mfor\u001b[39;00m key, future \u001b[38;5;129;01min\u001b[39;00m \u001b[38;5;28mzip\u001b[39m(steps, futures)}\n\u001b[32m   3778\u001b[39m \u001b[38;5;66;03m# finish the root run\u001b[39;00m\n\u001b[32m   3779\u001b[39m \u001b[38;5;28;01mexcept\u001b[39;00m \u001b[38;5;167;01mBaseException\u001b[39;00m \u001b[38;5;28;01mas\u001b[39;00m e:\n",
      "\u001b[36mFile \u001b[39m\u001b[32m~\\AppData\\Local\\Programs\\Python\\Python312\\Lib\\concurrent\\futures\\_base.py:456\u001b[39m, in \u001b[36mFuture.result\u001b[39m\u001b[34m(self, timeout)\u001b[39m\n\u001b[32m    454\u001b[39m     \u001b[38;5;28;01mraise\u001b[39;00m CancelledError()\n\u001b[32m    455\u001b[39m \u001b[38;5;28;01melif\u001b[39;00m \u001b[38;5;28mself\u001b[39m._state == FINISHED:\n\u001b[32m--> \u001b[39m\u001b[32m456\u001b[39m     \u001b[38;5;28;01mreturn\u001b[39;00m \u001b[38;5;28;43mself\u001b[39;49m\u001b[43m.\u001b[49m\u001b[43m__get_result\u001b[49m\u001b[43m(\u001b[49m\u001b[43m)\u001b[49m\n\u001b[32m    457\u001b[39m \u001b[38;5;28;01melse\u001b[39;00m:\n\u001b[32m    458\u001b[39m     \u001b[38;5;28;01mraise\u001b[39;00m \u001b[38;5;167;01mTimeoutError\u001b[39;00m()\n",
      "\u001b[36mFile \u001b[39m\u001b[32m~\\AppData\\Local\\Programs\\Python\\Python312\\Lib\\concurrent\\futures\\_base.py:401\u001b[39m, in \u001b[36mFuture.__get_result\u001b[39m\u001b[34m(self)\u001b[39m\n\u001b[32m    399\u001b[39m \u001b[38;5;28;01mif\u001b[39;00m \u001b[38;5;28mself\u001b[39m._exception:\n\u001b[32m    400\u001b[39m     \u001b[38;5;28;01mtry\u001b[39;00m:\n\u001b[32m--> \u001b[39m\u001b[32m401\u001b[39m         \u001b[38;5;28;01mraise\u001b[39;00m \u001b[38;5;28mself\u001b[39m._exception\n\u001b[32m    402\u001b[39m     \u001b[38;5;28;01mfinally\u001b[39;00m:\n\u001b[32m    403\u001b[39m         \u001b[38;5;66;03m# Break a reference cycle with the exception in self._exception\u001b[39;00m\n\u001b[32m    404\u001b[39m         \u001b[38;5;28mself\u001b[39m = \u001b[38;5;28;01mNone\u001b[39;00m\n",
      "\u001b[36mFile \u001b[39m\u001b[32m~\\AppData\\Local\\Programs\\Python\\Python312\\Lib\\concurrent\\futures\\thread.py:58\u001b[39m, in \u001b[36m_WorkItem.run\u001b[39m\u001b[34m(self)\u001b[39m\n\u001b[32m     55\u001b[39m     \u001b[38;5;28;01mreturn\u001b[39;00m\n\u001b[32m     57\u001b[39m \u001b[38;5;28;01mtry\u001b[39;00m:\n\u001b[32m---> \u001b[39m\u001b[32m58\u001b[39m     result = \u001b[38;5;28;43mself\u001b[39;49m\u001b[43m.\u001b[49m\u001b[43mfn\u001b[49m\u001b[43m(\u001b[49m\u001b[43m*\u001b[49m\u001b[38;5;28;43mself\u001b[39;49m\u001b[43m.\u001b[49m\u001b[43margs\u001b[49m\u001b[43m,\u001b[49m\u001b[43m \u001b[49m\u001b[43m*\u001b[49m\u001b[43m*\u001b[49m\u001b[38;5;28;43mself\u001b[39;49m\u001b[43m.\u001b[49m\u001b[43mkwargs\u001b[49m\u001b[43m)\u001b[49m\n\u001b[32m     59\u001b[39m \u001b[38;5;28;01mexcept\u001b[39;00m \u001b[38;5;167;01mBaseException\u001b[39;00m \u001b[38;5;28;01mas\u001b[39;00m exc:\n\u001b[32m     60\u001b[39m     \u001b[38;5;28mself\u001b[39m.future.set_exception(exc)\n",
      "\u001b[36mFile \u001b[39m\u001b[32mc:\\Users\\em\\Desktop\\PFA\\Customer_Support_LLMOps\\llmops_venv\\Lib\\site-packages\\langchain_core\\runnables\\base.py:3761\u001b[39m, in \u001b[36mRunnableParallel.invoke.<locals>._invoke_step\u001b[39m\u001b[34m(step, input_, config, key)\u001b[39m\n\u001b[32m   3755\u001b[39m child_config = patch_config(\n\u001b[32m   3756\u001b[39m     config,\n\u001b[32m   3757\u001b[39m     \u001b[38;5;66;03m# mark each step as a child run\u001b[39;00m\n\u001b[32m   3758\u001b[39m     callbacks=run_manager.get_child(\u001b[33mf\u001b[39m\u001b[33m\"\u001b[39m\u001b[33mmap:key:\u001b[39m\u001b[38;5;132;01m{\u001b[39;00mkey\u001b[38;5;132;01m}\u001b[39;00m\u001b[33m\"\u001b[39m),\n\u001b[32m   3759\u001b[39m )\n\u001b[32m   3760\u001b[39m \u001b[38;5;28;01mwith\u001b[39;00m set_config_context(child_config) \u001b[38;5;28;01mas\u001b[39;00m context:\n\u001b[32m-> \u001b[39m\u001b[32m3761\u001b[39m     \u001b[38;5;28;01mreturn\u001b[39;00m \u001b[43mcontext\u001b[49m\u001b[43m.\u001b[49m\u001b[43mrun\u001b[49m\u001b[43m(\u001b[49m\n\u001b[32m   3762\u001b[39m \u001b[43m        \u001b[49m\u001b[43mstep\u001b[49m\u001b[43m.\u001b[49m\u001b[43minvoke\u001b[49m\u001b[43m,\u001b[49m\n\u001b[32m   3763\u001b[39m \u001b[43m        \u001b[49m\u001b[43minput_\u001b[49m\u001b[43m,\u001b[49m\n\u001b[32m   3764\u001b[39m \u001b[43m        \u001b[49m\u001b[43mchild_config\u001b[49m\u001b[43m,\u001b[49m\n\u001b[32m   3765\u001b[39m \u001b[43m    \u001b[49m\u001b[43m)\u001b[49m\n",
      "\u001b[36mFile \u001b[39m\u001b[32mc:\\Users\\em\\Desktop\\PFA\\Customer_Support_LLMOps\\llmops_venv\\Lib\\site-packages\\langchain_core\\runnables\\base.py:5441\u001b[39m, in \u001b[36mRunnableBindingBase.invoke\u001b[39m\u001b[34m(self, input, config, **kwargs)\u001b[39m\n\u001b[32m   5434\u001b[39m \u001b[38;5;129m@override\u001b[39m\n\u001b[32m   5435\u001b[39m \u001b[38;5;28;01mdef\u001b[39;00m\u001b[38;5;250m \u001b[39m\u001b[34minvoke\u001b[39m(\n\u001b[32m   5436\u001b[39m     \u001b[38;5;28mself\u001b[39m,\n\u001b[32m   (...)\u001b[39m\u001b[32m   5439\u001b[39m     **kwargs: Optional[Any],\n\u001b[32m   5440\u001b[39m ) -> Output:\n\u001b[32m-> \u001b[39m\u001b[32m5441\u001b[39m     \u001b[38;5;28;01mreturn\u001b[39;00m \u001b[38;5;28;43mself\u001b[39;49m\u001b[43m.\u001b[49m\u001b[43mbound\u001b[49m\u001b[43m.\u001b[49m\u001b[43minvoke\u001b[49m\u001b[43m(\u001b[49m\n\u001b[32m   5442\u001b[39m \u001b[43m        \u001b[49m\u001b[38;5;28;43minput\u001b[39;49m\u001b[43m,\u001b[49m\n\u001b[32m   5443\u001b[39m \u001b[43m        \u001b[49m\u001b[38;5;28;43mself\u001b[39;49m\u001b[43m.\u001b[49m\u001b[43m_merge_configs\u001b[49m\u001b[43m(\u001b[49m\u001b[43mconfig\u001b[49m\u001b[43m)\u001b[49m\u001b[43m,\u001b[49m\n\u001b[32m   5444\u001b[39m \u001b[43m        \u001b[49m\u001b[43m*\u001b[49m\u001b[43m*\u001b[49m\u001b[43m{\u001b[49m\u001b[43m*\u001b[49m\u001b[43m*\u001b[49m\u001b[38;5;28;43mself\u001b[39;49m\u001b[43m.\u001b[49m\u001b[43mkwargs\u001b[49m\u001b[43m,\u001b[49m\u001b[43m \u001b[49m\u001b[43m*\u001b[49m\u001b[43m*\u001b[49m\u001b[43mkwargs\u001b[49m\u001b[43m}\u001b[49m\u001b[43m,\u001b[49m\n\u001b[32m   5445\u001b[39m \u001b[43m    \u001b[49m\u001b[43m)\u001b[49m\n",
      "\u001b[36mFile \u001b[39m\u001b[32mc:\\Users\\em\\Desktop\\PFA\\Customer_Support_LLMOps\\llmops_venv\\Lib\\site-packages\\langchain_core\\runnables\\base.py:3049\u001b[39m, in \u001b[36mRunnableSequence.invoke\u001b[39m\u001b[34m(self, input, config, **kwargs)\u001b[39m\n\u001b[32m   3047\u001b[39m                 input_ = context.run(step.invoke, input_, config, **kwargs)\n\u001b[32m   3048\u001b[39m             \u001b[38;5;28;01melse\u001b[39;00m:\n\u001b[32m-> \u001b[39m\u001b[32m3049\u001b[39m                 input_ = \u001b[43mcontext\u001b[49m\u001b[43m.\u001b[49m\u001b[43mrun\u001b[49m\u001b[43m(\u001b[49m\u001b[43mstep\u001b[49m\u001b[43m.\u001b[49m\u001b[43minvoke\u001b[49m\u001b[43m,\u001b[49m\u001b[43m \u001b[49m\u001b[43minput_\u001b[49m\u001b[43m,\u001b[49m\u001b[43m \u001b[49m\u001b[43mconfig\u001b[49m\u001b[43m)\u001b[49m\n\u001b[32m   3050\u001b[39m \u001b[38;5;66;03m# finish the root run\u001b[39;00m\n\u001b[32m   3051\u001b[39m \u001b[38;5;28;01mexcept\u001b[39;00m \u001b[38;5;167;01mBaseException\u001b[39;00m \u001b[38;5;28;01mas\u001b[39;00m e:\n",
      "\u001b[36mFile \u001b[39m\u001b[32mc:\\Users\\em\\Desktop\\PFA\\Customer_Support_LLMOps\\llmops_venv\\Lib\\site-packages\\langchain_core\\language_models\\llms.py:389\u001b[39m, in \u001b[36mBaseLLM.invoke\u001b[39m\u001b[34m(self, input, config, stop, **kwargs)\u001b[39m\n\u001b[32m    378\u001b[39m \u001b[38;5;129m@override\u001b[39m\n\u001b[32m    379\u001b[39m \u001b[38;5;28;01mdef\u001b[39;00m\u001b[38;5;250m \u001b[39m\u001b[34minvoke\u001b[39m(\n\u001b[32m    380\u001b[39m     \u001b[38;5;28mself\u001b[39m,\n\u001b[32m   (...)\u001b[39m\u001b[32m    385\u001b[39m     **kwargs: Any,\n\u001b[32m    386\u001b[39m ) -> \u001b[38;5;28mstr\u001b[39m:\n\u001b[32m    387\u001b[39m     config = ensure_config(config)\n\u001b[32m    388\u001b[39m     \u001b[38;5;28;01mreturn\u001b[39;00m (\n\u001b[32m--> \u001b[39m\u001b[32m389\u001b[39m         \u001b[38;5;28;43mself\u001b[39;49m\u001b[43m.\u001b[49m\u001b[43mgenerate_prompt\u001b[49m\u001b[43m(\u001b[49m\n\u001b[32m    390\u001b[39m \u001b[43m            \u001b[49m\u001b[43m[\u001b[49m\u001b[38;5;28;43mself\u001b[39;49m\u001b[43m.\u001b[49m\u001b[43m_convert_input\u001b[49m\u001b[43m(\u001b[49m\u001b[38;5;28;43minput\u001b[39;49m\u001b[43m)\u001b[49m\u001b[43m]\u001b[49m\u001b[43m,\u001b[49m\n\u001b[32m    391\u001b[39m \u001b[43m            \u001b[49m\u001b[43mstop\u001b[49m\u001b[43m=\u001b[49m\u001b[43mstop\u001b[49m\u001b[43m,\u001b[49m\n\u001b[32m    392\u001b[39m \u001b[43m            \u001b[49m\u001b[43mcallbacks\u001b[49m\u001b[43m=\u001b[49m\u001b[43mconfig\u001b[49m\u001b[43m.\u001b[49m\u001b[43mget\u001b[49m\u001b[43m(\u001b[49m\u001b[33;43m\"\u001b[39;49m\u001b[33;43mcallbacks\u001b[39;49m\u001b[33;43m\"\u001b[39;49m\u001b[43m)\u001b[49m\u001b[43m,\u001b[49m\n\u001b[32m    393\u001b[39m \u001b[43m            \u001b[49m\u001b[43mtags\u001b[49m\u001b[43m=\u001b[49m\u001b[43mconfig\u001b[49m\u001b[43m.\u001b[49m\u001b[43mget\u001b[49m\u001b[43m(\u001b[49m\u001b[33;43m\"\u001b[39;49m\u001b[33;43mtags\u001b[39;49m\u001b[33;43m\"\u001b[39;49m\u001b[43m)\u001b[49m\u001b[43m,\u001b[49m\n\u001b[32m    394\u001b[39m \u001b[43m            \u001b[49m\u001b[43mmetadata\u001b[49m\u001b[43m=\u001b[49m\u001b[43mconfig\u001b[49m\u001b[43m.\u001b[49m\u001b[43mget\u001b[49m\u001b[43m(\u001b[49m\u001b[33;43m\"\u001b[39;49m\u001b[33;43mmetadata\u001b[39;49m\u001b[33;43m\"\u001b[39;49m\u001b[43m)\u001b[49m\u001b[43m,\u001b[49m\n\u001b[32m    395\u001b[39m \u001b[43m            \u001b[49m\u001b[43mrun_name\u001b[49m\u001b[43m=\u001b[49m\u001b[43mconfig\u001b[49m\u001b[43m.\u001b[49m\u001b[43mget\u001b[49m\u001b[43m(\u001b[49m\u001b[33;43m\"\u001b[39;49m\u001b[33;43mrun_name\u001b[39;49m\u001b[33;43m\"\u001b[39;49m\u001b[43m)\u001b[49m\u001b[43m,\u001b[49m\n\u001b[32m    396\u001b[39m \u001b[43m            \u001b[49m\u001b[43mrun_id\u001b[49m\u001b[43m=\u001b[49m\u001b[43mconfig\u001b[49m\u001b[43m.\u001b[49m\u001b[43mpop\u001b[49m\u001b[43m(\u001b[49m\u001b[33;43m\"\u001b[39;49m\u001b[33;43mrun_id\u001b[39;49m\u001b[33;43m\"\u001b[39;49m\u001b[43m,\u001b[49m\u001b[43m \u001b[49m\u001b[38;5;28;43;01mNone\u001b[39;49;00m\u001b[43m)\u001b[49m\u001b[43m,\u001b[49m\n\u001b[32m    397\u001b[39m \u001b[43m            \u001b[49m\u001b[43m*\u001b[49m\u001b[43m*\u001b[49m\u001b[43mkwargs\u001b[49m\u001b[43m,\u001b[49m\n\u001b[32m    398\u001b[39m \u001b[43m        \u001b[49m\u001b[43m)\u001b[49m\n\u001b[32m    399\u001b[39m         .generations[\u001b[32m0\u001b[39m][\u001b[32m0\u001b[39m]\n\u001b[32m    400\u001b[39m         .text\n\u001b[32m    401\u001b[39m     )\n",
      "\u001b[36mFile \u001b[39m\u001b[32mc:\\Users\\em\\Desktop\\PFA\\Customer_Support_LLMOps\\llmops_venv\\Lib\\site-packages\\langchain_core\\language_models\\llms.py:766\u001b[39m, in \u001b[36mBaseLLM.generate_prompt\u001b[39m\u001b[34m(self, prompts, stop, callbacks, **kwargs)\u001b[39m\n\u001b[32m    757\u001b[39m \u001b[38;5;129m@override\u001b[39m\n\u001b[32m    758\u001b[39m \u001b[38;5;28;01mdef\u001b[39;00m\u001b[38;5;250m \u001b[39m\u001b[34mgenerate_prompt\u001b[39m(\n\u001b[32m    759\u001b[39m     \u001b[38;5;28mself\u001b[39m,\n\u001b[32m   (...)\u001b[39m\u001b[32m    763\u001b[39m     **kwargs: Any,\n\u001b[32m    764\u001b[39m ) -> LLMResult:\n\u001b[32m    765\u001b[39m     prompt_strings = [p.to_string() \u001b[38;5;28;01mfor\u001b[39;00m p \u001b[38;5;129;01min\u001b[39;00m prompts]\n\u001b[32m--> \u001b[39m\u001b[32m766\u001b[39m     \u001b[38;5;28;01mreturn\u001b[39;00m \u001b[38;5;28;43mself\u001b[39;49m\u001b[43m.\u001b[49m\u001b[43mgenerate\u001b[49m\u001b[43m(\u001b[49m\u001b[43mprompt_strings\u001b[49m\u001b[43m,\u001b[49m\u001b[43m \u001b[49m\u001b[43mstop\u001b[49m\u001b[43m=\u001b[49m\u001b[43mstop\u001b[49m\u001b[43m,\u001b[49m\u001b[43m \u001b[49m\u001b[43mcallbacks\u001b[49m\u001b[43m=\u001b[49m\u001b[43mcallbacks\u001b[49m\u001b[43m,\u001b[49m\u001b[43m \u001b[49m\u001b[43m*\u001b[49m\u001b[43m*\u001b[49m\u001b[43mkwargs\u001b[49m\u001b[43m)\u001b[49m\n",
      "\u001b[36mFile \u001b[39m\u001b[32mc:\\Users\\em\\Desktop\\PFA\\Customer_Support_LLMOps\\llmops_venv\\Lib\\site-packages\\langchain_core\\language_models\\llms.py:971\u001b[39m, in \u001b[36mBaseLLM.generate\u001b[39m\u001b[34m(self, prompts, stop, callbacks, tags, metadata, run_name, run_id, **kwargs)\u001b[39m\n\u001b[32m    956\u001b[39m \u001b[38;5;28;01mif\u001b[39;00m (\u001b[38;5;28mself\u001b[39m.cache \u001b[38;5;129;01mis\u001b[39;00m \u001b[38;5;28;01mNone\u001b[39;00m \u001b[38;5;129;01mand\u001b[39;00m get_llm_cache() \u001b[38;5;129;01mis\u001b[39;00m \u001b[38;5;28;01mNone\u001b[39;00m) \u001b[38;5;129;01mor\u001b[39;00m \u001b[38;5;28mself\u001b[39m.cache \u001b[38;5;129;01mis\u001b[39;00m \u001b[38;5;28;01mFalse\u001b[39;00m:\n\u001b[32m    957\u001b[39m     run_managers = [\n\u001b[32m    958\u001b[39m         callback_manager.on_llm_start(\n\u001b[32m    959\u001b[39m             \u001b[38;5;28mself\u001b[39m._serialized,\n\u001b[32m   (...)\u001b[39m\u001b[32m    969\u001b[39m         )\n\u001b[32m    970\u001b[39m     ]\n\u001b[32m--> \u001b[39m\u001b[32m971\u001b[39m     \u001b[38;5;28;01mreturn\u001b[39;00m \u001b[38;5;28;43mself\u001b[39;49m\u001b[43m.\u001b[49m\u001b[43m_generate_helper\u001b[49m\u001b[43m(\u001b[49m\n\u001b[32m    972\u001b[39m \u001b[43m        \u001b[49m\u001b[43mprompts\u001b[49m\u001b[43m,\u001b[49m\n\u001b[32m    973\u001b[39m \u001b[43m        \u001b[49m\u001b[43mstop\u001b[49m\u001b[43m,\u001b[49m\n\u001b[32m    974\u001b[39m \u001b[43m        \u001b[49m\u001b[43mrun_managers\u001b[49m\u001b[43m,\u001b[49m\n\u001b[32m    975\u001b[39m \u001b[43m        \u001b[49m\u001b[43mnew_arg_supported\u001b[49m\u001b[43m=\u001b[49m\u001b[38;5;28;43mbool\u001b[39;49m\u001b[43m(\u001b[49m\u001b[43mnew_arg_supported\u001b[49m\u001b[43m)\u001b[49m\u001b[43m,\u001b[49m\n\u001b[32m    976\u001b[39m \u001b[43m        \u001b[49m\u001b[43m*\u001b[49m\u001b[43m*\u001b[49m\u001b[43mkwargs\u001b[49m\u001b[43m,\u001b[49m\n\u001b[32m    977\u001b[39m \u001b[43m    \u001b[49m\u001b[43m)\u001b[49m\n\u001b[32m    978\u001b[39m \u001b[38;5;28;01mif\u001b[39;00m \u001b[38;5;28mlen\u001b[39m(missing_prompts) > \u001b[32m0\u001b[39m:\n\u001b[32m    979\u001b[39m     run_managers = [\n\u001b[32m    980\u001b[39m         callback_managers[idx].on_llm_start(\n\u001b[32m    981\u001b[39m             \u001b[38;5;28mself\u001b[39m._serialized,\n\u001b[32m   (...)\u001b[39m\u001b[32m    988\u001b[39m         \u001b[38;5;28;01mfor\u001b[39;00m idx \u001b[38;5;129;01min\u001b[39;00m missing_prompt_idxs\n\u001b[32m    989\u001b[39m     ]\n",
      "\u001b[36mFile \u001b[39m\u001b[32mc:\\Users\\em\\Desktop\\PFA\\Customer_Support_LLMOps\\llmops_venv\\Lib\\site-packages\\langchain_core\\language_models\\llms.py:792\u001b[39m, in \u001b[36mBaseLLM._generate_helper\u001b[39m\u001b[34m(self, prompts, stop, run_managers, new_arg_supported, **kwargs)\u001b[39m\n\u001b[32m    781\u001b[39m \u001b[38;5;28;01mdef\u001b[39;00m\u001b[38;5;250m \u001b[39m\u001b[34m_generate_helper\u001b[39m(\n\u001b[32m    782\u001b[39m     \u001b[38;5;28mself\u001b[39m,\n\u001b[32m    783\u001b[39m     prompts: \u001b[38;5;28mlist\u001b[39m[\u001b[38;5;28mstr\u001b[39m],\n\u001b[32m   (...)\u001b[39m\u001b[32m    788\u001b[39m     **kwargs: Any,\n\u001b[32m    789\u001b[39m ) -> LLMResult:\n\u001b[32m    790\u001b[39m     \u001b[38;5;28;01mtry\u001b[39;00m:\n\u001b[32m    791\u001b[39m         output = (\n\u001b[32m--> \u001b[39m\u001b[32m792\u001b[39m             \u001b[38;5;28;43mself\u001b[39;49m\u001b[43m.\u001b[49m\u001b[43m_generate\u001b[49m\u001b[43m(\u001b[49m\n\u001b[32m    793\u001b[39m \u001b[43m                \u001b[49m\u001b[43mprompts\u001b[49m\u001b[43m,\u001b[49m\n\u001b[32m    794\u001b[39m \u001b[43m                \u001b[49m\u001b[43mstop\u001b[49m\u001b[43m=\u001b[49m\u001b[43mstop\u001b[49m\u001b[43m,\u001b[49m\n\u001b[32m    795\u001b[39m \u001b[43m                \u001b[49m\u001b[38;5;66;43;03m# TODO: support multiple run managers\u001b[39;49;00m\n\u001b[32m    796\u001b[39m \u001b[43m                \u001b[49m\u001b[43mrun_manager\u001b[49m\u001b[43m=\u001b[49m\u001b[43mrun_managers\u001b[49m\u001b[43m[\u001b[49m\u001b[32;43m0\u001b[39;49m\u001b[43m]\u001b[49m\u001b[43m \u001b[49m\u001b[38;5;28;43;01mif\u001b[39;49;00m\u001b[43m \u001b[49m\u001b[43mrun_managers\u001b[49m\u001b[43m \u001b[49m\u001b[38;5;28;43;01melse\u001b[39;49;00m\u001b[43m \u001b[49m\u001b[38;5;28;43;01mNone\u001b[39;49;00m\u001b[43m,\u001b[49m\n\u001b[32m    797\u001b[39m \u001b[43m                \u001b[49m\u001b[43m*\u001b[49m\u001b[43m*\u001b[49m\u001b[43mkwargs\u001b[49m\u001b[43m,\u001b[49m\n\u001b[32m    798\u001b[39m \u001b[43m            \u001b[49m\u001b[43m)\u001b[49m\n\u001b[32m    799\u001b[39m             \u001b[38;5;28;01mif\u001b[39;00m new_arg_supported\n\u001b[32m    800\u001b[39m             \u001b[38;5;28;01melse\u001b[39;00m \u001b[38;5;28mself\u001b[39m._generate(prompts, stop=stop)\n\u001b[32m    801\u001b[39m         )\n\u001b[32m    802\u001b[39m     \u001b[38;5;28;01mexcept\u001b[39;00m \u001b[38;5;167;01mBaseException\u001b[39;00m \u001b[38;5;28;01mas\u001b[39;00m e:\n\u001b[32m    803\u001b[39m         \u001b[38;5;28;01mfor\u001b[39;00m run_manager \u001b[38;5;129;01min\u001b[39;00m run_managers:\n",
      "\u001b[36mFile \u001b[39m\u001b[32mc:\\Users\\em\\Desktop\\PFA\\Customer_Support_LLMOps\\llmops_venv\\Lib\\site-packages\\langchain_openai\\llms\\base.py:330\u001b[39m, in \u001b[36mBaseOpenAI._generate\u001b[39m\u001b[34m(self, prompts, stop, run_manager, **kwargs)\u001b[39m\n\u001b[32m    314\u001b[39m     choices.append(\n\u001b[32m    315\u001b[39m         {\n\u001b[32m    316\u001b[39m             \u001b[33m\"\u001b[39m\u001b[33mtext\u001b[39m\u001b[33m\"\u001b[39m: generation.text,\n\u001b[32m   (...)\u001b[39m\u001b[32m    327\u001b[39m         }\n\u001b[32m    328\u001b[39m     )\n\u001b[32m    329\u001b[39m \u001b[38;5;28;01melse\u001b[39;00m:\n\u001b[32m--> \u001b[39m\u001b[32m330\u001b[39m     response = \u001b[38;5;28;43mself\u001b[39;49m\u001b[43m.\u001b[49m\u001b[43mclient\u001b[49m\u001b[43m.\u001b[49m\u001b[43mcreate\u001b[49m\u001b[43m(\u001b[49m\u001b[43mprompt\u001b[49m\u001b[43m=\u001b[49m\u001b[43m_prompts\u001b[49m\u001b[43m,\u001b[49m\u001b[43m \u001b[49m\u001b[43m*\u001b[49m\u001b[43m*\u001b[49m\u001b[43mparams\u001b[49m\u001b[43m)\u001b[49m\n\u001b[32m    331\u001b[39m     \u001b[38;5;28;01mif\u001b[39;00m \u001b[38;5;129;01mnot\u001b[39;00m \u001b[38;5;28misinstance\u001b[39m(response, \u001b[38;5;28mdict\u001b[39m):\n\u001b[32m    332\u001b[39m         \u001b[38;5;66;03m# V1 client returns the response in an PyDantic object instead of\u001b[39;00m\n\u001b[32m    333\u001b[39m         \u001b[38;5;66;03m# dict. For the transition period, we deep convert it to dict.\u001b[39;00m\n\u001b[32m    334\u001b[39m         response = response.model_dump()\n",
      "\u001b[36mFile \u001b[39m\u001b[32mc:\\Users\\em\\Desktop\\PFA\\Customer_Support_LLMOps\\llmops_venv\\Lib\\site-packages\\openai\\_utils\\_utils.py:287\u001b[39m, in \u001b[36mrequired_args.<locals>.inner.<locals>.wrapper\u001b[39m\u001b[34m(*args, **kwargs)\u001b[39m\n\u001b[32m    285\u001b[39m             msg = \u001b[33mf\u001b[39m\u001b[33m\"\u001b[39m\u001b[33mMissing required argument: \u001b[39m\u001b[38;5;132;01m{\u001b[39;00mquote(missing[\u001b[32m0\u001b[39m])\u001b[38;5;132;01m}\u001b[39;00m\u001b[33m\"\u001b[39m\n\u001b[32m    286\u001b[39m     \u001b[38;5;28;01mraise\u001b[39;00m \u001b[38;5;167;01mTypeError\u001b[39;00m(msg)\n\u001b[32m--> \u001b[39m\u001b[32m287\u001b[39m \u001b[38;5;28;01mreturn\u001b[39;00m \u001b[43mfunc\u001b[49m\u001b[43m(\u001b[49m\u001b[43m*\u001b[49m\u001b[43margs\u001b[49m\u001b[43m,\u001b[49m\u001b[43m \u001b[49m\u001b[43m*\u001b[49m\u001b[43m*\u001b[49m\u001b[43mkwargs\u001b[49m\u001b[43m)\u001b[49m\n",
      "\u001b[36mFile \u001b[39m\u001b[32mc:\\Users\\em\\Desktop\\PFA\\Customer_Support_LLMOps\\llmops_venv\\Lib\\site-packages\\openai\\resources\\completions.py:541\u001b[39m, in \u001b[36mCompletions.create\u001b[39m\u001b[34m(self, model, prompt, best_of, echo, frequency_penalty, logit_bias, logprobs, max_tokens, n, presence_penalty, seed, stop, stream, stream_options, suffix, temperature, top_p, user, extra_headers, extra_query, extra_body, timeout)\u001b[39m\n\u001b[32m    512\u001b[39m \u001b[38;5;129m@required_args\u001b[39m([\u001b[33m\"\u001b[39m\u001b[33mmodel\u001b[39m\u001b[33m\"\u001b[39m, \u001b[33m\"\u001b[39m\u001b[33mprompt\u001b[39m\u001b[33m\"\u001b[39m], [\u001b[33m\"\u001b[39m\u001b[33mmodel\u001b[39m\u001b[33m\"\u001b[39m, \u001b[33m\"\u001b[39m\u001b[33mprompt\u001b[39m\u001b[33m\"\u001b[39m, \u001b[33m\"\u001b[39m\u001b[33mstream\u001b[39m\u001b[33m\"\u001b[39m])\n\u001b[32m    513\u001b[39m \u001b[38;5;28;01mdef\u001b[39;00m\u001b[38;5;250m \u001b[39m\u001b[34mcreate\u001b[39m(\n\u001b[32m    514\u001b[39m     \u001b[38;5;28mself\u001b[39m,\n\u001b[32m   (...)\u001b[39m\u001b[32m    539\u001b[39m     timeout: \u001b[38;5;28mfloat\u001b[39m | httpx.Timeout | \u001b[38;5;28;01mNone\u001b[39;00m | NotGiven = NOT_GIVEN,\n\u001b[32m    540\u001b[39m ) -> Completion | Stream[Completion]:\n\u001b[32m--> \u001b[39m\u001b[32m541\u001b[39m     \u001b[38;5;28;01mreturn\u001b[39;00m \u001b[38;5;28;43mself\u001b[39;49m\u001b[43m.\u001b[49m\u001b[43m_post\u001b[49m\u001b[43m(\u001b[49m\n\u001b[32m    542\u001b[39m \u001b[43m        \u001b[49m\u001b[33;43m\"\u001b[39;49m\u001b[33;43m/completions\u001b[39;49m\u001b[33;43m\"\u001b[39;49m\u001b[43m,\u001b[49m\n\u001b[32m    543\u001b[39m \u001b[43m        \u001b[49m\u001b[43mbody\u001b[49m\u001b[43m=\u001b[49m\u001b[43mmaybe_transform\u001b[49m\u001b[43m(\u001b[49m\n\u001b[32m    544\u001b[39m \u001b[43m            \u001b[49m\u001b[43m{\u001b[49m\n\u001b[32m    545\u001b[39m \u001b[43m                \u001b[49m\u001b[33;43m\"\u001b[39;49m\u001b[33;43mmodel\u001b[39;49m\u001b[33;43m\"\u001b[39;49m\u001b[43m:\u001b[49m\u001b[43m \u001b[49m\u001b[43mmodel\u001b[49m\u001b[43m,\u001b[49m\n\u001b[32m    546\u001b[39m \u001b[43m                \u001b[49m\u001b[33;43m\"\u001b[39;49m\u001b[33;43mprompt\u001b[39;49m\u001b[33;43m\"\u001b[39;49m\u001b[43m:\u001b[49m\u001b[43m \u001b[49m\u001b[43mprompt\u001b[49m\u001b[43m,\u001b[49m\n\u001b[32m    547\u001b[39m \u001b[43m                \u001b[49m\u001b[33;43m\"\u001b[39;49m\u001b[33;43mbest_of\u001b[39;49m\u001b[33;43m\"\u001b[39;49m\u001b[43m:\u001b[49m\u001b[43m \u001b[49m\u001b[43mbest_of\u001b[49m\u001b[43m,\u001b[49m\n\u001b[32m    548\u001b[39m \u001b[43m                \u001b[49m\u001b[33;43m\"\u001b[39;49m\u001b[33;43mecho\u001b[39;49m\u001b[33;43m\"\u001b[39;49m\u001b[43m:\u001b[49m\u001b[43m \u001b[49m\u001b[43mecho\u001b[49m\u001b[43m,\u001b[49m\n\u001b[32m    549\u001b[39m \u001b[43m                \u001b[49m\u001b[33;43m\"\u001b[39;49m\u001b[33;43mfrequency_penalty\u001b[39;49m\u001b[33;43m\"\u001b[39;49m\u001b[43m:\u001b[49m\u001b[43m \u001b[49m\u001b[43mfrequency_penalty\u001b[49m\u001b[43m,\u001b[49m\n\u001b[32m    550\u001b[39m \u001b[43m                \u001b[49m\u001b[33;43m\"\u001b[39;49m\u001b[33;43mlogit_bias\u001b[39;49m\u001b[33;43m\"\u001b[39;49m\u001b[43m:\u001b[49m\u001b[43m \u001b[49m\u001b[43mlogit_bias\u001b[49m\u001b[43m,\u001b[49m\n\u001b[32m    551\u001b[39m \u001b[43m                \u001b[49m\u001b[33;43m\"\u001b[39;49m\u001b[33;43mlogprobs\u001b[39;49m\u001b[33;43m\"\u001b[39;49m\u001b[43m:\u001b[49m\u001b[43m \u001b[49m\u001b[43mlogprobs\u001b[49m\u001b[43m,\u001b[49m\n\u001b[32m    552\u001b[39m \u001b[43m                \u001b[49m\u001b[33;43m\"\u001b[39;49m\u001b[33;43mmax_tokens\u001b[39;49m\u001b[33;43m\"\u001b[39;49m\u001b[43m:\u001b[49m\u001b[43m \u001b[49m\u001b[43mmax_tokens\u001b[49m\u001b[43m,\u001b[49m\n\u001b[32m    553\u001b[39m \u001b[43m                \u001b[49m\u001b[33;43m\"\u001b[39;49m\u001b[33;43mn\u001b[39;49m\u001b[33;43m\"\u001b[39;49m\u001b[43m:\u001b[49m\u001b[43m \u001b[49m\u001b[43mn\u001b[49m\u001b[43m,\u001b[49m\n\u001b[32m    554\u001b[39m \u001b[43m                \u001b[49m\u001b[33;43m\"\u001b[39;49m\u001b[33;43mpresence_penalty\u001b[39;49m\u001b[33;43m\"\u001b[39;49m\u001b[43m:\u001b[49m\u001b[43m \u001b[49m\u001b[43mpresence_penalty\u001b[49m\u001b[43m,\u001b[49m\n\u001b[32m    555\u001b[39m \u001b[43m                \u001b[49m\u001b[33;43m\"\u001b[39;49m\u001b[33;43mseed\u001b[39;49m\u001b[33;43m\"\u001b[39;49m\u001b[43m:\u001b[49m\u001b[43m \u001b[49m\u001b[43mseed\u001b[49m\u001b[43m,\u001b[49m\n\u001b[32m    556\u001b[39m \u001b[43m                \u001b[49m\u001b[33;43m\"\u001b[39;49m\u001b[33;43mstop\u001b[39;49m\u001b[33;43m\"\u001b[39;49m\u001b[43m:\u001b[49m\u001b[43m \u001b[49m\u001b[43mstop\u001b[49m\u001b[43m,\u001b[49m\n\u001b[32m    557\u001b[39m \u001b[43m                \u001b[49m\u001b[33;43m\"\u001b[39;49m\u001b[33;43mstream\u001b[39;49m\u001b[33;43m\"\u001b[39;49m\u001b[43m:\u001b[49m\u001b[43m \u001b[49m\u001b[43mstream\u001b[49m\u001b[43m,\u001b[49m\n\u001b[32m    558\u001b[39m \u001b[43m                \u001b[49m\u001b[33;43m\"\u001b[39;49m\u001b[33;43mstream_options\u001b[39;49m\u001b[33;43m\"\u001b[39;49m\u001b[43m:\u001b[49m\u001b[43m \u001b[49m\u001b[43mstream_options\u001b[49m\u001b[43m,\u001b[49m\n\u001b[32m    559\u001b[39m \u001b[43m                \u001b[49m\u001b[33;43m\"\u001b[39;49m\u001b[33;43msuffix\u001b[39;49m\u001b[33;43m\"\u001b[39;49m\u001b[43m:\u001b[49m\u001b[43m \u001b[49m\u001b[43msuffix\u001b[49m\u001b[43m,\u001b[49m\n\u001b[32m    560\u001b[39m \u001b[43m                \u001b[49m\u001b[33;43m\"\u001b[39;49m\u001b[33;43mtemperature\u001b[39;49m\u001b[33;43m\"\u001b[39;49m\u001b[43m:\u001b[49m\u001b[43m \u001b[49m\u001b[43mtemperature\u001b[49m\u001b[43m,\u001b[49m\n\u001b[32m    561\u001b[39m \u001b[43m                \u001b[49m\u001b[33;43m\"\u001b[39;49m\u001b[33;43mtop_p\u001b[39;49m\u001b[33;43m\"\u001b[39;49m\u001b[43m:\u001b[49m\u001b[43m \u001b[49m\u001b[43mtop_p\u001b[49m\u001b[43m,\u001b[49m\n\u001b[32m    562\u001b[39m \u001b[43m                \u001b[49m\u001b[33;43m\"\u001b[39;49m\u001b[33;43muser\u001b[39;49m\u001b[33;43m\"\u001b[39;49m\u001b[43m:\u001b[49m\u001b[43m \u001b[49m\u001b[43muser\u001b[49m\u001b[43m,\u001b[49m\n\u001b[32m    563\u001b[39m \u001b[43m            \u001b[49m\u001b[43m}\u001b[49m\u001b[43m,\u001b[49m\n\u001b[32m    564\u001b[39m \u001b[43m            \u001b[49m\u001b[43mcompletion_create_params\u001b[49m\u001b[43m.\u001b[49m\u001b[43mCompletionCreateParamsStreaming\u001b[49m\n\u001b[32m    565\u001b[39m \u001b[43m            \u001b[49m\u001b[38;5;28;43;01mif\u001b[39;49;00m\u001b[43m \u001b[49m\u001b[43mstream\u001b[49m\n\u001b[32m    566\u001b[39m \u001b[43m            \u001b[49m\u001b[38;5;28;43;01melse\u001b[39;49;00m\u001b[43m \u001b[49m\u001b[43mcompletion_create_params\u001b[49m\u001b[43m.\u001b[49m\u001b[43mCompletionCreateParamsNonStreaming\u001b[49m\u001b[43m,\u001b[49m\n\u001b[32m    567\u001b[39m \u001b[43m        \u001b[49m\u001b[43m)\u001b[49m\u001b[43m,\u001b[49m\n\u001b[32m    568\u001b[39m \u001b[43m        \u001b[49m\u001b[43moptions\u001b[49m\u001b[43m=\u001b[49m\u001b[43mmake_request_options\u001b[49m\u001b[43m(\u001b[49m\n\u001b[32m    569\u001b[39m \u001b[43m            \u001b[49m\u001b[43mextra_headers\u001b[49m\u001b[43m=\u001b[49m\u001b[43mextra_headers\u001b[49m\u001b[43m,\u001b[49m\u001b[43m \u001b[49m\u001b[43mextra_query\u001b[49m\u001b[43m=\u001b[49m\u001b[43mextra_query\u001b[49m\u001b[43m,\u001b[49m\u001b[43m \u001b[49m\u001b[43mextra_body\u001b[49m\u001b[43m=\u001b[49m\u001b[43mextra_body\u001b[49m\u001b[43m,\u001b[49m\u001b[43m \u001b[49m\u001b[43mtimeout\u001b[49m\u001b[43m=\u001b[49m\u001b[43mtimeout\u001b[49m\n\u001b[32m    570\u001b[39m \u001b[43m        \u001b[49m\u001b[43m)\u001b[49m\u001b[43m,\u001b[49m\n\u001b[32m    571\u001b[39m \u001b[43m        \u001b[49m\u001b[43mcast_to\u001b[49m\u001b[43m=\u001b[49m\u001b[43mCompletion\u001b[49m\u001b[43m,\u001b[49m\n\u001b[32m    572\u001b[39m \u001b[43m        \u001b[49m\u001b[43mstream\u001b[49m\u001b[43m=\u001b[49m\u001b[43mstream\u001b[49m\u001b[43m \u001b[49m\u001b[38;5;129;43;01mor\u001b[39;49;00m\u001b[43m \u001b[49m\u001b[38;5;28;43;01mFalse\u001b[39;49;00m\u001b[43m,\u001b[49m\n\u001b[32m    573\u001b[39m \u001b[43m        \u001b[49m\u001b[43mstream_cls\u001b[49m\u001b[43m=\u001b[49m\u001b[43mStream\u001b[49m\u001b[43m[\u001b[49m\u001b[43mCompletion\u001b[49m\u001b[43m]\u001b[49m\u001b[43m,\u001b[49m\n\u001b[32m    574\u001b[39m \u001b[43m    \u001b[49m\u001b[43m)\u001b[49m\n",
      "\u001b[36mFile \u001b[39m\u001b[32mc:\\Users\\em\\Desktop\\PFA\\Customer_Support_LLMOps\\llmops_venv\\Lib\\site-packages\\openai\\_base_client.py:1259\u001b[39m, in \u001b[36mSyncAPIClient.post\u001b[39m\u001b[34m(self, path, cast_to, body, options, files, stream, stream_cls)\u001b[39m\n\u001b[32m   1245\u001b[39m \u001b[38;5;28;01mdef\u001b[39;00m\u001b[38;5;250m \u001b[39m\u001b[34mpost\u001b[39m(\n\u001b[32m   1246\u001b[39m     \u001b[38;5;28mself\u001b[39m,\n\u001b[32m   1247\u001b[39m     path: \u001b[38;5;28mstr\u001b[39m,\n\u001b[32m   (...)\u001b[39m\u001b[32m   1254\u001b[39m     stream_cls: \u001b[38;5;28mtype\u001b[39m[_StreamT] | \u001b[38;5;28;01mNone\u001b[39;00m = \u001b[38;5;28;01mNone\u001b[39;00m,\n\u001b[32m   1255\u001b[39m ) -> ResponseT | _StreamT:\n\u001b[32m   1256\u001b[39m     opts = FinalRequestOptions.construct(\n\u001b[32m   1257\u001b[39m         method=\u001b[33m\"\u001b[39m\u001b[33mpost\u001b[39m\u001b[33m\"\u001b[39m, url=path, json_data=body, files=to_httpx_files(files), **options\n\u001b[32m   1258\u001b[39m     )\n\u001b[32m-> \u001b[39m\u001b[32m1259\u001b[39m     \u001b[38;5;28;01mreturn\u001b[39;00m cast(ResponseT, \u001b[38;5;28;43mself\u001b[39;49m\u001b[43m.\u001b[49m\u001b[43mrequest\u001b[49m\u001b[43m(\u001b[49m\u001b[43mcast_to\u001b[49m\u001b[43m,\u001b[49m\u001b[43m \u001b[49m\u001b[43mopts\u001b[49m\u001b[43m,\u001b[49m\u001b[43m \u001b[49m\u001b[43mstream\u001b[49m\u001b[43m=\u001b[49m\u001b[43mstream\u001b[49m\u001b[43m,\u001b[49m\u001b[43m \u001b[49m\u001b[43mstream_cls\u001b[49m\u001b[43m=\u001b[49m\u001b[43mstream_cls\u001b[49m\u001b[43m)\u001b[49m)\n",
      "\u001b[36mFile \u001b[39m\u001b[32mc:\\Users\\em\\Desktop\\PFA\\Customer_Support_LLMOps\\llmops_venv\\Lib\\site-packages\\openai\\_base_client.py:1047\u001b[39m, in \u001b[36mSyncAPIClient.request\u001b[39m\u001b[34m(self, cast_to, options, stream, stream_cls)\u001b[39m\n\u001b[32m   1044\u001b[39m             err.response.read()\n\u001b[32m   1046\u001b[39m         log.debug(\u001b[33m\"\u001b[39m\u001b[33mRe-raising status error\u001b[39m\u001b[33m\"\u001b[39m)\n\u001b[32m-> \u001b[39m\u001b[32m1047\u001b[39m         \u001b[38;5;28;01mraise\u001b[39;00m \u001b[38;5;28mself\u001b[39m._make_status_error_from_response(err.response) \u001b[38;5;28;01mfrom\u001b[39;00m\u001b[38;5;250m \u001b[39m\u001b[38;5;28;01mNone\u001b[39;00m\n\u001b[32m   1049\u001b[39m     \u001b[38;5;28;01mbreak\u001b[39;00m\n\u001b[32m   1051\u001b[39m \u001b[38;5;28;01massert\u001b[39;00m response \u001b[38;5;129;01mis\u001b[39;00m \u001b[38;5;129;01mnot\u001b[39;00m \u001b[38;5;28;01mNone\u001b[39;00m, \u001b[33m\"\u001b[39m\u001b[33mcould not resolve response (should never happen)\u001b[39m\u001b[33m\"\u001b[39m\n",
      "\u001b[31mRateLimitError\u001b[39m: Error code: 429 - {'error': {'message': 'You exceeded your current quota, please check your plan and billing details. For more information on this error, read the docs: https://platform.openai.com/docs/guides/error-codes/api-errors.', 'type': 'insufficient_quota', 'param': None, 'code': 'insufficient_quota'}}"
     ]
    }
   ],
   "source": [
    "response = rag_chain.invoke({\"input\": \"what is codNetwork\"})\n",
    "print(response[\"answer\"])"
   ]
  },
  {
   "cell_type": "code",
   "execution_count": null,
   "id": "6d0583c4",
   "metadata": {},
   "outputs": [],
   "source": []
  },
  {
   "cell_type": "code",
   "execution_count": null,
   "id": "d5189f4b",
   "metadata": {},
   "outputs": [],
   "source": []
  },
  {
   "cell_type": "code",
   "execution_count": null,
   "id": "007a0503",
   "metadata": {},
   "outputs": [],
   "source": []
  },
  {
   "cell_type": "code",
   "execution_count": null,
   "id": "24e3ea03",
   "metadata": {},
   "outputs": [],
   "source": []
  },
  {
   "cell_type": "code",
   "execution_count": null,
   "id": "2000d48e",
   "metadata": {},
   "outputs": [],
   "source": []
  },
  {
   "cell_type": "code",
   "execution_count": null,
   "id": "5c85a0d6",
   "metadata": {},
   "outputs": [],
   "source": []
  },
  {
   "cell_type": "code",
   "execution_count": null,
   "id": "9b599360",
   "metadata": {},
   "outputs": [],
   "source": []
  },
  {
   "cell_type": "code",
   "execution_count": null,
   "id": "f7069511",
   "metadata": {},
   "outputs": [],
   "source": []
  }
 ],
 "metadata": {
  "kernelspec": {
   "display_name": "llmops_venv",
   "language": "python",
   "name": "python3"
  },
  "language_info": {
   "codemirror_mode": {
    "name": "ipython",
    "version": 3
   },
   "file_extension": ".py",
   "mimetype": "text/x-python",
   "name": "python",
   "nbconvert_exporter": "python",
   "pygments_lexer": "ipython3",
   "version": "3.12.7"
  }
 },
 "nbformat": 4,
 "nbformat_minor": 5
}
